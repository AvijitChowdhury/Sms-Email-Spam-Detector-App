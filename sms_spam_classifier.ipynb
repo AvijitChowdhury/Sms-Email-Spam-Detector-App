{
 "cells": [
  {
   "cell_type": "markdown",
   "metadata": {
    "id": "9A3GYFQm7jyt"
   },
   "source": [
    "#Importing Dependencies"
   ]
  },
  {
   "cell_type": "code",
   "execution_count": 1,
   "metadata": {
    "id": "TbuzAXgp7pYN"
   },
   "outputs": [],
   "source": [
    "import pandas as pd\n",
    "import numpy as np"
   ]
  },
  {
   "cell_type": "markdown",
   "metadata": {
    "id": "LCbqZBf45btQ"
   },
   "source": [
    "# Data Collection & Pre-Processing"
   ]
  },
  {
   "cell_type": "code",
   "execution_count": 2,
   "metadata": {
    "id": "VxMNDtxb5n1v"
   },
   "outputs": [],
   "source": [
    "dataset = pd.read_csv('spam.csv',encoding='latin-1')"
   ]
  },
  {
   "cell_type": "code",
   "execution_count": 3,
   "metadata": {
    "colab": {
     "base_uri": "https://localhost:8080/",
     "height": 250
    },
    "id": "Fonz2Od35rZ2",
    "outputId": "6d40572a-cd80-4725-b4de-516931ba0385"
   },
   "outputs": [
    {
     "data": {
      "text/html": [
       "<div>\n",
       "<style scoped>\n",
       "    .dataframe tbody tr th:only-of-type {\n",
       "        vertical-align: middle;\n",
       "    }\n",
       "\n",
       "    .dataframe tbody tr th {\n",
       "        vertical-align: top;\n",
       "    }\n",
       "\n",
       "    .dataframe thead th {\n",
       "        text-align: right;\n",
       "    }\n",
       "</style>\n",
       "<table border=\"1\" class=\"dataframe\">\n",
       "  <thead>\n",
       "    <tr style=\"text-align: right;\">\n",
       "      <th></th>\n",
       "      <th>v1</th>\n",
       "      <th>v2</th>\n",
       "      <th>Unnamed: 2</th>\n",
       "      <th>Unnamed: 3</th>\n",
       "      <th>Unnamed: 4</th>\n",
       "    </tr>\n",
       "  </thead>\n",
       "  <tbody>\n",
       "    <tr>\n",
       "      <th>0</th>\n",
       "      <td>ham</td>\n",
       "      <td>Go until jurong point, crazy.. Available only ...</td>\n",
       "      <td>NaN</td>\n",
       "      <td>NaN</td>\n",
       "      <td>NaN</td>\n",
       "    </tr>\n",
       "    <tr>\n",
       "      <th>1</th>\n",
       "      <td>ham</td>\n",
       "      <td>Ok lar... Joking wif u oni...</td>\n",
       "      <td>NaN</td>\n",
       "      <td>NaN</td>\n",
       "      <td>NaN</td>\n",
       "    </tr>\n",
       "    <tr>\n",
       "      <th>2</th>\n",
       "      <td>spam</td>\n",
       "      <td>Free entry in 2 a wkly comp to win FA Cup fina...</td>\n",
       "      <td>NaN</td>\n",
       "      <td>NaN</td>\n",
       "      <td>NaN</td>\n",
       "    </tr>\n",
       "    <tr>\n",
       "      <th>3</th>\n",
       "      <td>ham</td>\n",
       "      <td>U dun say so early hor... U c already then say...</td>\n",
       "      <td>NaN</td>\n",
       "      <td>NaN</td>\n",
       "      <td>NaN</td>\n",
       "    </tr>\n",
       "    <tr>\n",
       "      <th>4</th>\n",
       "      <td>ham</td>\n",
       "      <td>Nah I don't think he goes to usf, he lives aro...</td>\n",
       "      <td>NaN</td>\n",
       "      <td>NaN</td>\n",
       "      <td>NaN</td>\n",
       "    </tr>\n",
       "  </tbody>\n",
       "</table>\n",
       "</div>"
      ],
      "text/plain": [
       "     v1                                                 v2 Unnamed: 2  \\\n",
       "0   ham  Go until jurong point, crazy.. Available only ...        NaN   \n",
       "1   ham                      Ok lar... Joking wif u oni...        NaN   \n",
       "2  spam  Free entry in 2 a wkly comp to win FA Cup fina...        NaN   \n",
       "3   ham  U dun say so early hor... U c already then say...        NaN   \n",
       "4   ham  Nah I don't think he goes to usf, he lives aro...        NaN   \n",
       "\n",
       "  Unnamed: 3 Unnamed: 4  \n",
       "0        NaN        NaN  \n",
       "1        NaN        NaN  \n",
       "2        NaN        NaN  \n",
       "3        NaN        NaN  \n",
       "4        NaN        NaN  "
      ]
     },
     "execution_count": 3,
     "metadata": {},
     "output_type": "execute_result"
    }
   ],
   "source": [
    "dataset.head()"
   ]
  },
  {
   "cell_type": "code",
   "execution_count": 4,
   "metadata": {
    "colab": {
     "base_uri": "https://localhost:8080/"
    },
    "id": "zwnKxCq68KMt",
    "outputId": "41537f4c-b82d-4d4f-f6fd-91a88089acf6"
   },
   "outputs": [
    {
     "data": {
      "text/plain": [
       "(5572, 5)"
      ]
     },
     "execution_count": 4,
     "metadata": {},
     "output_type": "execute_result"
    }
   ],
   "source": [
    "dataset.shape"
   ]
  },
  {
   "cell_type": "markdown",
   "metadata": {
    "id": "nMoA-IsE8AeF"
   },
   "source": [
    "# 1 Data Cleaning"
   ]
  },
  {
   "cell_type": "code",
   "execution_count": 5,
   "metadata": {
    "id": "xYcPB3RD5_8G"
   },
   "outputs": [],
   "source": [
    "dataset.drop(columns=['Unnamed: 2','Unnamed: 3','Unnamed: 4'],inplace=True)"
   ]
  },
  {
   "cell_type": "code",
   "execution_count": 6,
   "metadata": {
    "colab": {
     "base_uri": "https://localhost:8080/",
     "height": 206
    },
    "id": "eZ9cGuMN6wxF",
    "outputId": "8d358abe-e331-4ee8-ff75-3ae7213d936f"
   },
   "outputs": [
    {
     "data": {
      "text/html": [
       "<div>\n",
       "<style scoped>\n",
       "    .dataframe tbody tr th:only-of-type {\n",
       "        vertical-align: middle;\n",
       "    }\n",
       "\n",
       "    .dataframe tbody tr th {\n",
       "        vertical-align: top;\n",
       "    }\n",
       "\n",
       "    .dataframe thead th {\n",
       "        text-align: right;\n",
       "    }\n",
       "</style>\n",
       "<table border=\"1\" class=\"dataframe\">\n",
       "  <thead>\n",
       "    <tr style=\"text-align: right;\">\n",
       "      <th></th>\n",
       "      <th>v1</th>\n",
       "      <th>v2</th>\n",
       "    </tr>\n",
       "  </thead>\n",
       "  <tbody>\n",
       "    <tr>\n",
       "      <th>0</th>\n",
       "      <td>ham</td>\n",
       "      <td>Go until jurong point, crazy.. Available only ...</td>\n",
       "    </tr>\n",
       "    <tr>\n",
       "      <th>1</th>\n",
       "      <td>ham</td>\n",
       "      <td>Ok lar... Joking wif u oni...</td>\n",
       "    </tr>\n",
       "    <tr>\n",
       "      <th>2</th>\n",
       "      <td>spam</td>\n",
       "      <td>Free entry in 2 a wkly comp to win FA Cup fina...</td>\n",
       "    </tr>\n",
       "    <tr>\n",
       "      <th>3</th>\n",
       "      <td>ham</td>\n",
       "      <td>U dun say so early hor... U c already then say...</td>\n",
       "    </tr>\n",
       "    <tr>\n",
       "      <th>4</th>\n",
       "      <td>ham</td>\n",
       "      <td>Nah I don't think he goes to usf, he lives aro...</td>\n",
       "    </tr>\n",
       "  </tbody>\n",
       "</table>\n",
       "</div>"
      ],
      "text/plain": [
       "     v1                                                 v2\n",
       "0   ham  Go until jurong point, crazy.. Available only ...\n",
       "1   ham                      Ok lar... Joking wif u oni...\n",
       "2  spam  Free entry in 2 a wkly comp to win FA Cup fina...\n",
       "3   ham  U dun say so early hor... U c already then say...\n",
       "4   ham  Nah I don't think he goes to usf, he lives aro..."
      ]
     },
     "execution_count": 6,
     "metadata": {},
     "output_type": "execute_result"
    }
   ],
   "source": [
    "dataset.head()"
   ]
  },
  {
   "cell_type": "code",
   "execution_count": 7,
   "metadata": {
    "colab": {
     "base_uri": "https://localhost:8080/"
    },
    "id": "8VTBJklA8HDF",
    "outputId": "17632f10-073a-42f2-ed5d-7673715d26f0"
   },
   "outputs": [
    {
     "data": {
      "text/plain": [
       "(5572, 2)"
      ]
     },
     "execution_count": 7,
     "metadata": {},
     "output_type": "execute_result"
    }
   ],
   "source": [
    "dataset.shape"
   ]
  },
  {
   "cell_type": "markdown",
   "metadata": {
    "id": "pjrjWiT28Qk0"
   },
   "source": [
    "Renaming Columns"
   ]
  },
  {
   "cell_type": "code",
   "execution_count": 8,
   "metadata": {
    "colab": {
     "base_uri": "https://localhost:8080/",
     "height": 206
    },
    "id": "cnxBnLB38SuZ",
    "outputId": "5b62d259-4515-4f7e-e9d4-c416d9609198"
   },
   "outputs": [
    {
     "data": {
      "text/html": [
       "<div>\n",
       "<style scoped>\n",
       "    .dataframe tbody tr th:only-of-type {\n",
       "        vertical-align: middle;\n",
       "    }\n",
       "\n",
       "    .dataframe tbody tr th {\n",
       "        vertical-align: top;\n",
       "    }\n",
       "\n",
       "    .dataframe thead th {\n",
       "        text-align: right;\n",
       "    }\n",
       "</style>\n",
       "<table border=\"1\" class=\"dataframe\">\n",
       "  <thead>\n",
       "    <tr style=\"text-align: right;\">\n",
       "      <th></th>\n",
       "      <th>target</th>\n",
       "      <th>text</th>\n",
       "    </tr>\n",
       "  </thead>\n",
       "  <tbody>\n",
       "    <tr>\n",
       "      <th>2141</th>\n",
       "      <td>ham</td>\n",
       "      <td>Alright took the morphine. Back in yo.</td>\n",
       "    </tr>\n",
       "    <tr>\n",
       "      <th>3510</th>\n",
       "      <td>ham</td>\n",
       "      <td>I'm serious. You are in the money base</td>\n",
       "    </tr>\n",
       "    <tr>\n",
       "      <th>2639</th>\n",
       "      <td>ham</td>\n",
       "      <td>Why she wants to talk to me</td>\n",
       "    </tr>\n",
       "    <tr>\n",
       "      <th>2588</th>\n",
       "      <td>ham</td>\n",
       "      <td>My superior telling that friday is leave for a...</td>\n",
       "    </tr>\n",
       "    <tr>\n",
       "      <th>1477</th>\n",
       "      <td>ham</td>\n",
       "      <td>Why you keeping me away like this</td>\n",
       "    </tr>\n",
       "  </tbody>\n",
       "</table>\n",
       "</div>"
      ],
      "text/plain": [
       "     target                                               text\n",
       "2141    ham             Alright took the morphine. Back in yo.\n",
       "3510    ham             I'm serious. You are in the money base\n",
       "2639    ham                        Why she wants to talk to me\n",
       "2588    ham  My superior telling that friday is leave for a...\n",
       "1477    ham                  Why you keeping me away like this"
      ]
     },
     "execution_count": 8,
     "metadata": {},
     "output_type": "execute_result"
    }
   ],
   "source": [
    "dataset.rename(columns={'v1':'target','v2': 'text'},inplace=True)\n",
    "dataset.sample(5)"
   ]
  },
  {
   "cell_type": "markdown",
   "metadata": {
    "id": "SxUTyxP19Djt"
   },
   "source": [
    "Encoding target column\n"
   ]
  },
  {
   "cell_type": "code",
   "execution_count": 9,
   "metadata": {
    "id": "HuA-IHb_9Gtx"
   },
   "outputs": [],
   "source": [
    "from sklearn.preprocessing import LabelEncoder\n",
    "encoder = LabelEncoder()"
   ]
  },
  {
   "cell_type": "code",
   "execution_count": 10,
   "metadata": {
    "id": "nUHIU4tZ9S2L"
   },
   "outputs": [],
   "source": [
    "dataset['target'] = encoder.fit_transform(dataset['target'])"
   ]
  },
  {
   "cell_type": "code",
   "execution_count": 11,
   "metadata": {
    "colab": {
     "base_uri": "https://localhost:8080/",
     "height": 206
    },
    "id": "KNTz20I_9fuC",
    "outputId": "6d6dbf52-6f88-4fa2-fdd5-5f50329a5ae7"
   },
   "outputs": [
    {
     "data": {
      "text/html": [
       "<div>\n",
       "<style scoped>\n",
       "    .dataframe tbody tr th:only-of-type {\n",
       "        vertical-align: middle;\n",
       "    }\n",
       "\n",
       "    .dataframe tbody tr th {\n",
       "        vertical-align: top;\n",
       "    }\n",
       "\n",
       "    .dataframe thead th {\n",
       "        text-align: right;\n",
       "    }\n",
       "</style>\n",
       "<table border=\"1\" class=\"dataframe\">\n",
       "  <thead>\n",
       "    <tr style=\"text-align: right;\">\n",
       "      <th></th>\n",
       "      <th>target</th>\n",
       "      <th>text</th>\n",
       "    </tr>\n",
       "  </thead>\n",
       "  <tbody>\n",
       "    <tr>\n",
       "      <th>555</th>\n",
       "      <td>0</td>\n",
       "      <td>O. Well uv causes mutations. Sunscreen is like...</td>\n",
       "    </tr>\n",
       "    <tr>\n",
       "      <th>149</th>\n",
       "      <td>0</td>\n",
       "      <td>Sindu got job in birla soft ..</td>\n",
       "    </tr>\n",
       "    <tr>\n",
       "      <th>1207</th>\n",
       "      <td>0</td>\n",
       "      <td>I need you to be in my strong arms...</td>\n",
       "    </tr>\n",
       "    <tr>\n",
       "      <th>3952</th>\n",
       "      <td>1</td>\n",
       "      <td>Refused a loan? Secured or Unsecured? Can't ge...</td>\n",
       "    </tr>\n",
       "    <tr>\n",
       "      <th>3522</th>\n",
       "      <td>0</td>\n",
       "      <td>Try neva mate!!</td>\n",
       "    </tr>\n",
       "  </tbody>\n",
       "</table>\n",
       "</div>"
      ],
      "text/plain": [
       "      target                                               text\n",
       "555        0  O. Well uv causes mutations. Sunscreen is like...\n",
       "149        0                     Sindu got job in birla soft ..\n",
       "1207       0              I need you to be in my strong arms...\n",
       "3952       1  Refused a loan? Secured or Unsecured? Can't ge...\n",
       "3522       0                                    Try neva mate!!"
      ]
     },
     "execution_count": 11,
     "metadata": {},
     "output_type": "execute_result"
    }
   ],
   "source": [
    "dataset.sample(5)"
   ]
  },
  {
   "cell_type": "markdown",
   "metadata": {
    "id": "IT5yhr_q9rnk"
   },
   "source": [
    "Missing Values"
   ]
  },
  {
   "cell_type": "code",
   "execution_count": 12,
   "metadata": {
    "colab": {
     "base_uri": "https://localhost:8080/"
    },
    "id": "5I74XLgO9s-i",
    "outputId": "8e3f0c9e-69a2-4ba7-b1f4-7c9de36d0c68"
   },
   "outputs": [
    {
     "data": {
      "text/plain": [
       "target    0\n",
       "text      0\n",
       "dtype: int64"
      ]
     },
     "execution_count": 12,
     "metadata": {},
     "output_type": "execute_result"
    }
   ],
   "source": [
    "dataset.isnull().sum()"
   ]
  },
  {
   "cell_type": "markdown",
   "metadata": {
    "id": "tzGVmpZ5904B"
   },
   "source": [
    "Checking For Duplicate **Values**"
   ]
  },
  {
   "cell_type": "code",
   "execution_count": 13,
   "metadata": {
    "colab": {
     "base_uri": "https://localhost:8080/"
    },
    "id": "U6_Rg2Qq93LJ",
    "outputId": "5842c8db-6e1f-4e4f-a127-14cee9ad4da9"
   },
   "outputs": [
    {
     "data": {
      "text/plain": [
       "403"
      ]
     },
     "execution_count": 13,
     "metadata": {},
     "output_type": "execute_result"
    }
   ],
   "source": [
    "dataset.duplicated().sum()"
   ]
  },
  {
   "cell_type": "markdown",
   "metadata": {
    "id": "V6Q4Gzvb-Fo7"
   },
   "source": [
    "Removing Duplicate Values"
   ]
  },
  {
   "cell_type": "code",
   "execution_count": 14,
   "metadata": {
    "id": "8cDlAwcO99qq"
   },
   "outputs": [],
   "source": [
    "dataset = dataset.drop_duplicates(keep='first')"
   ]
  },
  {
   "cell_type": "code",
   "execution_count": 15,
   "metadata": {
    "colab": {
     "base_uri": "https://localhost:8080/"
    },
    "id": "IVjAPzau-OAa",
    "outputId": "27c1e28a-dfbe-4f60-d16c-cbcda23d3832"
   },
   "outputs": [
    {
     "data": {
      "text/plain": [
       "0"
      ]
     },
     "execution_count": 15,
     "metadata": {},
     "output_type": "execute_result"
    }
   ],
   "source": [
    "dataset.duplicated().sum()"
   ]
  },
  {
   "cell_type": "code",
   "execution_count": 16,
   "metadata": {
    "colab": {
     "base_uri": "https://localhost:8080/"
    },
    "id": "kZ4v4cIa-SNU",
    "outputId": "292214e2-f962-4a38-fa1e-f0e1f54548cb"
   },
   "outputs": [
    {
     "data": {
      "text/plain": [
       "(5169, 2)"
      ]
     },
     "execution_count": 16,
     "metadata": {},
     "output_type": "execute_result"
    }
   ],
   "source": [
    "dataset.shape"
   ]
  },
  {
   "cell_type": "markdown",
   "metadata": {
    "id": "zeVI4STI-fa0"
   },
   "source": [
    "\n",
    "## 2 Exploratory Data Analysis"
   ]
  },
  {
   "cell_type": "code",
   "execution_count": 17,
   "metadata": {
    "colab": {
     "base_uri": "https://localhost:8080/"
    },
    "id": "q15JwEv--idp",
    "outputId": "3eb5cc8a-fd44-448b-bbbc-876a1d1fc8d8"
   },
   "outputs": [
    {
     "data": {
      "text/plain": [
       "0    4516\n",
       "1     653\n",
       "Name: target, dtype: int64"
      ]
     },
     "execution_count": 17,
     "metadata": {},
     "output_type": "execute_result"
    }
   ],
   "source": [
    "dataset['target'].value_counts()"
   ]
  },
  {
   "cell_type": "code",
   "execution_count": 18,
   "metadata": {
    "colab": {
     "base_uri": "https://localhost:8080/",
     "height": 248
    },
    "id": "s_8A3SH_-rIx",
    "outputId": "903abd51-d4d8-4b27-d244-2e8856c55411"
   },
   "outputs": [
    {
     "data": {
      "image/png": "[encoded data removed]",
      "text/plain": [
       "<Figure size 432x288 with 1 Axes>"
      ]
     },
     "metadata": {},
     "output_type": "display_data"
    }
   ],
   "source": [
    "import matplotlib.pyplot as plt\n",
    "plt.pie(dataset['target'].value_counts(), labels=['ham','spam'],autopct=\"%0.2f\")\n",
    "plt.show()"
   ]
  },
  {
   "cell_type": "markdown",
   "metadata": {
    "id": "B2VgYveZ_K2r"
   },
   "source": [
    "data is imbalanced"
   ]
  },
  {
   "cell_type": "code",
   "execution_count": 19,
   "metadata": {
    "id": "F2h-GePi_Mix"
   },
   "outputs": [],
   "source": [
    "import nltk"
   ]
  },
  {
   "cell_type": "code",
   "execution_count": 20,
   "metadata": {
    "colab": {
     "base_uri": "https://localhost:8080/"
    },
    "id": "cWSz03Sg_TZZ",
    "outputId": "0e6599bb-69f3-4a11-ec5d-2368a83f1c19"
   },
   "outputs": [
    {
     "name": "stderr",
     "output_type": "stream",
     "text": [
      "[nltk_data] Downloading package punkt to\n",
      "[nltk_data]     C:\\Users\\Asus\\AppData\\Roaming\\nltk_data...\n",
      "[nltk_data]   Package punkt is already up-to-date!\n"
     ]
    },
    {
     "data": {
      "text/plain": [
       "True"
      ]
     },
     "execution_count": 20,
     "metadata": {},
     "output_type": "execute_result"
    }
   ],
   "source": [
    "nltk.download('punkt')"
   ]
  },
  {
   "cell_type": "code",
   "execution_count": 21,
   "metadata": {
    "id": "PuXeKN4J_VBp"
   },
   "outputs": [],
   "source": [
    "dataset['num_characters'] = dataset['text'].apply(len)"
   ]
  },
  {
   "cell_type": "code",
   "execution_count": 22,
   "metadata": {
    "colab": {
     "base_uri": "https://localhost:8080/",
     "height": 206
    },
    "id": "dMf04pi1_-iY",
    "outputId": "b545d94e-ae08-4816-d283-6047278c2db0"
   },
   "outputs": [
    {
     "data": {
      "text/html": [
       "<div>\n",
       "<style scoped>\n",
       "    .dataframe tbody tr th:only-of-type {\n",
       "        vertical-align: middle;\n",
       "    }\n",
       "\n",
       "    .dataframe tbody tr th {\n",
       "        vertical-align: top;\n",
       "    }\n",
       "\n",
       "    .dataframe thead th {\n",
       "        text-align: right;\n",
       "    }\n",
       "</style>\n",
       "<table border=\"1\" class=\"dataframe\">\n",
       "  <thead>\n",
       "    <tr style=\"text-align: right;\">\n",
       "      <th></th>\n",
       "      <th>target</th>\n",
       "      <th>text</th>\n",
       "      <th>num_characters</th>\n",
       "    </tr>\n",
       "  </thead>\n",
       "  <tbody>\n",
       "    <tr>\n",
       "      <th>5268</th>\n",
       "      <td>0</td>\n",
       "      <td>\\ER</td>\n",
       "      <td>3</td>\n",
       "    </tr>\n",
       "    <tr>\n",
       "      <th>1198</th>\n",
       "      <td>0</td>\n",
       "      <td>Al he does is moan at me if n e thin goes wron...</td>\n",
       "      <td>138</td>\n",
       "    </tr>\n",
       "    <tr>\n",
       "      <th>1613</th>\n",
       "      <td>0</td>\n",
       "      <td>Thnx dude. u guys out 2nite?</td>\n",
       "      <td>28</td>\n",
       "    </tr>\n",
       "    <tr>\n",
       "      <th>777</th>\n",
       "      <td>0</td>\n",
       "      <td>\\Hi its Kate it was lovely to see you tonight ...</td>\n",
       "      <td>122</td>\n",
       "    </tr>\n",
       "    <tr>\n",
       "      <th>4646</th>\n",
       "      <td>0</td>\n",
       "      <td>God created gap btwn ur fingers so dat sum1 vr...</td>\n",
       "      <td>157</td>\n",
       "    </tr>\n",
       "  </tbody>\n",
       "</table>\n",
       "</div>"
      ],
      "text/plain": [
       "      target                                               text  \\\n",
       "5268       0                                                \\ER   \n",
       "1198       0  Al he does is moan at me if n e thin goes wron...   \n",
       "1613       0                       Thnx dude. u guys out 2nite?   \n",
       "777        0  \\Hi its Kate it was lovely to see you tonight ...   \n",
       "4646       0  God created gap btwn ur fingers so dat sum1 vr...   \n",
       "\n",
       "      num_characters  \n",
       "5268               3  \n",
       "1198             138  \n",
       "1613              28  \n",
       "777              122  \n",
       "4646             157  "
      ]
     },
     "execution_count": 22,
     "metadata": {},
     "output_type": "execute_result"
    }
   ],
   "source": [
    "dataset.sample(5)"
   ]
  },
  {
   "cell_type": "code",
   "execution_count": 23,
   "metadata": {
    "id": "qImb6z_gABwv"
   },
   "outputs": [],
   "source": [
    "dataset['num_words'] = dataset['text'].apply(lambda x:len(nltk.word_tokenize(x)))"
   ]
  },
  {
   "cell_type": "code",
   "execution_count": 24,
   "metadata": {
    "id": "JGUWQgLLAW24"
   },
   "outputs": [],
   "source": [
    "dataset['num_sentences'] = dataset['text'].apply(lambda x:len(nltk.sent_tokenize(x)))"
   ]
  },
  {
   "cell_type": "code",
   "execution_count": 25,
   "metadata": {
    "colab": {
     "base_uri": "https://localhost:8080/",
     "height": 320
    },
    "id": "rTy4NenmA1W-",
    "outputId": "9a0ee0a9-d069-46e6-f162-253456c11d90"
   },
   "outputs": [
    {
     "data": {
      "text/html": [
       "<div>\n",
       "<style scoped>\n",
       "    .dataframe tbody tr th:only-of-type {\n",
       "        vertical-align: middle;\n",
       "    }\n",
       "\n",
       "    .dataframe tbody tr th {\n",
       "        vertical-align: top;\n",
       "    }\n",
       "\n",
       "    .dataframe thead th {\n",
       "        text-align: right;\n",
       "    }\n",
       "</style>\n",
       "<table border=\"1\" class=\"dataframe\">\n",
       "  <thead>\n",
       "    <tr style=\"text-align: right;\">\n",
       "      <th></th>\n",
       "      <th>target</th>\n",
       "      <th>text</th>\n",
       "      <th>num_characters</th>\n",
       "      <th>num_words</th>\n",
       "      <th>num_sentences</th>\n",
       "    </tr>\n",
       "  </thead>\n",
       "  <tbody>\n",
       "    <tr>\n",
       "      <th>0</th>\n",
       "      <td>0</td>\n",
       "      <td>Go until jurong point, crazy.. Available only ...</td>\n",
       "      <td>111</td>\n",
       "      <td>24</td>\n",
       "      <td>2</td>\n",
       "    </tr>\n",
       "    <tr>\n",
       "      <th>1</th>\n",
       "      <td>0</td>\n",
       "      <td>Ok lar... Joking wif u oni...</td>\n",
       "      <td>29</td>\n",
       "      <td>8</td>\n",
       "      <td>2</td>\n",
       "    </tr>\n",
       "    <tr>\n",
       "      <th>2</th>\n",
       "      <td>1</td>\n",
       "      <td>Free entry in 2 a wkly comp to win FA Cup fina...</td>\n",
       "      <td>155</td>\n",
       "      <td>37</td>\n",
       "      <td>2</td>\n",
       "    </tr>\n",
       "    <tr>\n",
       "      <th>3</th>\n",
       "      <td>0</td>\n",
       "      <td>U dun say so early hor... U c already then say...</td>\n",
       "      <td>49</td>\n",
       "      <td>13</td>\n",
       "      <td>1</td>\n",
       "    </tr>\n",
       "    <tr>\n",
       "      <th>4</th>\n",
       "      <td>0</td>\n",
       "      <td>Nah I don't think he goes to usf, he lives aro...</td>\n",
       "      <td>61</td>\n",
       "      <td>15</td>\n",
       "      <td>1</td>\n",
       "    </tr>\n",
       "  </tbody>\n",
       "</table>\n",
       "</div>"
      ],
      "text/plain": [
       "   target                                               text  num_characters  \\\n",
       "0       0  Go until jurong point, crazy.. Available only ...             111   \n",
       "1       0                      Ok lar... Joking wif u oni...              29   \n",
       "2       1  Free entry in 2 a wkly comp to win FA Cup fina...             155   \n",
       "3       0  U dun say so early hor... U c already then say...              49   \n",
       "4       0  Nah I don't think he goes to usf, he lives aro...              61   \n",
       "\n",
       "   num_words  num_sentences  \n",
       "0         24              2  \n",
       "1          8              2  \n",
       "2         37              2  \n",
       "3         13              1  \n",
       "4         15              1  "
      ]
     },
     "execution_count": 25,
     "metadata": {},
     "output_type": "execute_result"
    }
   ],
   "source": [
    "dataset.head()"
   ]
  },
  {
   "cell_type": "code",
   "execution_count": 26,
   "metadata": {
    "colab": {
     "base_uri": "https://localhost:8080/",
     "height": 300
    },
    "id": "lTu6RGhYA3EP",
    "outputId": "ff949ace-1970-4e24-9f67-ea8ad9158ffe"
   },
   "outputs": [
    {
     "data": {
      "text/html": [
       "<div>\n",
       "<style scoped>\n",
       "    .dataframe tbody tr th:only-of-type {\n",
       "        vertical-align: middle;\n",
       "    }\n",
       "\n",
       "    .dataframe tbody tr th {\n",
       "        vertical-align: top;\n",
       "    }\n",
       "\n",
       "    .dataframe thead th {\n",
       "        text-align: right;\n",
       "    }\n",
       "</style>\n",
       "<table border=\"1\" class=\"dataframe\">\n",
       "  <thead>\n",
       "    <tr style=\"text-align: right;\">\n",
       "      <th></th>\n",
       "      <th>num_characters</th>\n",
       "      <th>num_words</th>\n",
       "      <th>num_sentences</th>\n",
       "    </tr>\n",
       "  </thead>\n",
       "  <tbody>\n",
       "    <tr>\n",
       "      <th>count</th>\n",
       "      <td>5169.000000</td>\n",
       "      <td>5169.000000</td>\n",
       "      <td>5169.000000</td>\n",
       "    </tr>\n",
       "    <tr>\n",
       "      <th>mean</th>\n",
       "      <td>78.977945</td>\n",
       "      <td>18.455407</td>\n",
       "      <td>1.961308</td>\n",
       "    </tr>\n",
       "    <tr>\n",
       "      <th>std</th>\n",
       "      <td>58.236293</td>\n",
       "      <td>13.322448</td>\n",
       "      <td>1.432583</td>\n",
       "    </tr>\n",
       "    <tr>\n",
       "      <th>min</th>\n",
       "      <td>2.000000</td>\n",
       "      <td>1.000000</td>\n",
       "      <td>1.000000</td>\n",
       "    </tr>\n",
       "    <tr>\n",
       "      <th>25%</th>\n",
       "      <td>36.000000</td>\n",
       "      <td>9.000000</td>\n",
       "      <td>1.000000</td>\n",
       "    </tr>\n",
       "    <tr>\n",
       "      <th>50%</th>\n",
       "      <td>60.000000</td>\n",
       "      <td>15.000000</td>\n",
       "      <td>1.000000</td>\n",
       "    </tr>\n",
       "    <tr>\n",
       "      <th>75%</th>\n",
       "      <td>117.000000</td>\n",
       "      <td>26.000000</td>\n",
       "      <td>2.000000</td>\n",
       "    </tr>\n",
       "    <tr>\n",
       "      <th>max</th>\n",
       "      <td>910.000000</td>\n",
       "      <td>220.000000</td>\n",
       "      <td>38.000000</td>\n",
       "    </tr>\n",
       "  </tbody>\n",
       "</table>\n",
       "</div>"
      ],
      "text/plain": [
       "       num_characters    num_words  num_sentences\n",
       "count     5169.000000  5169.000000    5169.000000\n",
       "mean        78.977945    18.455407       1.961308\n",
       "std         58.236293    13.322448       1.432583\n",
       "min          2.000000     1.000000       1.000000\n",
       "25%         36.000000     9.000000       1.000000\n",
       "50%         60.000000    15.000000       1.000000\n",
       "75%        117.000000    26.000000       2.000000\n",
       "max        910.000000   220.000000      38.000000"
      ]
     },
     "execution_count": 26,
     "metadata": {},
     "output_type": "execute_result"
    }
   ],
   "source": [
    "dataset[['num_characters','num_words','num_sentences']].describe()"
   ]
  },
  {
   "cell_type": "code",
   "execution_count": 27,
   "metadata": {
    "colab": {
     "base_uri": "https://localhost:8080/",
     "height": 300
    },
    "id": "PZX4dfIcCwaE",
    "outputId": "c0d0222f-035e-4a47-85e5-17cb6aaccd4b"
   },
   "outputs": [
    {
     "data": {
      "text/html": [
       "<div>\n",
       "<style scoped>\n",
       "    .dataframe tbody tr th:only-of-type {\n",
       "        vertical-align: middle;\n",
       "    }\n",
       "\n",
       "    .dataframe tbody tr th {\n",
       "        vertical-align: top;\n",
       "    }\n",
       "\n",
       "    .dataframe thead th {\n",
       "        text-align: right;\n",
       "    }\n",
       "</style>\n",
       "<table border=\"1\" class=\"dataframe\">\n",
       "  <thead>\n",
       "    <tr style=\"text-align: right;\">\n",
       "      <th></th>\n",
       "      <th>num_characters</th>\n",
       "      <th>num_words</th>\n",
       "      <th>num_sentences</th>\n",
       "    </tr>\n",
       "  </thead>\n",
       "  <tbody>\n",
       "    <tr>\n",
       "      <th>count</th>\n",
       "      <td>4516.000000</td>\n",
       "      <td>4516.000000</td>\n",
       "      <td>4516.000000</td>\n",
       "    </tr>\n",
       "    <tr>\n",
       "      <th>mean</th>\n",
       "      <td>70.459256</td>\n",
       "      <td>17.123339</td>\n",
       "      <td>1.815545</td>\n",
       "    </tr>\n",
       "    <tr>\n",
       "      <th>std</th>\n",
       "      <td>56.358207</td>\n",
       "      <td>13.491315</td>\n",
       "      <td>1.364098</td>\n",
       "    </tr>\n",
       "    <tr>\n",
       "      <th>min</th>\n",
       "      <td>2.000000</td>\n",
       "      <td>1.000000</td>\n",
       "      <td>1.000000</td>\n",
       "    </tr>\n",
       "    <tr>\n",
       "      <th>25%</th>\n",
       "      <td>34.000000</td>\n",
       "      <td>8.000000</td>\n",
       "      <td>1.000000</td>\n",
       "    </tr>\n",
       "    <tr>\n",
       "      <th>50%</th>\n",
       "      <td>52.000000</td>\n",
       "      <td>13.000000</td>\n",
       "      <td>1.000000</td>\n",
       "    </tr>\n",
       "    <tr>\n",
       "      <th>75%</th>\n",
       "      <td>90.000000</td>\n",
       "      <td>22.000000</td>\n",
       "      <td>2.000000</td>\n",
       "    </tr>\n",
       "    <tr>\n",
       "      <th>max</th>\n",
       "      <td>910.000000</td>\n",
       "      <td>220.000000</td>\n",
       "      <td>38.000000</td>\n",
       "    </tr>\n",
       "  </tbody>\n",
       "</table>\n",
       "</div>"
      ],
      "text/plain": [
       "       num_characters    num_words  num_sentences\n",
       "count     4516.000000  4516.000000    4516.000000\n",
       "mean        70.459256    17.123339       1.815545\n",
       "std         56.358207    13.491315       1.364098\n",
       "min          2.000000     1.000000       1.000000\n",
       "25%         34.000000     8.000000       1.000000\n",
       "50%         52.000000    13.000000       1.000000\n",
       "75%         90.000000    22.000000       2.000000\n",
       "max        910.000000   220.000000      38.000000"
      ]
     },
     "execution_count": 27,
     "metadata": {},
     "output_type": "execute_result"
    }
   ],
   "source": [
    "# ham\n",
    "dataset[dataset['target'] == 0][['num_characters','num_words','num_sentences']].describe()"
   ]
  },
  {
   "cell_type": "code",
   "execution_count": 28,
   "metadata": {
    "colab": {
     "base_uri": "https://localhost:8080/",
     "height": 300
    },
    "id": "rYas88rODBDk",
    "outputId": "d468abcc-b35b-4d1b-bec0-fdf386b6221a"
   },
   "outputs": [
    {
     "data": {
      "text/html": [
       "<div>\n",
       "<style scoped>\n",
       "    .dataframe tbody tr th:only-of-type {\n",
       "        vertical-align: middle;\n",
       "    }\n",
       "\n",
       "    .dataframe tbody tr th {\n",
       "        vertical-align: top;\n",
       "    }\n",
       "\n",
       "    .dataframe thead th {\n",
       "        text-align: right;\n",
       "    }\n",
       "</style>\n",
       "<table border=\"1\" class=\"dataframe\">\n",
       "  <thead>\n",
       "    <tr style=\"text-align: right;\">\n",
       "      <th></th>\n",
       "      <th>num_characters</th>\n",
       "      <th>num_words</th>\n",
       "      <th>num_sentences</th>\n",
       "    </tr>\n",
       "  </thead>\n",
       "  <tbody>\n",
       "    <tr>\n",
       "      <th>count</th>\n",
       "      <td>653.000000</td>\n",
       "      <td>653.000000</td>\n",
       "      <td>653.000000</td>\n",
       "    </tr>\n",
       "    <tr>\n",
       "      <th>mean</th>\n",
       "      <td>137.891271</td>\n",
       "      <td>27.667688</td>\n",
       "      <td>2.969372</td>\n",
       "    </tr>\n",
       "    <tr>\n",
       "      <th>std</th>\n",
       "      <td>30.137753</td>\n",
       "      <td>7.008418</td>\n",
       "      <td>1.488910</td>\n",
       "    </tr>\n",
       "    <tr>\n",
       "      <th>min</th>\n",
       "      <td>13.000000</td>\n",
       "      <td>2.000000</td>\n",
       "      <td>1.000000</td>\n",
       "    </tr>\n",
       "    <tr>\n",
       "      <th>25%</th>\n",
       "      <td>132.000000</td>\n",
       "      <td>25.000000</td>\n",
       "      <td>2.000000</td>\n",
       "    </tr>\n",
       "    <tr>\n",
       "      <th>50%</th>\n",
       "      <td>149.000000</td>\n",
       "      <td>29.000000</td>\n",
       "      <td>3.000000</td>\n",
       "    </tr>\n",
       "    <tr>\n",
       "      <th>75%</th>\n",
       "      <td>157.000000</td>\n",
       "      <td>32.000000</td>\n",
       "      <td>4.000000</td>\n",
       "    </tr>\n",
       "    <tr>\n",
       "      <th>max</th>\n",
       "      <td>224.000000</td>\n",
       "      <td>46.000000</td>\n",
       "      <td>9.000000</td>\n",
       "    </tr>\n",
       "  </tbody>\n",
       "</table>\n",
       "</div>"
      ],
      "text/plain": [
       "       num_characters   num_words  num_sentences\n",
       "count      653.000000  653.000000     653.000000\n",
       "mean       137.891271   27.667688       2.969372\n",
       "std         30.137753    7.008418       1.488910\n",
       "min         13.000000    2.000000       1.000000\n",
       "25%        132.000000   25.000000       2.000000\n",
       "50%        149.000000   29.000000       3.000000\n",
       "75%        157.000000   32.000000       4.000000\n",
       "max        224.000000   46.000000       9.000000"
      ]
     },
     "execution_count": 28,
     "metadata": {},
     "output_type": "execute_result"
    }
   ],
   "source": [
    "#spam\n",
    "dataset[dataset['target'] == 1][['num_characters','num_words','num_sentences']].describe()"
   ]
  },
  {
   "cell_type": "code",
   "execution_count": 29,
   "metadata": {
    "id": "SfohRvqpDJd-"
   },
   "outputs": [],
   "source": [
    "import seaborn as sns"
   ]
  },
  {
   "cell_type": "code",
   "execution_count": 30,
   "metadata": {
    "colab": {
     "base_uri": "https://localhost:8080/",
     "height": 385
    },
    "id": "12e7YXFlDP3m",
    "outputId": "bc295b02-4681-404c-dda2-dabf843a2eee"
   },
   "outputs": [
    {
     "data": {
      "text/plain": [
       "<AxesSubplot:xlabel='num_characters', ylabel='Count'>"
      ]
     },
     "execution_count": 30,
     "metadata": {},
     "output_type": "execute_result"
    },
    {
     "data": {
      "image/png": "[encoded data removed]",
      "text/plain": [
       "<Figure size 864x432 with 1 Axes>"
      ]
     },
     "metadata": {
      "needs_background": "light"
     },
     "output_type": "display_data"
    }
   ],
   "source": [
    "plt.figure(figsize=(12,6))\n",
    "sns.histplot(dataset[dataset['target'] == 0]['num_characters'])\n",
    "sns.histplot(dataset[dataset['target'] == 1]['num_characters'],color='red')"
   ]
  },
  {
   "cell_type": "code",
   "execution_count": 31,
   "metadata": {
    "colab": {
     "base_uri": "https://localhost:8080/",
     "height": 385
    },
    "id": "ZueVMNDADQee",
    "outputId": "80bf9b8b-1e75-4f80-d5b4-d61debdeef5c"
   },
   "outputs": [
    {
     "data": {
      "text/plain": [
       "<AxesSubplot:xlabel='num_words', ylabel='Count'>"
      ]
     },
     "execution_count": 31,
     "metadata": {},
     "output_type": "execute_result"
    },
    {
     "data": {
      "image/png": "[encoded data removed]",
      "text/plain": [
       "<Figure size 864x432 with 1 Axes>"
      ]
     },
     "metadata": {
      "needs_background": "light"
     },
     "output_type": "display_data"
    }
   ],
   "source": [
    "plt.figure(figsize=(12,6))\n",
    "sns.histplot(dataset[dataset['target'] == 0]['num_words'])\n",
    "sns.histplot(dataset[dataset['target'] == 1]['num_words'],color='red')"
   ]
  },
  {
   "cell_type": "code",
   "execution_count": 32,
   "metadata": {
    "colab": {
     "base_uri": "https://localhost:8080/",
     "height": 568
    },
    "id": "HhB3sXDbDdbG",
    "outputId": "d2ae43ae-2ea3-4769-c338-3aae58dadb6b"
   },
   "outputs": [
    {
     "data": {
      "text/plain": [
       "<seaborn.axisgrid.PairGrid at 0x27eb28620a0>"
      ]
     },
     "execution_count": 32,
     "metadata": {},
     "output_type": "execute_result"
    },
    {
     "data": {
      "image/png": "[encoded data removed]",
      "text/plain": [
       "<Figure size 582.375x540 with 12 Axes>"
      ]
     },
     "metadata": {
      "needs_background": "light"
     },
     "output_type": "display_data"
    }
   ],
   "source": [
    "sns.pairplot(dataset,hue='target')"
   ]
  },
  {
   "cell_type": "code",
   "execution_count": 33,
   "metadata": {
    "colab": {
     "base_uri": "https://localhost:8080/",
     "height": 358
    },
    "id": "gVHgzk45DnZe",
    "outputId": "cf3a6e9b-fd5f-43ba-a56e-3afce8d1d84e"
   },
   "outputs": [
    {
     "data": {
      "text/plain": [
       "<AxesSubplot:>"
      ]
     },
     "execution_count": 33,
     "metadata": {},
     "output_type": "execute_result"
    },
    {
     "data": {
      "image/png": "[encoded data removed]",
      "text/plain": [
       "<Figure size 432x288 with 2 Axes>"
      ]
     },
     "metadata": {
      "needs_background": "light"
     },
     "output_type": "display_data"
    }
   ],
   "source": [
    "sns.heatmap(dataset.corr(),annot=True)"
   ]
  },
  {
   "cell_type": "markdown",
   "metadata": {
    "id": "z0SE575nIYnM"
   },
   "source": [
    "# 3. Data Preprocessing\n",
    "Lower case\n",
    "\n",
    "\n",
    "*   Lower case\n",
    "*   Tokenization\n",
    "*   Removing special characters\n",
    "*   Removing stop words and punctuation\n",
    "*   Steaming\n"
   ]
  },
  {
   "cell_type": "markdown",
   "metadata": {
    "id": "32whP1EMC-ub"
   },
   "source": [
    "Importing nltk download stopword"
   ]
  },
  {
   "cell_type": "code",
   "execution_count": 34,
   "metadata": {
    "colab": {
     "base_uri": "https://localhost:8080/"
    },
    "id": "2pfH4IG5B9DA",
    "outputId": "3b802c42-efd3-4fb8-af5f-7fa119ef4b7b"
   },
   "outputs": [
    {
     "name": "stderr",
     "output_type": "stream",
     "text": [
      "[nltk_data] Downloading package stopwords to\n",
      "[nltk_data]     C:\\Users\\Asus\\AppData\\Roaming\\nltk_data...\n",
      "[nltk_data]   Package stopwords is already up-to-date!\n"
     ]
    },
    {
     "data": {
      "text/plain": [
       "True"
      ]
     },
     "execution_count": 34,
     "metadata": {},
     "output_type": "execute_result"
    }
   ],
   "source": [
    "import nltk\n",
    "nltk.download('stopwords')"
   ]
  },
  {
   "cell_type": "markdown",
   "metadata": {
    "id": "56bXq4rpDCmO"
   },
   "source": [
    "Importing porter stremmer"
   ]
  },
  {
   "cell_type": "code",
   "execution_count": 35,
   "metadata": {
    "id": "vdlQoJ3yDGbI"
   },
   "outputs": [],
   "source": [
    "from nltk.stem.porter import PorterStemmer\n",
    "ps = PorterStemmer()"
   ]
  },
  {
   "cell_type": "code",
   "execution_count": 36,
   "metadata": {
    "id": "ud5pDdecI4lO"
   },
   "outputs": [],
   "source": [
    "\n",
    "import string\n",
    "from nltk.corpus import stopwords\n",
    "\n",
    "def transform_text(text):\n",
    "  text= text.lower()\n",
    "  text = nltk.word_tokenize(text)\n",
    "\n",
    "  y = []\n",
    "  for i in text:\n",
    "    if i.isalnum():\n",
    "      y.append(i)\n",
    "\n",
    "  text = y[:]\n",
    "  y.clear()\n",
    "\n",
    "  for i in text:\n",
    "        if i not in stopwords.words('english') and i not in string.punctuation:\n",
    "            y.append(i)\n",
    "            \n",
    "  text = y[:]\n",
    "  y.clear()\n",
    "    \n",
    "  for i in text:\n",
    "      y.append(ps.stem(i))\n",
    "  return \" \".join(text)\n",
    "\n"
   ]
  },
  {
   "cell_type": "code",
   "execution_count": 37,
   "metadata": {
    "colab": {
     "base_uri": "https://localhost:8080/",
     "height": 36
    },
    "id": "KDU2la2wAYQ9",
    "outputId": "4cacf21d-99b9-43e6-b3de-2b9909a5b81e"
   },
   "outputs": [
    {
     "data": {
      "text/plain": [
       "'gon na home soon want talk stuff anymore tonight k cried enough today'"
      ]
     },
     "execution_count": 37,
     "metadata": {},
     "output_type": "execute_result"
    }
   ],
   "source": [
    "\n",
    "transform_text(\"I'm gonna be home soon and i don't want to talk about this stuff anymore tonight, k? I've cried enough today.\")"
   ]
  },
  {
   "cell_type": "code",
   "execution_count": 38,
   "metadata": {
    "id": "2lOKkhBrA_Bt"
   },
   "outputs": [],
   "source": [
    "dataset['transform_text']=dataset['text'].apply(transform_text)"
   ]
  },
  {
   "cell_type": "code",
   "execution_count": 39,
   "metadata": {
    "colab": {
     "base_uri": "https://localhost:8080/",
     "height": 424
    },
    "id": "fUvycO8OEWQQ",
    "outputId": "09f2a4de-b181-4be9-e1d5-a06174205d96"
   },
   "outputs": [
    {
     "data": {
      "text/html": [
       "<div>\n",
       "<style scoped>\n",
       "    .dataframe tbody tr th:only-of-type {\n",
       "        vertical-align: middle;\n",
       "    }\n",
       "\n",
       "    .dataframe tbody tr th {\n",
       "        vertical-align: top;\n",
       "    }\n",
       "\n",
       "    .dataframe thead th {\n",
       "        text-align: right;\n",
       "    }\n",
       "</style>\n",
       "<table border=\"1\" class=\"dataframe\">\n",
       "  <thead>\n",
       "    <tr style=\"text-align: right;\">\n",
       "      <th></th>\n",
       "      <th>target</th>\n",
       "      <th>text</th>\n",
       "      <th>num_characters</th>\n",
       "      <th>num_words</th>\n",
       "      <th>num_sentences</th>\n",
       "      <th>transform_text</th>\n",
       "    </tr>\n",
       "  </thead>\n",
       "  <tbody>\n",
       "    <tr>\n",
       "      <th>0</th>\n",
       "      <td>0</td>\n",
       "      <td>Go until jurong point, crazy.. Available only ...</td>\n",
       "      <td>111</td>\n",
       "      <td>24</td>\n",
       "      <td>2</td>\n",
       "      <td>go jurong point crazy available bugis n great ...</td>\n",
       "    </tr>\n",
       "    <tr>\n",
       "      <th>1</th>\n",
       "      <td>0</td>\n",
       "      <td>Ok lar... Joking wif u oni...</td>\n",
       "      <td>29</td>\n",
       "      <td>8</td>\n",
       "      <td>2</td>\n",
       "      <td>ok lar joking wif u oni</td>\n",
       "    </tr>\n",
       "    <tr>\n",
       "      <th>2</th>\n",
       "      <td>1</td>\n",
       "      <td>Free entry in 2 a wkly comp to win FA Cup fina...</td>\n",
       "      <td>155</td>\n",
       "      <td>37</td>\n",
       "      <td>2</td>\n",
       "      <td>free entry 2 wkly comp win fa cup final tkts 2...</td>\n",
       "    </tr>\n",
       "    <tr>\n",
       "      <th>3</th>\n",
       "      <td>0</td>\n",
       "      <td>U dun say so early hor... U c already then say...</td>\n",
       "      <td>49</td>\n",
       "      <td>13</td>\n",
       "      <td>1</td>\n",
       "      <td>u dun say early hor u c already say</td>\n",
       "    </tr>\n",
       "    <tr>\n",
       "      <th>4</th>\n",
       "      <td>0</td>\n",
       "      <td>Nah I don't think he goes to usf, he lives aro...</td>\n",
       "      <td>61</td>\n",
       "      <td>15</td>\n",
       "      <td>1</td>\n",
       "      <td>nah think goes usf lives around though</td>\n",
       "    </tr>\n",
       "  </tbody>\n",
       "</table>\n",
       "</div>"
      ],
      "text/plain": [
       "   target                                               text  num_characters  \\\n",
       "0       0  Go until jurong point, crazy.. Available only ...             111   \n",
       "1       0                      Ok lar... Joking wif u oni...              29   \n",
       "2       1  Free entry in 2 a wkly comp to win FA Cup fina...             155   \n",
       "3       0  U dun say so early hor... U c already then say...              49   \n",
       "4       0  Nah I don't think he goes to usf, he lives aro...              61   \n",
       "\n",
       "   num_words  num_sentences                                     transform_text  \n",
       "0         24              2  go jurong point crazy available bugis n great ...  \n",
       "1          8              2                            ok lar joking wif u oni  \n",
       "2         37              2  free entry 2 wkly comp win fa cup final tkts 2...  \n",
       "3         13              1                u dun say early hor u c already say  \n",
       "4         15              1             nah think goes usf lives around though  "
      ]
     },
     "execution_count": 39,
     "metadata": {},
     "output_type": "execute_result"
    }
   ],
   "source": [
    "dataset.head()"
   ]
  },
  {
   "cell_type": "markdown",
   "metadata": {
    "id": "PWevDh9bE4cP"
   },
   "source": [
    "Creating Word Cloud"
   ]
  },
  {
   "cell_type": "code",
   "execution_count": 40,
   "metadata": {
    "id": "T2-IaloaE6Sx"
   },
   "outputs": [],
   "source": [
    "from wordcloud import WordCloud\n",
    "wc = WordCloud(width=500,height=500,min_font_size=10,background_color='white')"
   ]
  },
  {
   "cell_type": "code",
   "execution_count": 41,
   "metadata": {
    "id": "WSApFZfOE-0W"
   },
   "outputs": [],
   "source": [
    "\n",
    "spam_wc = wc.generate(dataset[dataset['target'] == 1]['transform_text'].str.cat(sep=\" \"))"
   ]
  },
  {
   "cell_type": "code",
   "execution_count": 42,
   "metadata": {
    "colab": {
     "base_uri": "https://localhost:8080/",
     "height": 396
    },
    "id": "ex7zs5QvFFz7",
    "outputId": "fc0bc63e-6a04-449d-c879-5b93d2f8a8b4"
   },
   "outputs": [
    {
     "data": {
      "text/plain": [
       "<matplotlib.image.AxesImage at 0x27eb435d820>"
      ]
     },
     "execution_count": 42,
     "metadata": {},
     "output_type": "execute_result"
    },
    {
     "data": {
      "image/png": "[encoded data removed]",
      "text/plain": [
       "<Figure size 1080x432 with 1 Axes>"
      ]
     },
     "metadata": {
      "needs_background": "light"
     },
     "output_type": "display_data"
    }
   ],
   "source": [
    "plt.figure(figsize=(15,6))\n",
    "plt.imshow(spam_wc)"
   ]
  },
  {
   "cell_type": "code",
   "execution_count": 43,
   "metadata": {
    "id": "OQNV3fkkFO3J"
   },
   "outputs": [],
   "source": [
    "ham_wc = wc.generate(dataset[dataset['target'] == 0]['transform_text'].str.cat(sep=\" \"))"
   ]
  },
  {
   "cell_type": "code",
   "execution_count": 44,
   "metadata": {
    "colab": {
     "base_uri": "https://localhost:8080/",
     "height": 396
    },
    "id": "ritPPVLbFRTT",
    "outputId": "a2e1700f-aac0-4638-9b93-fe8752dcfbce"
   },
   "outputs": [
    {
     "data": {
      "text/plain": [
       "<matplotlib.image.AxesImage at 0x27eb4532fd0>"
      ]
     },
     "execution_count": 44,
     "metadata": {},
     "output_type": "execute_result"
    },
    {
     "data": {
      "image/png": "[encoded data removed]",
      "text/plain": [
       "<Figure size 1080x432 with 1 Axes>"
      ]
     },
     "metadata": {
      "needs_background": "light"
     },
     "output_type": "display_data"
    }
   ],
   "source": [
    "plt.figure(figsize=(15,6))\n",
    "plt.imshow(ham_wc)"
   ]
  },
  {
   "cell_type": "code",
   "execution_count": 45,
   "metadata": {
    "colab": {
     "base_uri": "https://localhost:8080/",
     "height": 424
    },
    "id": "5H907Xy6FVz5",
    "outputId": "ad50ee7b-9a47-499b-9dde-9a903145cc58"
   },
   "outputs": [
    {
     "data": {
      "text/html": [
       "<div>\n",
       "<style scoped>\n",
       "    .dataframe tbody tr th:only-of-type {\n",
       "        vertical-align: middle;\n",
       "    }\n",
       "\n",
       "    .dataframe tbody tr th {\n",
       "        vertical-align: top;\n",
       "    }\n",
       "\n",
       "    .dataframe thead th {\n",
       "        text-align: right;\n",
       "    }\n",
       "</style>\n",
       "<table border=\"1\" class=\"dataframe\">\n",
       "  <thead>\n",
       "    <tr style=\"text-align: right;\">\n",
       "      <th></th>\n",
       "      <th>target</th>\n",
       "      <th>text</th>\n",
       "      <th>num_characters</th>\n",
       "      <th>num_words</th>\n",
       "      <th>num_sentences</th>\n",
       "      <th>transform_text</th>\n",
       "    </tr>\n",
       "  </thead>\n",
       "  <tbody>\n",
       "    <tr>\n",
       "      <th>0</th>\n",
       "      <td>0</td>\n",
       "      <td>Go until jurong point, crazy.. Available only ...</td>\n",
       "      <td>111</td>\n",
       "      <td>24</td>\n",
       "      <td>2</td>\n",
       "      <td>go jurong point crazy available bugis n great ...</td>\n",
       "    </tr>\n",
       "    <tr>\n",
       "      <th>1</th>\n",
       "      <td>0</td>\n",
       "      <td>Ok lar... Joking wif u oni...</td>\n",
       "      <td>29</td>\n",
       "      <td>8</td>\n",
       "      <td>2</td>\n",
       "      <td>ok lar joking wif u oni</td>\n",
       "    </tr>\n",
       "    <tr>\n",
       "      <th>2</th>\n",
       "      <td>1</td>\n",
       "      <td>Free entry in 2 a wkly comp to win FA Cup fina...</td>\n",
       "      <td>155</td>\n",
       "      <td>37</td>\n",
       "      <td>2</td>\n",
       "      <td>free entry 2 wkly comp win fa cup final tkts 2...</td>\n",
       "    </tr>\n",
       "    <tr>\n",
       "      <th>3</th>\n",
       "      <td>0</td>\n",
       "      <td>U dun say so early hor... U c already then say...</td>\n",
       "      <td>49</td>\n",
       "      <td>13</td>\n",
       "      <td>1</td>\n",
       "      <td>u dun say early hor u c already say</td>\n",
       "    </tr>\n",
       "    <tr>\n",
       "      <th>4</th>\n",
       "      <td>0</td>\n",
       "      <td>Nah I don't think he goes to usf, he lives aro...</td>\n",
       "      <td>61</td>\n",
       "      <td>15</td>\n",
       "      <td>1</td>\n",
       "      <td>nah think goes usf lives around though</td>\n",
       "    </tr>\n",
       "  </tbody>\n",
       "</table>\n",
       "</div>"
      ],
      "text/plain": [
       "   target                                               text  num_characters  \\\n",
       "0       0  Go until jurong point, crazy.. Available only ...             111   \n",
       "1       0                      Ok lar... Joking wif u oni...              29   \n",
       "2       1  Free entry in 2 a wkly comp to win FA Cup fina...             155   \n",
       "3       0  U dun say so early hor... U c already then say...              49   \n",
       "4       0  Nah I don't think he goes to usf, he lives aro...              61   \n",
       "\n",
       "   num_words  num_sentences                                     transform_text  \n",
       "0         24              2  go jurong point crazy available bugis n great ...  \n",
       "1          8              2                            ok lar joking wif u oni  \n",
       "2         37              2  free entry 2 wkly comp win fa cup final tkts 2...  \n",
       "3         13              1                u dun say early hor u c already say  \n",
       "4         15              1             nah think goes usf lives around though  "
      ]
     },
     "execution_count": 45,
     "metadata": {},
     "output_type": "execute_result"
    }
   ],
   "source": [
    "dataset.head()"
   ]
  },
  {
   "cell_type": "code",
   "execution_count": 46,
   "metadata": {
    "id": "_PX4CsG3FXNP"
   },
   "outputs": [],
   "source": [
    "spam_corpus=[] \n",
    "for msg in dataset[dataset['target']==1]['transform_text'].tolist():\n",
    "   for word in msg.split():\n",
    "     spam_corpus.append(word)\n"
   ]
  },
  {
   "cell_type": "code",
   "execution_count": 47,
   "metadata": {
    "colab": {
     "base_uri": "https://localhost:8080/"
    },
    "id": "aTx7YGptZzBV",
    "outputId": "42f86d1e-760b-4c11-a89d-5161764d9a75"
   },
   "outputs": [
    {
     "name": "stdout",
     "output_type": "stream",
     "text": [
      "['free', 'entry', '2', 'wkly', 'comp', 'win', 'fa', 'cup', 'final', 'tkts', '21st', 'may', 'text', 'fa', '87121', 'receive', 'entry', 'question', 'std', 'txt', 'rate', 'c', 'apply', '08452810075over18', 'freemsg', 'hey', 'darling', '3', 'week', 'word', 'back', 'like', 'fun', 'still', 'tb', 'ok', 'xxx', 'std', 'chgs', 'send', 'rcv', 'winner', 'valued', 'network', 'customer', 'selected', 'receivea', 'prize', 'reward', 'claim', 'call', 'claim', 'code', 'kl341', 'valid', '12', 'hours', 'mobile', '11', 'months', 'u', 'r', 'entitled', 'update', 'latest', 'colour', 'mobiles', 'camera', 'free', 'call', 'mobile', 'update', 'co', 'free', '08002986030', 'six', 'chances', 'win', 'cash', '100', 'pounds', 'txt', 'csh11', 'send', 'cost', '6days', 'tsandcs', 'apply', 'reply', 'hl', '4', 'info', 'urgent', '1', 'week', 'free', 'membership', 'prize', 'jackpot', 'txt', 'word', 'claim', '81010', 'c', 'lccltd', 'pobox', '4403ldnw1a7rw18', 'xxxmobilemovieclub', 'use', 'credit', 'click', 'wap', 'link', 'next', 'txt', 'message', 'click', 'http', 'england', 'v', 'macedonia', 'dont', 'miss', 'news', 'txt', 'ur', 'national', 'team', '87077', 'eg', 'england', '87077', 'try', 'wales', 'scotland', 'poboxox36504w45wq', 'thanks', 'subscription', 'ringtone', 'uk', 'mobile', 'charged', 'please', 'confirm', 'replying', 'yes', 'reply', 'charged', '07732584351', 'rodger', 'burns', 'msg', 'tried', 'call', 'reply', 'sms', 'free', 'nokia', 'mobile', 'free', 'camcorder', 'please', 'call', '08000930705', 'delivery', 'tomorrow', 'sms', 'ac', 'sptv', 'new', 'jersey', 'devils', 'detroit', 'red', 'wings', 'play', 'ice', 'hockey', 'correct', 'incorrect', 'end', 'reply', 'end', 'sptv', 'congrats', '1', 'year', 'special', 'cinema', 'pass', '2', 'call', '09061209465', 'c', 'suprman', 'v', 'matrix3', 'starwars3', 'etc', '4', 'free', '150pm', 'dont', 'miss', 'valued', 'customer', 'pleased', 'advise', 'following', 'recent', 'review', 'mob', 'awarded', 'bonus', 'prize', 'call', '09066364589', 'urgent', 'ur', 'awarded', 'complimentary', 'trip', 'eurodisinc', 'trav', 'aco', 'entry41', 'claim', 'txt', 'dis', '87121', 'morefrmmob', 'shracomorsglsuplt', '10', 'ls1', '3aj', 'hear', 'new', 'comes', 'ken', 'stuff', 'please', 'call', 'customer', 'service', 'representative', '0800', '169', '6031', 'guaranteed', 'cash', 'prize', 'free', 'ringtone', 'waiting', 'collected', 'simply', 'text', 'password', '85069', 'verify', 'get', 'usher', 'britney', 'fml', 'gent', 'trying', 'contact', 'last', 'weekends', 'draw', 'shows', 'prize', 'guaranteed', 'call', 'claim', 'code', 'k52', 'valid', '12hrs', '150ppm', 'winner', 'u', 'specially', 'selected', '2', 'receive', '4', 'holiday', 'flights', 'inc', 'speak', 'live', 'operator', '2', 'claim', 'private', '2004', 'account', 'statement', '07742676969', 'shows', '786', 'unredeemed', 'bonus', 'points', 'claim', 'call', '08719180248', 'identifier', 'code', '45239', 'expires', 'urgent', 'mobile', 'awarded', 'bonus', 'caller', 'prize', 'final', 'try', 'contact', 'u', 'call', 'landline', '09064019788', 'box42wr29c', '150ppm', 'todays', 'voda', 'numbers', 'ending', '7548', 'selected', 'receive', '350', 'award', 'match', 'please', 'call', '08712300220', 'quoting', 'claim', 'code', '4041', 'standard', 'rates', 'app', 'sunshine', 'quiz', 'wkly', 'q', 'win', 'top', 'sony', 'dvd', 'player', 'u', 'know', 'country', 'algarve', 'txt', 'ansr', 'sp', 'tyrone', 'want', '2', 'get', 'laid', 'tonight', 'want', 'real', 'dogging', 'locations', 'sent', 'direct', '2', 'ur', 'mob', 'join', 'uk', 'largest', 'dogging', 'network', 'bt', 'txting', 'gravel', '69888', 'nt', 'ec2a', '150p', 'rcv', 'msgs', 'chat', 'svc', 'free', 'hardcore', 'services', 'text', 'go', '69988', 'u', 'get', 'nothing', 'u', 'must', 'age', 'verify', 'yr', 'network', 'try', 'freemsg', 'replied', 'text', 'randy', 'sexy', 'female', 'live', 'local', 'luv', 'hear', 'netcollex', 'ltd', '08700621170150p', 'per', 'msg', 'reply', 'stop', 'end', 'customer', 'service', 'annoncement', 'new', 'years', 'delivery', 'waiting', 'please', 'call', '07046744435', 'arrange', 'delivery', 'winner', 'u', 'specially', 'selected', '2', 'receive', 'cash', '4', 'holiday', 'flights', 'inc', 'speak', 'live', 'operator', '2', 'claim', '0871277810810', 'stop', 'bootydelious', 'inviting', 'friend', 'reply', 'see', 'stop', 'send', 'stop', 'frnd', '62468', 'bangbabes', 'ur', 'order', 'way', 'u', 'receive', 'service', 'msg', '2', 'download', 'ur', 'content', 'u', 'goto', 'wap', 'bangb', 'tv', 'ur', 'mobile', 'menu', 'urgent', 'trying', 'contact', 'last', 'weekends', 'draw', 'shows', 'prize', 'guaranteed', 'call', 'claim', 'code', 's89', 'valid', '12hrs', 'please', 'call', 'customer', 'service', 'representative', 'freephone', '0808', '145', '4742', 'guaranteed', 'cash', 'prize', 'unique', 'enough', 'find', '30th', 'august', '500', 'new', 'mobiles', '2004', 'must', 'go', 'txt', 'nokia', '89545', 'collect', 'today', '2optout', 'u', 'meet', 'ur', 'dream', 'partner', 'soon', 'ur', 'career', '2', 'flyng', 'start', '2', 'find', 'free', 'txt', 'horo', 'followed', 'ur', 'star', 'sign', 'horo', 'aries', 'text', 'meet', 'someone', 'sexy', 'today', 'u', 'find', 'date', 'even', 'flirt', 'join', '4', '10p', 'reply', 'name', 'age', 'eg', 'sam', '25', '18', 'recd', 'thirtyeight', 'pence', 'u', '447801259231', 'secret', 'admirer', 'looking', '2', 'make', 'contact', 'r', 'reveal', 'thinks', 'ur', '09058094597', 'congratulations', 'ur', 'awarded', '500', 'cd', 'vouchers', '125gift', 'guaranteed', 'free', 'entry', '2', '100', 'wkly', 'draw', 'txt', 'music', '87066', 'tncs', 'tried', 'contact', 'reply', 'offer', 'video', 'handset', '750', 'anytime', 'networks', 'mins', 'unlimited', 'text', 'camcorder', 'reply', 'call', '08000930705', 'hey', 'really', 'horny', 'want', 'chat', 'see', 'naked', 'text', 'hot', '69698', 'text', 'charged', '150pm', 'unsubscribe', 'text', 'stop', '69698', 'ur', 'ringtone', 'service', 'changed', '25', 'free', 'credits', 'go', 'choose', 'content', 'stop', 'txt', 'club', 'stop', '87070', 'club4', 'po', 'box1146', 'mk45', '2wt', 'ringtone', 'club', 'get', 'uk', 'singles', 'chart', 'mobile', 'week', 'choose', 'top', 'quality', 'ringtone', 'message', 'free', 'charge', 'hmv', 'bonus', 'special', '500', 'pounds', 'genuine', 'hmv', 'vouchers', 'answer', '4', 'easy', 'questions', 'play', 'send', 'hmv', '86688', 'info', 'customer', 'may', 'claim', 'free', 'camera', 'phone', 'upgrade', 'pay', 'go', 'sim', 'card', 'loyalty', 'call', '0845', '021', 'ends', 'c', 'apply', 'sms', 'ac', 'blind', 'date', '4u', 'rodds1', 'aberdeen', 'united', 'kingdom', 'check', 'http', 'sms', 'blind', 'dates', 'send', 'hide', 'themob', 'check', 'newest', 'selection', 'content', 'games', 'tones', 'gossip', 'babes', 'sport', 'keep', 'mobile', 'fit', 'funky', 'text', 'wap', '82468', 'think', 'ur', 'smart', 'win', 'week', 'weekly', 'quiz', 'text', 'play', '85222', 'cs', 'winnersclub', 'po', 'box', '84', 'm26', '3uz', 'december', 'mobile', 'entitled', 'update', 'latest', 'colour', 'camera', 'mobile', 'free', 'call', 'mobile', 'update', 'co', 'free', '08002986906', 'call', 'germany', '1', 'pence', 'per', 'minute', 'call', 'fixed', 'line', 'via', 'access', 'number', '0844', '861', '85', 'prepayment', 'direct', 'access', 'valentines', 'day', 'special', 'win', 'quiz', 'take', 'partner', 'trip', 'lifetime', 'send', 'go', '83600', 'rcvd', 'fancy', 'shag', 'txt', 'xxuk', 'suzy', 'txts', 'cost', 'per', 'msg', 'tncs', 'website', 'x', 'ur', 'currently', '500', 'pounds', 'maximize', 'ur', 'send', 'cash', '86688', 'cc', '08708800282', 'xmas', 'offer', 'latest', 'motorola', 'sonyericsson', 'nokia', 'free', 'bluetooth', 'double', 'mins', '1000', 'txt', 'orange', 'call', 'mobileupd8', '08000839402', 'discount', 'code', 'rp176781', 'stop', 'messages', 'reply', 'stop', 'customer', 'services', '08717205546', 'thanks', 'ringtone', 'order', 'reference', 't91', 'charged', 'gbp', '4', 'per', 'week', 'unsubscribe', 'anytime', 'calling', 'customer', 'services', '09057039994', 'double', 'mins', 'txts', '4', '6months', 'free', 'bluetooth', 'orange', 'available', 'sony', 'nokia', 'motorola', 'phones', 'call', 'mobileupd8', '08000839402', '4mths', 'half', 'price', 'orange', 'line', 'rental', 'latest', 'camera', 'phones', '4', 'free', 'phone', '11mths', 'call', 'mobilesdirect', 'free', '08000938767', 'update', 'or2stoptxt', 'free', 'ringtone', 'text', 'first', '87131', 'poly', 'text', 'get', '87131', 'true', 'tone', 'help', '0845', '2814032', '16', '1st', 'free', 'tones', 'txt', 'stop', '100', 'dating', 'service', 'cal', 'l', '09064012103', 'box334sk38ch', 'free', 'entry', 'weekly', 'competition', 'text', 'word', 'win', '80086', '18', 'c', 'send', 'logo', '2', 'ur', 'lover', '2', 'names', 'joined', 'heart', 'txt', 'love', 'name1', 'name2', 'mobno', 'eg', 'love', 'adam', 'eve', '07123456789', '87077', 'yahoo', 'pobox36504w45wq', 'txtno', '4', 'ads', '150p', 'someone', 'contacted', 'dating', 'service', 'entered', 'phone', 'fancy', 'find', 'call', 'landline', '09111032124', 'pobox12n146tf150p', 'urgent', 'mobile', 'number', 'awarded', 'prize', 'guaranteed', 'call', '09058094455', 'land', 'line', 'claim', 'valid', '12hrs', 'congrats', 'nokia', '3650', 'video', 'camera', 'phone', 'call', '09066382422', 'calls', 'cost', '150ppm', 'ave', 'call', '3mins', 'vary', 'mobiles', 'close', '300603', 'post', 'bcm4284', 'ldn', 'wc1n3xx', 'loan', 'purpose', 'homeowners', 'tenants', 'welcome', 'previously', 'refused', 'still', 'help', 'call', 'free', '0800', '1956669', 'text', 'back', 'upgrdcentre', 'orange', 'customer', 'may', 'claim', 'free', 'camera', 'phone', 'upgrade', 'loyalty', 'call', '0207', '153', 'offer', 'ends', '26th', 'july', 'c', 'apply', 'available', 'okmail', 'dear', 'dave', 'final', 'notice', 'collect', '4', 'tenerife', 'holiday', '5000', 'cash', 'award', 'call', '09061743806', 'landline', 'tcs', 'sae', 'box326', 'cw25wx', '150ppm', 'want', '2', 'get', 'laid', 'tonight', 'want', 'real', 'dogging', 'locations', 'sent', 'direct', '2', 'ur', 'mob', 'join', 'uk', 'largest', 'dogging', 'network', 'txting', 'moan', '69888nyt', 'ec2a', '150p', 'free', 'message', 'activate', '500', 'free', 'text', 'messages', 'replying', 'message', 'word', 'free', 'terms', 'conditions', 'visit', 'congrats', '1', 'year', 'special', 'cinema', 'pass', '2', 'call', '09061209465', 'c', 'suprman', 'v', 'matrix3', 'starwars3', 'etc', '4', 'free', '150pm', 'dont', 'miss', 'congratulations', 'week', 'competition', 'draw', 'u', 'prize', 'claim', 'call', '09050002311', 'b4280703', 'sms', '18', '150ppm', 'guaranteed', 'latest', 'nokia', 'phone', '40gb', 'ipod', 'mp3', 'player', 'prize', 'txt', 'word', 'collect', '83355', 'ibhltd', 'ldnw15h', 'boltblue', 'tones', '150p', 'reply', 'poly', 'mono', 'eg', 'poly3', 'cha', 'cha', 'slide', 'yeah', 'slow', 'jamz', 'toxic', 'come', 'stop', '4', 'tones', 'txt', 'credits', 'topped', 'http', 'renewal', 'pin', 'tgxxrz', 'urgent', 'mobile', 'awarded', 'bonus', 'caller', 'prize', '2nd', 'attempt', 'contact', 'call', 'box95qu', 'today', 'offer', 'claim', 'ur', 'worth', 'discount', 'vouchers', 'text', 'yes', '85023', 'savamob', 'member', 'offers', 'mobile', 'cs', 'sub', '16', 'unsub', 'reply', 'x', 'recieve', 'tone', 'within', 'next', '24hrs', 'terms', 'conditions', 'please', 'see', 'channel', 'u', 'teletext', 'pg', '750', 'private', '2003', 'account', 'statement', '07815296484', 'shows', '800', 'points', 'call', '08718738001', 'identifier', 'code', '41782', 'expires', 'monthlysubscription', 'csc', 'web', 'age16', '2stop', 'txt', 'stop', 'gent', 'trying', 'contact', 'last', 'weekends', 'draw', 'shows', 'prize', 'guaranteed', 'call', 'claim', 'code', 'k52', 'valid', '12hrs', '150ppm', 'cash', 'prize', 'claim', 'call09050000327', 'mobile', 'number', 'claim', 'calls', 'us', 'back', 'ring', 'claims', 'hot', 'line', '09050005321', 'tried', 'contact', 'reply', 'offer', '750', 'mins', '150', 'textand', 'new', 'video', 'phone', 'call', '08002988890', 'reply', 'free', 'delivery', 'tomorrow', 'ur', 'chance', 'win', 'wkly', 'shopping', 'spree', 'txt', 'shop', 'c', 'custcare', '08715705022', 'specially', 'selected', 'receive', '2000', 'pound', 'award', 'call', '08712402050', 'lines', 'close', 'cost', '10ppm', 'cs', 'apply', 'ag', 'promo', 'private', '2003', 'account', 'statement', '07753741225', 'shows', '800', 'points', 'call', '08715203677', 'identifier', 'code', '42478', 'expires', 'important', 'customer', 'service', 'announcement', 'call', 'freephone', '0800', '542', '0825', 'xclusive', 'clubsaisai', '2morow', 'soiree', 'speciale', 'zouk', 'nichols', 'roses', '2', 'ladies', 'info', '22', 'days', 'kick', 'euro2004', 'u', 'kept', 'date', 'latest', 'news', 'results', 'daily', 'removed', 'send', 'get', 'txt', 'stop', '83222', 'new', 'textbuddy', 'chat', '2', 'horny', 'guys', 'ur', 'area', '4', '25p', 'free', '2', 'receive', 'search', 'postcode', 'txt', 'one', 'name', '89693', 'todays', 'vodafone', 'numbers', 'ending', '4882', 'selected', 'receive', 'award', 'number', 'matches', 'call', '09064019014', 'receive', 'award', 'dear', 'voucher', 'holder', '2', 'claim', 'weeks', 'offer', 'pc', 'go', 'http', 'ts', 'cs', 'stop', 'texts', 'txt', 'stop', '80062', 'private', '2003', 'account', 'statement', 'shows', '800', 'points', 'call', '08715203694', 'identifier', 'code', '40533', 'expires', 'cash', 'prize', 'claim', 'call09050000327', 'c', 'rstm', 'sw7', '3ss', '150ppm', '88800', '89034', 'premium', 'phone', 'services', 'call', '08718711108', 'sms', 'ac', 'sun0819', 'posts', 'hello', 'seem', 'cool', 'get', 'ur', '1st', 'ringtone', 'free', 'reply', 'msg', 'tone', 'gr8', 'top', '20', 'tones', 'phone', 'every', 'week', 'per', 'wk', '2', 'opt', 'send', 'stop', '08452810071', '16', 'hi', 'sue', '20', 'years', 'old', 'work', 'lapdancer', 'love', 'sex', 'text', 'live', 'bedroom', 'text', 'sue', 'textoperator', 'g2', '1da', '150ppmsg', 'forwarded', '448712404000', 'please', 'call', '08712404000', 'immediately', 'urgent', 'message', 'waiting', 'review', 'keep', 'fantastic', 'nokia', 'game', 'deck', 'club', 'nokia', 'go', '2', 'unsubscribe', 'alerts', 'reply', 'word', '4mths', 'half', 'price', 'orange', 'line', 'rental', 'latest', 'camera', 'phones', '4', 'free', 'phone', 'call', 'mobilesdirect', 'free', '08000938767', 'update', 'or2stoptxt', 'cs', '08714712388', 'cost', '10p', 'urgent', '2nd', 'attempt', 'contact', 'u', 'u', 'call', '09071512433', 'b4', '050703', 'csbcm4235wc1n3xx', 'callcost', '150ppm', 'mobilesvary', '50', 'guaranteed', 'cash', 'prize', 'claim', 'yr', 'prize', 'call', 'customer', 'service', 'representative', '08714712394', 'email', 'alertfrom', 'jeri', 'stewartsize', '2kbsubject', 'prescripiton', 'drvgsto', 'listen', 'email', 'call', '123', 'hi', 'customer', 'loyalty', 'offer', 'new', 'nokia6650', 'mobile', 'txtauction', 'txt', 'word', 'start', '81151', 'get', '4t', 'ctxt', 'tc', 'u', 'subscribed', 'best', 'mobile', 'content', 'service', 'uk', 'per', '10', 'days', 'send', 'stop', 'helpline', '08706091795', 'realize', '40', 'years', 'thousands', 'old', 'ladies', 'running', 'around', 'tattoos', 'important', 'customer', 'service', 'announcement', 'premier', 'romantic', 'paris', '2', 'nights', '2', 'flights', 'book', '4', 'next', 'year', 'call', '08704439680ts', 'cs', 'apply', 'urgent', 'ur', 'guaranteed', 'award', 'still', 'unclaimed', 'call', '09066368327', 'claimcode', 'm39m51', 'ur', 'awarded', 'city', 'break', 'could', 'win', 'summer', 'shopping', 'spree', 'every', 'wk', 'txt', 'store', '88039', 'skilgme', 'tscs087147403231winawk', 'age16', 'important', 'customer', 'service', 'announcement', 'premier', 'call', 'freephone', '0800', '542', '0578', 'ever', 'thought', 'living', 'good', 'life', 'perfect', 'partner', 'txt', 'back', 'name', 'age', 'join', 'mobile', 'community', '5', 'free', 'top', 'polyphonic', 'tones', 'call', '087018728737', 'national', 'rate', 'get', 'toppoly', 'tune', 'sent', 'every', 'week', 'text', 'subpoly', '81618', 'per', 'pole', 'unsub', '08718727870', 'orange', 'customer', 'may', 'claim', 'free', 'camera', 'phone', 'upgrade', 'loyalty', 'call', '0207', '153', 'offer', 'ends', '14thmarch', 'c', 'apply', 'availa', 'last', 'chance', 'claim', 'ur', 'worth', 'discount', 'vouchers', 'today', 'text', 'shop', '85023', 'savamob', 'offers', 'mobile', 'cs', 'savamob', 'pobox84', 'm263uz', 'sub', '16', 'free', '1st', 'week', 'no1', 'nokia', 'tone', '4', 'ur', 'mobile', 'every', 'week', 'txt', 'nokia', '8077', 'get', 'txting', 'tell', 'ur', 'mates', 'pobox', '36504', 'w45wq', 'guaranteed', 'award', 'even', 'cashto', 'claim', 'ur', 'award', 'call', 'free', '08000407165', '2', 'stop', 'getstop', '88222', 'php', 'rg21', '4jx', 'congratulations', 'ur', 'awarded', 'either', 'cd', 'gift', 'vouchers', 'free', 'entry', '2', 'weekly', 'draw', 'txt', 'music', '87066', 'tncs', 'u', 'outbid', 'simonwatson5120', 'shinco', 'dvd', 'plyr', '2', 'bid', 'visit', 'sms', '2', 'end', 'bid', 'notifications', 'reply', 'end', 'smsservices', 'yourinclusive', 'text', 'credits', 'pls', 'goto', '3qxj9', 'unsubscribe', 'stop', 'extra', 'charge', 'help', '9ae', '25p', '4', 'alfie', 'moon', 'children', 'need', 'song', 'ur', 'mob', 'tell', 'ur', 'm8s', 'txt', 'tone', 'charity', '8007', 'nokias', 'poly', 'charity', 'polys', 'zed', '08701417012', 'profit', '2', 'charity', 'u', 'secret', 'admirer', 'reveal', 'thinks', 'u', 'r', 'special', 'call', 'opt', 'reply', 'reveal', 'stop', 'per', 'msg', 'recd', 'cust', 'care', '07821230901', 'dear', 'voucher', 'holder', 'claim', 'weeks', 'offer', 'pc', 'please', 'go', 'http', 'ts', 'cs', 'apply', 'stop', 'texts', 'txt', 'stop', '80062', 'want', '750', 'anytime', 'network', 'mins', '150', 'text', 'new', 'video', 'phone', 'five', 'pounds', 'per', 'week', 'call', '08002888812', 'reply', 'delivery', 'tomorrow', 'tried', 'contact', 'offer', 'new', 'video', 'phone', '750', 'anytime', 'network', 'mins', 'half', 'price', 'rental', 'camcorder', 'call', '08000930705', 'reply', 'delivery', 'wed', 'last', 'chance', '2', 'claim', 'ur', 'worth', 'discount', 'yes', '85023', 'offers', 'mobile', 'cs', 'sub', '16', 'remove', 'txt', 'x', 'stop', 'urgent', 'call', '09066350750', 'landline', 'complimentary', '4', 'ibiza', 'holiday', 'cash', 'await', 'collection', 'sae', 'cs', 'po', 'box', '434', 'sk3', '8wp', '150', 'ppm', 'talk', 'sexy', 'make', 'new', 'friends', 'fall', 'love', 'worlds', 'discreet', 'text', 'dating', 'service', 'text', 'vip', '83110', 'see', 'could', 'meet', 'congratulations', 'ur', 'awarded', 'either', 'yrs', 'supply', 'cds', 'virgin', 'records', 'mystery', 'gift', 'guaranteed', 'call', '09061104283', 'ts', 'cs', 'approx', '3mins', 'private', '2003', 'account', 'statement', '07808', 'xxxxxx', 'shows', '800', 'points', 'call', '08719899217', 'identifier', 'code', '41685', 'expires', 'hello', 'need', 'posh', 'birds', 'chaps', 'user', 'trial', 'prods', 'champneys', 'put', 'need', 'address', 'dob', 'asap', 'ta', 'r', 'u', 'want', 'xmas', '100', 'free', 'text', 'messages', 'new', 'video', 'phone', 'half', 'price', 'line', 'rental', 'call', 'free', '0800', '0721072', 'find', 'shop', 'till', 'u', 'drop', 'either', '10k', '5k', 'cash', 'travel', 'voucher', 'call', 'ntt', 'po', 'box', 'cr01327bt', 'fixedline', 'cost', '150ppm', 'mobile', 'vary', 'sunshine', 'quiz', 'wkly', 'q', 'win', 'top', 'sony', 'dvd', 'player', 'u', 'know', 'country', 'liverpool', 'played', 'mid', 'week', 'txt', 'ansr', 'sp', 'tyrone', 'u', 'secret', 'admirer', 'looking', '2', 'make', 'contact', 'r', 'reveal', 'thinks', 'ur', '09058094565', 'u', 'secret', 'admirer', 'looking', '2', 'make', 'contact', 'r', 'reveal', 'thinks', 'ur', 'reminder', 'downloaded', 'content', 'already', 'paid', 'goto', 'http', 'mymoby', 'collect', 'content', 'lastest', 'stereophonics', 'marley', 'dizzee', 'racal', 'libertines', 'strokes', 'win', 'nookii', 'games', 'flirt', 'click', 'themob', 'wap', 'bookmark', 'text', 'wap', '82468', 'january', 'male', 'sale', 'hot', 'gay', 'chat', 'cheaper', 'call', 'national', 'rate', 'cheap', 'peak', 'stop', 'texts', 'call', '08712460324', 'money', 'r', 'lucky', 'winner', '2', 'claim', 'prize', 'text', 'money', '2', '88600', 'give', 'away', 'text', 'rate', 'box403', 'w1t1jy', 'dear', 'matthew', 'please', 'call', '09063440451', 'landline', 'complimentary', '4', 'lux', 'tenerife', 'holiday', 'cash', 'await', 'collection', 'ppm150', 'sae', 'cs', 'box334', 'sk38xh', 'urgent', 'call', '09061749602', 'landline', 'complimentary', '4', 'tenerife', 'holiday', 'cash', 'await', 'collection', 'sae', 'cs', 'box', '528', 'hp20', '1yf', '150ppm', 'getting', 'touch', 'folks', 'waiting', 'company', 'txt', 'back', 'name', 'age', 'opt', 'enjoy', 'community', 'ur', 'currently', '500', 'pounds', 'maximize', 'ur', 'send', 'go', '86688', 'cc', '08718720201', 'po', 'box', 'filthy', 'stories', 'girls', 'waiting', 'urgent', 'trying', 'contact', 'todays', 'draw', 'shows', 'prize', 'guaranteed', 'call', '09050001808', 'land', 'line', 'claim', 'm95', 'valid12hrs', 'congrats', '2', 'mobile', '3g', 'videophones', 'r', 'call', '09063458130', 'videochat', 'wid', 'mates', 'play', 'java', 'games', 'dload', 'polyph', 'music', 'noline', 'rentl', 'panasonic', 'bluetoothhdset', 'free', 'nokia', 'free', 'motorola', 'free', 'doublemins', 'doubletxt', 'orange', 'contract', 'call', 'mobileupd8', '08000839402', 'call', '2optout', 'free', '1st', 'week', 'no1', 'nokia', 'tone', '4', 'ur', 'mob', 'every', 'week', 'txt', 'nokia', '8007', 'get', 'txting', 'tell', 'ur', 'mates', 'pobox', '36504', 'w45wq', 'guess', 'somebody', 'know', 'secretly', 'fancies', 'wan', 'na', 'find', 'give', 'us', 'call', '09065394514', 'landline', 'datebox1282essexcm61xn', '18', 'know', 'someone', 'know', 'fancies', 'call', '09058097218', 'find', 'pobox', '6', 'ls15hb', '150p', '1000', 'flirting', 'txt', 'girl', 'bloke', 'ur', 'name', 'age', 'eg', 'girl', 'zoe', '18', '8007', 'join', 'get', 'chatting', '18', 'days', 'euro2004', 'kickoff', 'u', 'kept', 'informed', 'latest', 'news', 'results', 'daily', 'unsubscribe', 'send', 'get', 'euro', 'stop', '83222', 'eastenders', 'tv', 'quiz', 'flower', 'dot', 'compare', 'violet', 'tulip', 'lily', 'txt', 'e', 'f', '84025', '4', 'chance', '2', 'win', 'cash', 'new', 'local', 'dates', 'area', 'lots', 'new', 'people', 'registered', 'area', 'reply', 'date', 'start', '18', 'replys150', 'someone', 'u', 'know', 'asked', 'dating', 'service', '2', 'contact', 'cant', 'guess', 'call', '09058091854', 'revealed', 'po', 'box385', 'm6', '6wu', 'urgent', 'trying', 'contact', 'todays', 'draw', 'shows', 'prize', 'guaranteed', 'call', '09050003091', 'land', 'line', 'claim', 'c52', 'valid12hrs', 'dear', 'u', 'invited', 'xchat', 'final', 'attempt', 'contact', 'u', 'txt', 'chat', '86688', 'awarded', 'sipix', 'digital', 'camera', 'call', '09061221061', 'landline', 'delivery', 'within', '28days', 'cs', 'box177', 'm221bp', '2yr', 'warranty', '150ppm', '16', 'p', 'win', 'urgent', 'mobile', 'number', 'awarded', 'prize', 'guaranteed', 'call', '09061790121', 'land', 'line', 'claim', '3030', 'valid', '12hrs', '150ppm', 'dear', 'subscriber', 'ur', 'draw', '4', 'gift', 'voucher', 'b', 'entered', 'receipt', 'correct', 'ans', 'elvis', 'presleys', 'birthday', 'txt', 'answer', '80062', 'message', 'important', 'information', 'o2', 'user', 'today', 'lucky', 'day', '2', 'find', 'log', 'onto', 'http', 'fantastic', 'surprise', 'awaiting', '449050000301', 'price', 'claim', 'call', '09050000301', 'bored', 'speed', 'dating', 'try', 'speedchat', 'txt', 'speedchat', '80155', 'like', 'em', 'txt', 'swap', 'get', 'new', 'chatter', 'chat80155', 'pobox36504w45wq', 'rcd', '16', 'want', '750', 'anytime', 'network', 'mins', '150', 'text', 'new', 'video', 'phone', 'five', 'pounds', 'per', 'week', 'call', '08000776320', 'reply', 'delivery', 'tomorrow', 'taking', 'part', 'mobile', 'survey', 'yesterday', '500', 'texts', '2', 'use', 'however', 'wish', '2', 'get', 'txts', 'send', 'txt', '80160', 'c', 'ur', 'hmv', 'quiz', 'currently', 'maximize', 'ur', 'send', 'hmv1', '86688', 'dont', 'forget', 'place', 'many', 'free', 'requests', 'wish', 'information', 'call', '08707808226', 'know', 'u', 'u', 'know', 'send', 'chat', '86688', 'let', 'find', 'rcvd', 'ldn', '18', 'years', 'thank', 'winner', 'notified', 'sms', 'good', 'luck', 'future', 'marketing', 'reply', 'stop', '84122', 'customer', 'services', '08450542832', '1000', 'girls', 'many', 'local', '2', 'u', 'r', 'virgins', '2', 'r', 'ready', '2', '4fil', 'ur', 'every', 'sexual', 'need', 'u', '4fil', 'text', 'cute', '69911', 'got', 'takes', '2', 'take', 'part', 'wrc', 'rally', 'oz', 'u', 'lucozade', 'energy', 'text', 'rally', 'le', '61200', '25p', 'see', 'packs', 'itcould', 'u', 'sex', 'ur', 'mobile', 'free', 'sexy', 'pic', 'jordan', 'text', 'babe', 'every', 'wk', 'get', 'sexy', 'celeb', '4', 'pics', '16', '087016248', '1', 'new', 'voicemail', 'please', 'call', '08719181503', 'win', 'year', 'supply', 'cds', '4', 'store', 'ur', 'choice', 'worth', 'enter', 'weekly', 'draw', 'txt', 'music', '87066', 'ts', 'cs', 'sim', 'subscriber', 'selected', 'receive', 'bonus', 'get', 'delivered', 'door', 'txt', 'word', 'ok', '88600', 'claim', 'exp', '30apr', '1', 'new', 'voicemail', 'please', 'call', '08719181513', '1', 'nokia', 'tone', '4', 'ur', 'mob', 'every', 'week', 'txt', 'nok', '87021', '1st', 'tone', 'free', 'get', 'txtin', 'tell', 'ur', 'friends', '16', 'reply', 'hl', '4info', 'reply', 'name', 'address', 'receive', 'post', 'weeks', 'completely', 'free', 'accommodation', 'various', 'global', 'locations', 'free', 'entry', 'weekly', 'comp', 'send', 'word', 'enter', '84128', '18', 'c', 'cust', 'care', '08712405020', 'please', 'call', '08712402779', 'immediately', 'urgent', 'message', 'waiting', 'hungry', 'gay', 'guys', 'feeling', 'hungry', '4', 'call', '08718730555', 'stop', 'texts', 'call', '08712460324', 'u', 'get', '2', 'phone', 'wan', 'na', 'chat', '2', 'set', 'meet', 'call', '09096102316', 'u', 'cum', '2moro', 'luv', 'jane', 'xx', 'network', 'operator', 'service', 'free', 'c', 'visit', 'enjoy', 'jamster', 'videosound', 'gold', 'club', 'credits', '2', 'new', 'get', 'fun', 'help', 'call', '09701213186', 'get', '3', 'lions', 'england', 'tone', 'reply', 'lionm', '4', 'mono', 'lionp', '4', 'poly', '4', 'go', '2', 'original', 'n', 'best', 'tones', '3gbp', 'network', 'operator', 'rates', 'apply', 'win', 'newest', 'potter', 'order', 'phoenix', 'book', '5', 'reply', 'harry', 'answer', '5', 'questions', 'chance', 'first', 'among', 'readers', 'ur', 'balance', 'ur', 'next', 'question', 'sang', 'girl', '80', '2', 'answer', 'txt', 'ur', 'answer', 'good', 'luck', 'free2day', 'sexy', 'st', 'george', 'day', 'pic', 'jordan', 'txt', 'pic', '89080', 'dont', 'miss', 'every', 'wk', 'saucy', 'celeb', '4', 'pics', 'c', '0870241182716', 'hot', 'live', 'fantasies', 'call', '08707509020', '20p', 'per', 'min', 'ntt', 'ltd', 'po', 'box', '1327', 'croydon', 'cr9', '5wb', '0870', 'k', 'bears', 'pic', 'nick', 'tom', 'pete', 'dick', 'fact', 'types', 'try', 'gay', 'chat', 'photo', 'upload', 'call', '08718730666', '2', 'stop', 'texts', 'call', '08712460324', '500', 'new', 'mobiles', '2004', 'must', 'go', 'txt', 'nokia', '89545', 'collect', 'today', '2optout', 'txtauction', 'double', 'mins', 'double', 'txt', 'price', 'linerental', 'latest', 'orange', 'bluetooth', 'mobiles', 'call', 'mobileupd8', 'latest', 'offers', '08000839402', 'urgent', 'important', 'information', 'o2', 'user', 'today', 'lucky', 'day', '2', 'find', 'log', 'onto', 'http', 'fantastic', 'surprise', 'awaiting', 'dear', 'u', 'invited', 'xchat', 'final', 'attempt', 'contact', 'u', 'txt', 'chat', '86688', 'ldn', '18', 'yrs', 'congratulations', 'ur', 'awarded', 'either', 'cd', 'gift', 'vouchers', 'free', 'entry', '2', 'weekly', 'draw', 'txt', 'music', '87066', 'tncs', '1', 'win150ppmx3age16', 'sale', 'arsenal', 'dartboard', 'good', 'condition', 'doubles', 'trebles', 'free', '1st', 'week', 'entry', '2', 'textpod', '4', 'chance', '2', 'win', '40gb', 'ipod', 'cash', 'every', 'wk', 'txt', 'pod', '84128', 'ts', 'cs', 'custcare', '08712405020', 'registered', 'optin', 'subscriber', 'ur', 'draw', '4', 'gift', 'voucher', 'entered', 'receipt', 'correct', 'ans', '80062', 'whats', 'no1', 'bbc', 'charts', 'summers', 'finally', 'fancy', 'chat', 'flirt', 'sexy', 'singles', 'yr', 'area', 'get', 'matched', 'reply', 'summer', 'free', '2', 'join', 'optout', 'txt', 'stop', 'help08714742804', 'claire', 'havin', 'borin', 'time', 'alone', 'u', 'wan', 'na', 'cum', '2nite', 'chat', '09099725823', 'hope', '2', 'c', 'u', 'luv', 'claire', 'xx', 'bought', 'one', 'ringtone', 'getting', 'texts', 'costing', '3', 'pound', 'offering', 'tones', 'etc', '09066362231', 'urgent', 'mobile', '07xxxxxxxxx', 'bonus', 'caller', 'prize', '2nd', 'attempt', 'reach', 'call', '09066362231', 'asap', '07801543489', 'guaranteed', 'latests', 'nokia', 'phone', '40gb', 'ipod', 'mp3', 'player', 'prize', 'txt', 'word', 'collect', 'hi', 'lucy', 'hubby', 'meetins', 'day', 'fri', 'b', 'alone', 'hotel', 'u', 'fancy', 'cumin', 'pls', 'leave', 'msg', '2day', '09099726395', 'lucy', 'x', 'account', 'credited', '500', 'free', 'text', 'messages', 'activate', 'txt', 'word', 'credit', '80488', 'cs', 'sms', 'ac', 'jsco', 'energy', 'high', 'u', 'may', 'know', '2channel', '2day', 'ur', 'leadership', 'skills', 'r', 'strong', 'psychic', 'reply', 'ans', 'end', 'reply', 'end', 'jsco', 'hot', 'live', 'fantasies', 'call', '08707509020', '20p', 'per', 'min', 'ntt', 'ltd', 'po', 'box', '1327', 'croydon', 'cr9', '5wb', '0870', 'national', 'rate', 'call', 'thanks', 'vote', 'sing', 'along', 'stars', 'karaoke', 'mobile', 'free', 'link', 'reply', 'sing', 'brand', 'new', 'mobile', 'music', 'service', 'live', 'free', 'music', 'player', 'arrive', 'shortly', 'install', 'phone', 'browse', 'content', 'top', 'artists', 'urgent', 'mobile', 'awarded', 'bonus', 'caller', 'prize', '2nd', 'attempt', 'contact', 'call', 'box95qu', 'bt', 'national', 'rate', 'nokia', '7250i', 'get', 'win', 'free', 'auction', 'take', 'part', 'send', 'nokia', '86021', 'hello', 'orange', '1', 'month', 'free', 'access', 'games', 'news', 'sport', 'plus', '10', 'free', 'texts', '20', 'photo', 'messages', 'reply', 'yes', 'terms', 'apply', 'ur', 'currently', '500', 'pounds', 'maximize', 'ur', 'send', 'go', '86688', 'cc', '08718720201', 'sms', 'auction', 'brand', 'new', 'nokia', '7250', '4', 'auction', 'today', 'auction', 'free', '2', 'join', 'take', 'part', 'txt', 'nokia', '86021', 'private', '2003', 'account', 'statement', 'shows', '800', 'points', 'call', '08719899230', 'identifier', 'code', '41685', 'expires', 'registered', 'subscriber', 'yr', 'draw', '4', 'gift', 'voucher', 'b', 'entered', 'receipt', 'correct', 'ans', 'next', 'olympics', 'txt', 'ans', '80062', 'urgent', 'mobile', 'number', 'awarded', 'prize', 'guaranteed', 'call', '09061790121', 'land', 'line', 'claim', 'valid', '12hrs', '150ppm', 'pro', 'video', 'club', 'need', 'help', 'info', 'call', '08701237397', 'must', 'club', 'credits', 'redeemable', 'enjoy', 'u', 'secret', 'admirer', 'looking', '2', 'make', 'contact', 'r', 'reveal', 'thinks', 'ur', '09058094599', '500', 'free', 'text', 'msgs', 'text', 'ok', '80488', 'credit', 'account', 'selected', 'stay', '1', '250', 'top', 'british', 'hotels', 'nothing', 'holiday', 'worth', 'claim', 'call', 'london', 'bx', '526', 'sw73ss', 'eerie', 'nokia', 'tones', '4u', 'rply', 'tone', 'title', '8007', 'eg', 'tone', 'dracula', '8007', 'titles', 'ghost', 'addamsfa', 'munsters', 'exorcist', 'twilight', 'pobox36504w45wq', '150p', '0a', 'networks', 'allow', 'companies', 'bill', 'sms', 'responsible', 'freemsg', 'feelin', 'kinda', 'lnly', 'hope', 'u', 'like', '2', 'keep', 'company', 'jst', 'got', 'cam', 'moby', 'wan', 'na', 'c', 'pic', 'txt', 'reply', 'date', '82242', 'msg150p', '2rcv', 'hlp', '08712317606', 'stop', '82242', 'ur', 'chance', 'win', 'cash', 'every', 'wk', 'txt', 'action', 'c', 'custcare', '08712405022', 'rgent', '2nd', 'attempt', 'contact', 'u', 'u', 'call', '09071512433', 'b4', '050703', 'csbcm4235wc1n3xx', 'callcost', '150ppm', 'mobilesvary', '50', 'hi', 'ur', 'lookin', '4', 'saucy', 'daytime', 'fun', 'wiv', 'busty', 'married', 'woman', 'free', 'next', 'week', 'chat', '2', 'sort', 'time', '09099726429', 'janinexx', 'urgent', 'trying', 'contact', 'todays', 'draw', 'shows', 'prize', 'guaranteed', 'call', '09050001295', 'land', 'line', 'claim', 'a21', 'valid', '12hrs', 'monthly', 'password', 'wap', 'use', 'wap', 'phone', 'pc', 'todays', 'vodafone', 'numbers', 'ending', '0089', 'last', 'four', 'digits', 'selected', 'received', 'award', 'number', 'matches', 'please', 'call', '09063442151', 'claim', 'award', 'free', 'top', 'ringtone', 'weekly', '1st', 'week', 'subpoly', '3', 'per', 'free', 'msg', 'sorry', 'service', 'ordered', '81303', 'could', 'delivered', 'sufficient', 'credit', 'please', 'top', 'receive', 'service', 'hard', 'live', '121', 'chat', 'choose', 'girl', 'connect', 'live', 'call', '09094646899', 'cheap', 'chat', 'uk', 'biggest', 'live', 'service', 'vu', 'bcm1896wc1n3xx', 'wow', 'boys', 'r', 'back', 'take', '2007', 'uk', 'tour', 'win', 'vip', 'tickets', 'vip', 'club', 'txt', 'club', 'trackmarque', 'ltd', 'info', 'vipclub4u', 'hi', 'mandy', 'sullivan', 'calling', 'hotmix', 'fm', 'chosen', 'receive', 'easter', 'prize', 'draw', 'please', 'telephone', '09041940223', 'claim', 'prize', 'transferred', 'someone', 'else', 'ur', 'going', '2', 'bahamas', 'callfreefone', '08081560665', 'speak', 'live', 'operator', 'claim', 'either', 'bahamas', 'cruise', 'cash', 'opt', 'txt', 'x', '07786200117', 'someone', 'conacted', 'dating', 'service', 'entered', 'phone', 'fancy', 'find', 'call', 'landline', 'pobox12n146tf15', 'hi', '07734396839', 'ibh', 'customer', 'loyalty', 'offer', 'new', 'nokia6600', 'mobile', 'txtauction', 'txt', 'word', 'start', 'get', '4t', 'sms', 'auction', 'nokia', '7250i', 'get', 'win', 'free', 'auction', 'take', 'part', 'send', 'nokia', '86021', 'call', 'freephone', '0800', '542', '0578', 'buy', 'space', 'invaders', '4', 'chance', '2', 'win', 'orig', 'arcade', 'game', 'console', 'press', '0', 'games', 'arcade', 'std', 'wap', 'charge', 'see', '4', 'terms', 'settings', 'purchase', 'big', 'brother', 'alert', 'computer', 'selected', 'u', '10k', 'cash', '150', 'voucher', 'call', 'ntt', 'po', 'box', 'cro1327', 'bt', 'landline', 'cost', '150ppm', 'mobiles', 'vary', 'win', 'winner', 'foley', 'ipod', 'exciting', 'prizes', 'soon', 'keep', 'eye', 'ur', 'mobile', 'visit', 'todays', 'voda', 'numbers', 'ending', '1225', 'selected', 'receive', 'match', 'please', 'call', '08712300220', 'quoting', 'claim', 'code', '3100', 'standard', 'rates', 'app', 'hottest', 'pics', 'straight', 'phone', 'see', 'getting', 'wet', 'wanting', 'xx', 'text', 'pics', '89555', 'txt', 'costs', '150p', 'textoperator', 'g696ga', '18', 'xxx', 'hack', 'chat', 'get', 'backdoor', 'entry', '121', 'chat', 'rooms', 'fraction', 'cost', 'reply', 'neo69', 'call', '09050280520', 'subscribe', '25p', 'pm', 'dps', 'bcm', 'box', '8027', 'ldn', 'wc1n3xx', 'free', 'nokia', 'motorola', 'upto', '12mths', 'linerental', '500', 'free', 'mins', 'free', 'call', 'mobileupd8', '08001950382', 'call', '2nd', 'time', 'tried', '2', 'contact', 'u', '750', 'pound', 'prize', '2', 'claim', 'easy', 'call', '08718726970', '10p', 'per', 'min', 'guaranteed', 'cash', 'claim', 'yr', 'prize', 'call', 'customer', 'service', 'representative', 'would', 'like', 'see', 'xxx', 'pics', 'hot', 'nearly', 'banned', 'uk', 'u', 'secret', 'admirer', 'looking', '2', 'make', 'contact', 'r', 'reveal', 'thinks', 'ur', '09058094594', 'dear', '0776xxxxxxx', 'u', 'invited', 'xchat', 'final', 'attempt', 'contact', 'u', 'txt', 'chat', '86688', 'ldn', '18yrs', 'urgent', 'please', 'call', '09061743811', 'landline', 'abta', 'complimentary', '4', 'tenerife', 'holiday', 'cash', 'await', 'collection', 'sae', 'cs', 'box', '326', 'cw25wx', '150ppm', 'call', '09090900040', 'listen', 'extreme', 'dirty', 'live', 'chat', 'going', 'office', 'right', 'total', 'privacy', 'one', 'knows', 'sic', 'listening', '60p', 'min', 'freemsg', 'hey', 'u', 'got', '1', 'fones', 'reply', 'wild', 'txt', 'ill', 'send', 'u', 'pics', 'hurry', 'im', 'bored', 'work', 'xxx', '18', 'stop2stop', 'free', 'entry', '2', 'weekly', 'comp', 'chance', 'win', 'ipod', 'txt', 'pod', '80182', 'get', 'entry', 'std', 'txt', 'rate', 'c', 'apply', '08452810073', 'details', 'new', 'textbuddy', 'chat', '2', 'horny', 'guys', 'ur', 'area', '4', '25p', 'free', '2', 'receive', 'search', 'postcode', 'txt', 'one', 'name', '89693', '08715500022', 'rpl', 'stop', '2', 'cnl', 'call', '08702490080', 'tells', 'u', '2', 'call', '09066358152', 'claim', 'prize', 'u', '2', 'enter', 'ur', 'mobile', 'personal', 'details', 'prompts', 'careful', 'free', '1st', 'week', 'entry', '2', 'textpod', '4', 'chance', '2', 'win', '40gb', 'ipod', 'cash', 'every', 'wk', 'txt', 'vpod', '81303', 'ts', 'cs', 'custcare', '08712405020', 'people', 'dogging', 'area', 'call', '09090204448', 'join', 'like', 'minded', 'guys', 'arrange', '1', '1', 'evening', 'minapn', 'ls278bb', 'well', 'done', '4', 'costa', 'del', 'sol', 'holiday', 'await', 'collection', 'call', '09050090044', 'toclaim', 'sae', 'tcs', 'pobox334', 'stockport', 'sk38xh', 'max10mins', 'guess', 'somebody', 'know', 'secretly', 'fancies', 'wan', 'na', 'find', 'give', 'us', 'call', '09065394973', 'landline', 'datebox1282essexcm61xn', '18', '500', 'free', 'text', 'messages', 'valid', '31', 'december', '2005', 'guaranteed', 'award', 'even', 'cashto', 'claim', 'ur', 'award', 'call', 'free', '08000407165', '2', 'stop', 'getstop', '88222', 'php', 'reply', 'win', 'weekly', '2006', 'fifa', 'world', 'cup', 'held', 'send', 'stop', '87239', 'end', 'service', 'urgent', 'please', 'call', '09061743810', 'landline', 'abta', 'complimentary', '4', 'tenerife', 'holiday', '5000', 'cash', 'await', 'collection', 'sae', 'cs', 'box', '326', 'cw25wx', '150', 'ppm', 'free', 'tones', 'hope', 'enjoyed', 'new', 'content', 'text', 'stop', '61610', 'unsubscribe', 'provided', 'themob', 'yo', 'yo', 'comes', 'new', 'selection', 'hot', 'downloads', 'members', 'get', 'free', 'click', 'open', 'next', 'link', 'sent', 'ur', 'fone', 'great', 'news', 'call', 'freefone', '08006344447', 'claim', 'guaranteed', 'cash', 'gift', 'speak', 'live', 'operator', 'u', 'win', 'music', 'gift', 'vouchers', 'every', 'week', 'starting', 'txt', 'word', 'draw', '87066', 'tscs', 'call', '09094100151', 'use', 'ur', 'mins', 'calls', 'cast', 'mob', 'vary', 'service', 'provided', 'aom', 'aom', 'box61', 'm60', '1er', 'u', 'stop', 'ages', 'urgent', 'mobile', 'bonus', 'caller', 'prize', '2nd', 'attempt', 'reach', 'call', '09066362220', 'asap', 'box97n7qp', '150ppm', 'eerie', 'nokia', 'tones', '4u', 'rply', 'tone', 'title', '8007', 'eg', 'tone', 'dracula', '8007', 'titles', 'ghost', 'addamsfa', 'munsters', 'exorcist', 'twilight', 'pobox36504w45wq', '150p', 'sexy', 'singles', 'waiting', 'text', 'age', 'followed', 'gender', 'wither', 'f', 'gay', 'men', 'text', 'age', 'followed', 'freemsg', 'claim', 'ur', '250', 'sms', 'ok', '84025', 'use', 'web2mobile', '2', 'ur', 'mates', 'etc', 'join', 'c', 'box139', 'la32wu', '16', 'remove', 'txtx', 'stop', '85233', 'free', 'ringtone', 'reply', 'real', 'well', 'done', 'england', 'get', 'official', 'poly', 'ringtone', 'colour', 'flag', 'yer', 'mobile', 'text', 'tone', 'flag', '84199', 'txt', 'eng', 'stop', 'box39822', 'w111wx', 'final', 'chance', 'claim', 'ur', 'worth', 'discount', 'vouchers', 'today', 'text', 'yes', '85023', 'savamob', 'member', 'offers', 'mobile', 'cs', 'savamob', 'pobox84', 'm263uz', 'subs', '16', 'sms', 'services', 'inclusive', 'text', 'credits', 'pls', 'goto', 'unsubscribe', 'stop', 'extra', 'charge', 'po', 'box420', 'ip4', '5we', 'winner', 'specially', 'selected', 'receive', 'cash', 'award', 'speak', 'live', 'operator', 'claim', 'call', 'cost', '10p', 'sunshine', 'hols', 'claim', 'ur', 'med', 'holiday', 'send', 'stamped', 'self', 'address', 'envelope', 'drinks', 'us', 'uk', 'po', 'box', '113', 'bray', 'wicklow', 'eire', 'quiz', 'starts', 'saturday', 'unsub', 'stop', 'u', 'win', 'music', 'gift', 'vouchers', 'every', 'week', 'starting', 'txt', 'word', 'draw', '87066', 'tscs', 'skillgame', '1winaweek', 'age16', '150ppermesssubscription', 'b4u', 'voucher', 'marsms', 'log', 'onto', 'discount', 'credit', 'opt', 'reply', 'stop', 'customer', 'care', 'call', '08717168528', 'freemsg', 'hey', 'buffy', '25', 'love', 'satisfy', 'men', 'home', 'alone', 'feeling', 'randy', 'reply', '2', 'c', 'pix', 'qlynnbv', 'help08700621170150p', 'msg', 'send', 'stop', 'stop', 'txts', 'free', '1st', 'week', 'no1', 'nokia', 'tone', '4', 'ur', 'mob', 'every', 'week', 'txt', 'nokia', '87077', 'get', 'txting', 'tell', 'ur', 'mates', 'zed', 'pobox', '36504', 'w45wq', 'free', 'camera', 'phones', 'linerental', '750', 'cross', 'ntwk', 'mins', 'price', 'txt', 'bundle', 'deals', 'also', 'avble', 'call', '08001950382', 'mf', 'urgent', 'mobile', '07xxxxxxxxx', 'bonus', 'caller', 'prize', '2nd', 'attempt', 'reach', 'call', '09066362231', 'asap', 'box97n7qp', '150ppm', 'urgent', '4', 'costa', 'del', 'sol', 'holiday', 'await', 'collection', 'call', '09050090044', 'toclaim', 'sae', 'tc', 'pobox334', 'stockport', 'sk38xh', 'max10mins', 'guaranteed', 'cash', 'prize', 'claim', 'yr', 'prize', 'call', 'customer', 'service', 'representative', '08714712379', 'cost', '10p', 'thanks', 'ringtone', 'order', 'ref', 'number', 'k718', 'mobile', 'charged', 'tone', 'arrive', 'please', 'call', 'customer', 'services', '09065069120', 'hi', 'ya', 'babe', 'x', 'u', '4goten', 'bout', 'scammers', 'getting', 'smart', 'though', 'regular', 'vodafone', 'respond', 'get', 'prem', 'rate', 'nos', 'used', 'also', 'beware', 'back', '2', 'work', '2morro', 'half', 'term', 'u', 'c', '2nite', '4', 'sexy', 'passion', 'b4', '2', 'go', 'back', 'chat', '09099726481', 'luv', 'dena', 'calls', 'thanks', 'ringtone', 'order', 'ref', 'number', 'r836', 'mobile', 'charged', 'tone', 'arrive', 'please', 'call', 'customer', 'services', '09065069154', 'splashmobile', 'choose', '1000s', 'gr8', 'tones', 'wk', 'subscrition', 'service', 'weekly', 'tones', 'costing', '300p', 'u', 'one', 'credit', 'kick', 'back', 'enjoy', 'heard', 'u4', 'call', '4', 'rude', 'chat', 'private', 'line', '01223585334', 'cum', 'wan', '2c', 'pics', 'gettin', 'shagged', 'text', 'pix', '8552', '2end', 'send', 'stop', '8552', 'sam', 'xxx', 'forwarded', '88877', 'free', 'entry', 'weekly', 'comp', 'send', 'word', 'enter', '88877', '18', 'c', '88066', '88066', 'lost', '3pound', 'help', 'mobile', '11mths', 'update', 'free', 'oranges', 'latest', 'colour', 'camera', 'mobiles', 'unlimited', 'weekend', 'calls', 'call', 'mobile', 'upd8', 'freefone', '08000839402', '2stoptx', '1', 'new', 'message', 'please', 'call', '08718738034', 'forwarded', '21870000', 'hi', 'mailbox', 'messaging', 'sms', 'alert', '4', 'messages', '21', 'matches', 'please', 'call', 'back', '09056242159', 'retrieve', 'messages', 'matches', 'moby', 'pub', 'high', 'street', 'prize', 'u', 'know', 'new', 'duchess', 'cornwall', 'txt', 'first', 'name', 'stop', '008704050406', 'sp', 'arrow', 'nokia', '7250i', 'get', 'win', 'free', 'auction', 'take', 'part', 'send', 'nokia', '86021', 'congratulations', 'thanks', 'good', 'friend', 'u', 'xmas', 'prize', '2', 'claim', 'easy', 'call', '08718726971', '10p', 'per', 'minute', 'tddnewsletter', 'games', 'thedailydraw', 'dear', 'helen', 'dozens', 'free', 'games', 'great', 'prizeswith', 'urgent', 'mobile', 'number', 'bonus', 'caller', 'prize', '2nd', 'attempt', 'reach', 'call', '09066368753', 'asap', 'box', '97n7qp', '150ppm', 'double', 'mins', 'txts', 'orange', 'price', 'linerental', 'motorola', 'sonyericsson', 'free', 'call', 'mobileupd8', '08000839402', 'download', 'many', 'ringtones', 'u', 'like', 'restrictions', '1000s', '2', 'choose', 'u', 'even', 'send', '2', 'yr', 'buddys', 'txt', 'sir', '80082', 'please', 'call', '08712402902', 'immediately', 'urgent', 'message', 'waiting', 'spook', 'mob', 'halloween', 'collection', 'logo', 'pic', 'message', 'plus', 'free', 'eerie', 'tone', 'txt', 'card', 'spook', '8007', 'zed', '08701417012150p', 'per', 'fantasy', 'football', 'back', 'tv', 'go', 'sky', 'gamestar', 'sky', 'active', 'play', 'dream', 'team', 'scoring', 'starts', 'saturday', 'register', 'sky', 'opt', '88088', 'tone', 'club', 'subs', 'expired', '2', 'reply', 'monoc', '4', 'monos', 'polyc', '4', 'polys', '1', 'weekly', '150p', 'per', 'week', 'txt', 'stop', '2', 'stop', 'msg', 'free', 'stream', '0871212025016', 'xmas', 'prize', 'draws', 'trying', 'contact', 'todays', 'draw', 'shows', 'prize', 'guaranteed', 'call', '09058094565', 'land', 'line', 'valid', '12hrs', 'yes', 'place', 'town', 'meet', 'exciting', 'adult', 'singles', 'uk', 'txt', 'chat', '86688', 'someone', 'contacted', 'dating', 'service', 'entered', 'phone', 'becausethey', 'fancy', 'find', 'call', 'landline', 'pobox1', 'w14rg', '150p', 'babe', 'u', 'want', 'dont', 'u', 'baby', 'im', 'nasty', 'thing', '4', 'filthyguys', 'fancy', 'rude', 'time', 'sexy', 'bitch', 'go', 'slo', 'n', 'hard', 'txt', 'xxx', 'slo', '4msgs', 'sms', 'services', 'inclusive', 'text', 'credits', 'pls', 'gotto', 'login', '3qxj9', 'unsubscribe', 'stop', 'extra', 'charge', 'help', '08702840625', '9ae', 'valentines', 'day', 'special', 'win', 'quiz', 'take', 'partner', 'trip', 'lifetime', 'send', 'go', '83600', 'rcvd', 'guess', 'first', 'time', 'created', 'web', 'page', 'read', 'wrote', 'waiting', 'opinions', 'want', 'friend', 'ur', 'chance', 'win', 'cash', 'every', 'wk', 'txt', 'play', 'c', 'custcare', '08715705022', 'sppok', 'ur', 'mob', 'halloween', 'collection', 'nokia', 'logo', 'pic', 'message', 'plus', 'free', 'eerie', 'tone', 'txt', 'card', 'spook', '8007', 'urgent', 'call', '09066612661', 'landline', 'complementary', '4', 'tenerife', 'holiday', 'cash', 'await', 'collection', 'sae', 'cs', 'po', 'box', '3', 'wa14', '2px', '150ppm', 'sender', 'hol', 'offer', 'winner', 'valued', 'network', 'customer', 'hvae', 'selected', 'receive', 'reward', 'collect', 'call', 'valid', '24', 'hours', 'acl03530150pm', 'u', 'nokia', '6230', 'plus', 'free', 'digital', 'camera', 'u', 'get', 'u', 'win', 'free', 'auction', 'take', 'part', 'send', 'nokia', '83383', '16', 'free', 'entry', 'weekly', 'comp', 'send', 'word', 'win', '80086', '18', 'c', 'text82228', 'get', 'ringtones', 'logos', 'games', 'questions', 'info', 'freemsg', 'awarded', 'free', 'mini', 'digital', 'camera', 'reply', 'snap', 'collect', 'prize', 'quizclub', 'opt', 'stop', 'sp', 'rwm', 'message', 'brought', 'gmw', 'connected', 'congrats', '2', 'mobile', '3g', 'videophones', 'r', 'call', '09063458130', 'videochat', 'wid', 'ur', 'mates', 'play', 'java', 'games', 'dload', 'polyph', 'music', 'noline', 'rentl', 'bx420', 'ip4', '5we', '150p', 'next', 'amazing', 'xxx', 'picsfree1', 'video', 'sent', 'enjoy', 'one', 'vid', 'enough', '2day', 'text', 'back', 'keyword', 'picsfree1', 'get', 'next', 'video', 'u', 'subscribed', 'best', 'mobile', 'content', 'service', 'uk', 'per', 'ten', 'days', 'send', 'stop', 'helpline', '08706091795', '3', 'free', 'tarot', 'texts', 'find', 'love', 'life', 'try', '3', 'free', 'text', 'chance', '85555', '16', '3', 'free', 'msgs', 'join', 'uk', 'horniest', 'dogging', 'service', 'u', 'sex', '2nite', 'sign', 'follow', 'instructions', 'txt', 'entry', '69888', '150p', 'knock', 'knock', 'txt', 'whose', '80082', 'enter', 'r', 'weekly', 'draw', '4', 'gift', 'voucher', '4', 'store', 'yr', 'choice', 'cs', 'age16', 'forwarded', '21870000', 'hi', 'mailbox', 'messaging', 'sms', 'alert', '40', 'matches', 'please', 'call', 'back', '09056242159', 'retrieve', 'messages', 'matches', 'free', 'ring', 'tone', 'text', 'every', 'week', 'get', 'new', 'tone', '0870737910216yrs', 'urgent', 'mobile', '077xxx', 'bonus', 'caller', 'prize', '2nd', 'attempt', 'reach', 'call', '09066362206', 'asap', 'box97n7qp', '150ppm', 'guaranteed', 'latest', 'nokia', 'phone', '40gb', 'ipod', 'mp3', 'player', 'prize', 'txt', 'word', 'collect', '83355', 'ibhltd', 'ldnw15h', 'hello', 'darling', 'today', 'would', 'love', 'chat', 'dont', 'tell', 'look', 'like', 'sexy', '8007', 'free', '1st', 'week', 'no1', 'nokia', 'tone', '4', 'ur', 'mob', 'every', 'week', 'txt', 'nokia', '8007', 'get', 'txting', 'tell', 'ur', 'mates', 'pobox', '36504', 'w4', '5wq', 'norm', 'wan', 'na', 'get', 'laid', '2nite', 'want', 'real', 'dogging', 'locations', 'sent', 'direct', 'ur', 'mobile', 'join', 'uk', 'largest', 'dogging', 'network', 'txt', 'park', '69696', 'nyt', 'ec2a', '3lp', 'tried', 'contact', 'response', 'offer', 'new', 'nokia', 'fone', 'camcorder', 'hit', 'reply', 'call', '08000930705', 'delivery', 'new', 'tones', 'week', 'include', '1', 'ab', '2', 'sara', '3', 'order', 'follow', 'instructions', 'next', 'message', 'urgent', 'trying', 'contact', 'todays', 'draw', 'shows', 'prize', 'guaranteed', 'call', '09050003091', 'land', 'line', 'claim', 'c52', 'valid', '12hrs', 'sports', 'fans', 'get', 'latest', 'sports', 'news', 'str', '2', 'ur', 'mobile', '1', 'wk', 'free', 'plus', 'free', 'tone', 'txt', 'sport', '8007', 'norm', 'urgent', 'urgent', '800', 'free', 'flights', 'europe', 'give', 'away', 'call', 'b4', '10th', 'sept', 'take', 'friend', '4', 'free', 'call', 'claim', 'ba128nnfwfly150ppm', '88066', 'lost', 'help', 'freemsg', 'fancy', 'flirt', 'reply', 'date', 'join', 'uks', 'fastest', 'growing', 'mobile', 'dating', 'service', 'msgs', 'rcvd', '25p', 'optout', 'txt', 'stop', 'reply', 'date', 'great', 'new', 'offer', 'double', 'mins', 'double', 'txt', 'best', 'orange', 'tariffs', 'get', 'latest', 'camera', 'phones', '4', 'free', 'call', 'mobileupd8', 'free', '08000839402', '2stoptxt', 'cs', 'hope', 'enjoyed', 'new', 'content', 'text', 'stop', '61610', 'unsubscribe', 'provided', 'urgent', 'please', 'call', '09066612661', 'landline', 'cash', 'luxury', '4', 'canary', 'islands', 'holiday', 'await', 'collection', 'cs', 'sae', 'award', '20m12aq', '150ppm', 'urgent', 'please', 'call', '09066612661', 'landline', 'complimentary', '4', 'lux', 'costa', 'del', 'sol', 'holiday', 'cash', 'await', 'collection', 'ppm', '150', 'sae', 'cs', 'james', '28', 'eh74rr', 'married', 'local', 'women', 'looking', 'discreet', 'action', '5', 'real', 'matches', 'instantly', 'phone', 'text', 'match', '69969', 'msg', 'cost', '150p', '2', 'stop', 'txt', 'stop', 'bcmsfwc1n3xx', 'burger', 'king', 'wan', 'na', 'play', 'footy', 'top', 'stadium', 'get', '2', 'burger', 'king', '1st', 'sept', 'go', 'large', 'super', 'walk', 'winner', 'come', 'takes', 'little', 'time', 'child', 'afraid', 'dark', 'become', 'teenager', 'wants', 'stay', 'night', 'ur', 'chance', 'win', 'cash', 'every', 'wk', 'txt', 'action', 'c', 'custcare', '08712405022', 'bin', 'awarded', 'play', '4', 'instant', 'cash', 'call', '08715203028', 'claim', 'every', '9th', 'player', 'wins', 'min', 'optout', '08718727870', 'freemsg', 'fav', 'xmas', 'tones', 'reply', 'real', 'december', 'mobile', 'entitled', 'update', 'latest', 'colour', 'camera', 'mobile', 'free', 'call', 'mobile', 'update', 'co', 'free', '08002986906', 'gr8', 'poly', 'tones', '4', 'mobs', 'direct', '2u', 'rply', 'poly', 'title', '8007', 'eg', 'poly', 'breathe1', 'titles', 'crazyin', 'sleepingwith', 'finest', 'ymca', 'pobox365o4w45wq', '300p', 'interflora', 'åòit', 'late', 'order', 'interflora', 'flowers', 'christmas', 'call', '0800', '505060', 'place', 'order', 'midnight', 'tomorrow', 'romcapspam', 'everyone', 'around', 'responding', 'well', 'presence', 'since', 'warm', 'outgoing', 'bringing', 'real', 'breath', 'sunshine', 'congratulations', 'thanks', 'good', 'friend', 'u', 'xmas', 'prize', '2', 'claim', 'easy', 'call', '08712103738', '10p', 'per', 'minute', 'send', 'logo', '2', 'ur', 'lover', '2', 'names', 'joined', 'heart', 'txt', 'love', 'name1', 'name2', 'mobno', 'eg', 'love', 'adam', 'eve', '07123456789', '87077', 'yahoo', 'pobox36504w45wq', 'txtno', '4', 'ads', '150p', 'tkts', 'euro2004', 'cup', 'final', 'cash', 'collect', 'call', '09058099801', 'b4190604', 'pobox', '7876150ppm', 'jamster', 'get', 'crazy', 'frog', 'sound', 'poly', 'text', 'mad1', 'real', 'text', 'mad2', '88888', '6', 'crazy', 'sounds', '3', 'c', 'apply', 'chance', 'reality', 'fantasy', 'show', 'call', '08707509020', '20p', 'per', 'min', 'ntt', 'ltd', 'po', 'box', '1327', 'croydon', 'cr9', '5wb', '0870', 'national', 'rate', 'call', 'adult', '18', 'content', 'video', 'shortly', 'chance', 'reality', 'fantasy', 'show', 'call', '08707509020', '20p', 'per', 'min', 'ntt', 'ltd', 'po', 'box', '1327', 'croydon', 'cr9', '5wb', '0870', 'national', 'rate', 'call', 'hey', 'boys', 'want', 'hot', 'xxx', 'pics', 'sent', 'direct', '2', 'ur', 'phone', 'txt', 'porn', '69855', '24hrs', 'free', '50p', 'per', 'day', 'stop', 'text', 'stopbcm', 'sf', 'wc1n3xx', 'double', 'mins', '1000', 'txts', 'orange', 'tariffs', 'latest', 'motorola', 'sonyericsson', 'nokia', 'bluetooth', 'free', 'call', 'mobileupd8', '08000839402', 'yhl', 'ur', 'currently', '500', 'pounds', 'maximize', 'ur', 'send', 'cash', '86688', 'cc', '08718720201', 'po', 'box', 'urgent', 'mobile', 'number', 'awarded', 'prize', 'guaranteed', 'call', '09058094454', 'land', 'line', 'claim', 'valid', '12hrs', 'sorry', 'u', 'unsubscribe', 'yet', 'mob', 'offer', 'package', 'min', 'term', '54', 'weeks', 'pls', 'resubmit', 'request', 'expiry', 'reply', 'themob', 'help', '4', 'info', '1', 'new', 'message', 'please', 'call', '08712400200', 'currently', 'message', 'awaiting', 'collection', 'collect', 'message', 'call', '08718723815', 'urgent', 'mobile', 'awarded', 'bonus', 'caller', 'prize', 'final', 'attempt', '2', 'contact', 'u', 'call', '08714714011', 'ever', 'notice', 'driving', 'anyone', 'going', 'slower', 'idiot', 'everyone', 'driving', 'faster', 'maniac', 'xmas', 'offer', 'latest', 'motorola', 'sonyericsson', 'nokia', 'free', 'bluetooth', 'dvd', 'double', 'mins', '1000', 'txt', 'orange', 'call', 'mobileupd8', '08000839402', 'reply', 'win', 'weekly', 'professional', 'sport', 'tiger', 'woods', 'play', 'send', 'stop', '87239', 'end', 'service', '1', 'polyphonic', 'tone', '4', 'ur', 'mob', 'every', 'week', 'txt', 'pt2', '87575', '1st', 'tone', 'free', 'get', 'txtin', 'tell', 'ur', 'friends', '16', 'reply', 'hl', '4info', 'message', 'free', 'welcome', 'new', 'improved', 'sex', 'dogging', 'club', 'unsubscribe', 'service', 'reply', 'stop', 'msgs', '150p', '12mths', 'half', 'price', 'orange', 'line', 'rental', '400mins', 'call', 'mobileupd8', '08000839402', 'free', 'unlimited', 'hardcore', 'porn', 'direct', '2', 'mobile', 'txt', 'porn', '69200', 'get', 'free', 'access', '24', 'hrs', 'chrgd', '50p', 'per', 'day', 'txt', 'stop', '2exit', 'msg', 'free', 'unsubscribed', 'services', 'get', 'tons', 'sexy', 'babes', 'hunks', 'straight', 'phone', 'go', 'http', 'subscriptions', 'hi', 'babe', 'jordan', 'r', 'u', 'im', 'home', 'abroad', 'lonely', 'text', 'back', 'u', 'wan', 'na', 'chat', 'xxsp', 'text', 'stop', 'stopcost', '150p', '08712400603', 'get', 'brand', 'new', 'mobile', 'phone', 'agent', 'mob', 'plus', 'loads', 'goodies', 'info', 'text', 'mat', '87021', 'lord', 'rings', 'return', 'king', 'store', 'reply', 'lotr', '2', 'june', '4', 'chance', '2', 'win', 'lotr', 'soundtrack', 'cds', 'stdtxtrate', 'reply', 'stop', 'end', 'txts', 'good', 'luck', 'draw', 'takes', 'place', '28th', 'feb', 'good', 'luck', 'removal', 'send', 'stop', '87239', 'customer', 'services', '08708034412', '1st', 'wk', 'free', 'gr8', 'tones', 'str8', '2', 'u', 'wk', 'txt', 'nokia', '8007', 'classic', 'nokia', 'tones', 'hit', '8007', 'polys', 'lookatme', 'thanks', 'purchase', 'video', 'clip', 'lookatme', 'charged', '35p', 'think', 'better', 'send', 'video', 'mmsto', '32323', 'sexy', 'sexy', 'cum', 'text', 'im', 'wet', 'warm', 'ready', 'porn', 'u', 'fun', 'msg', 'free', 'recd', 'msgs', '150p', 'inc', 'vat', '2', 'cancel', 'text', 'stop', '2nd', 'time', 'tried', 'contact', 'u', 'prize', 'claim', 'call', '09053750005', 'b4', 'sms', '08718725756', '140ppm', 'dear', 'voucher', 'holder', 'claim', 'weeks', 'offer', 'pc', 'please', 'go', 'http', 'ts', 'cs', 'apply', '2nd', 'time', 'tried', '2', 'contact', 'u', '750', 'pound', 'prize', '2', 'claim', 'easy', 'call', '08712101358', '10p', 'per', 'min', 'ur', 'awarded', 'city', 'break', 'could', 'win', 'summer', 'shopping', 'spree', 'every', 'wk', 'txt', 'store', 'urgent', 'trying', 'contact', 'todays', 'draw', 'shows', 'prize', 'guaranteed', 'call', '09066358361', 'land', 'line', 'claim', 'y87', 'valid', '12hrs', 'thanks', 'ringtone', 'order', 'reference', 'number', 'x29', 'mobile', 'charged', 'tone', 'arrive', 'please', 'call', 'customer', 'services', '09065989180', 'ur', 'currently', '500', 'pounds', 'maximize', 'ur', 'send', 'collect', '83600', 'cc', '08718720201', 'po', 'box', 'congratulations', 'thanks', 'good', 'friend', 'u', 'xmas', 'prize', '2', 'claim', 'easy', 'call', '08718726978', '10p', 'per', 'minute', '44', '7732584351', 'want', 'new', 'nokia', '3510i', 'colour', 'phone', 'deliveredtomorrow', '300', 'free', 'minutes', 'mobile', '100', 'free', 'texts', 'free', 'camcorder', 'reply', 'call', '08000930705', 'someone', 'u', 'know', 'asked', 'dating', 'service', '2', 'contact', 'cant', 'guess', 'call', '09058097189', 'revealed', 'pobox', '6', 'ls15hb', '150p', 'camera', 'awarded', 'sipix', 'digital', 'camera', 'call', '09061221066', 'fromm', 'landline', 'delivery', 'within', '28', 'days', 'todays', 'voda', 'numbers', 'ending', '5226', 'selected', 'receive', '350', 'award', 'hava', 'match', 'please', 'call', '08712300220', 'quoting', 'claim', 'code', '1131', 'standard', 'rates', 'app', 'message', 'free', 'welcome', 'new', 'improved', 'sex', 'dogging', 'club', 'unsubscribe', 'service', 'reply', 'stop', 'msgs', '150p', '18', 'rct', 'thnq', 'adrian', 'u', 'text', 'rgds', 'vatian', 'contacted', 'dating', 'service', 'someone', 'know', 'find', 'call', 'land', 'line', 'pobox45w2tg150p', 'sorry', 'missed', 'call', 'let', 'talk', 'time', '07090201529', 'complimentary', '4', 'star', 'ibiza', 'holiday', 'cash', 'needs', 'urgent', 'collection', '09066364349', 'landline', 'lose', 'free', 'msg', 'billed', 'mobile', 'number', 'mistake', 'shortcode', 'call', '08081263000', 'charges', 'call', 'free', 'bt', 'landline', 'please', 'call', '08712402972', 'immediately', 'urgent', 'message', 'waiting', 'urgent', 'mobile', 'number', 'awarded', 'bonus', 'caller', 'prize', 'call', '09058095201', 'land', 'line', 'valid', '12hrs', 'want', 'new', 'nokia', '3510i', 'colour', 'phone', 'deliveredtomorrow', '300', 'free', 'minutes', 'mobile', '100', 'free', 'texts', 'free', 'camcorder', 'reply', 'call', '08000930705', 'life', 'never', 'much', 'fun', 'great', 'came', 'made', 'truly', 'special', 'wo', 'forget', 'enjoy', 'one', 'want', 'new', 'video', 'phone', '600', 'anytime', 'network', 'mins', '400', 'inclusive', 'video', 'calls', 'downloads', '5', 'per', 'week', 'free', 'deltomorrow', 'call', '08002888812', 'reply', 'valued', 'customer', 'pleased', 'advise', 'following', 'recent', 'review', 'mob', 'awarded', 'bonus', 'prize', 'call', '09066368470', 'welcome', 'please', 'reply', 'age', 'gender', 'begin', '24m', 'freemsg', 'unlimited', 'free', 'calls', 'activate', 'smartcall', 'txt', 'call', 'unlimited', 'calls', 'help', '08448714184', 'stop', 'txt', 'stop', 'landlineonly', 'mobile', '10', 'mths', 'update', 'latest', 'orange', 'phones', 'free', 'save', 'free', 'calls', 'text', 'yes', 'callback', 'orno', 'opt', 'new', '2', 'club', 'dont', 'fink', 'met', 'yet', 'b', 'gr8', '2', 'c', 'u', 'please', 'leave', 'msg', '2day', 'wiv', 'ur', 'area', '09099726553', 'reply', 'promised', 'carlie', 'x', 'lkpobox177hp51fl', 'camera', 'awarded', 'sipix', 'digital', 'camera', 'call', '09061221066', 'fromm', 'landline', 'delivery', 'within', '28', 'days', 'get', 'free', 'mobile', 'video', 'player', 'free', 'movie', 'collect', 'text', 'go', 'free', 'extra', 'films', 'ordered', 'c', 'apply', '18', 'yrs', 'save', 'money', 'wedding', 'lingerie', 'choose', 'superb', 'selection', 'national', 'delivery', 'brought', 'weddingfriend', 'heard', 'u4', 'call', 'night', 'knickers', 'make', 'beg', 'like', 'u', 'last', 'time', '01223585236', 'xx', 'luv', 'bloomberg', 'center', 'wait', 'apply', 'future', 'http', 'want', 'new', 'video', 'phone750', 'anytime', 'network', 'mins', '150', 'text', 'five', 'pounds', 'per', 'week', 'call', '08000776320', 'reply', 'delivery', 'tomorrow', 'contacted', 'dating', 'service', 'someone', 'know', 'find', 'call', 'land', 'line', 'pobox45w2tg150p', 'wan2', 'win', 'westlife', '4', 'u', 'm8', 'currently', 'tour', '1', 'unbreakable', '2', 'untamed', '3', 'unkempt', 'text', '3', 'cost', '50p', 'text', 'dorothy', 'bank', 'granite', 'issues', 'explosive', 'pick', 'members', '300', 'nasdaq', 'symbol', 'cdgt', 'per', 'winner', 'guaranteed', 'caller', 'prize', 'final', 'attempt', 'contact', 'claim', 'call', '09071517866', '150ppmpobox10183bhamb64xe', 'xmas', 'new', 'years', 'eve', 'tickets', 'sale', 'club', 'day', '10am', 'till', '8pm', 'thurs', 'fri', 'sat', 'night', 'week', 'selling', 'fast', 'rock', 'yr', 'chik', 'get', '100', 'filthy', 'films', 'xxx', 'pics', 'yr', 'phone', 'rply', 'filth', 'saristar', 'ltd', 'e14', '9yt', '08701752560', '450p', 'per', '5', 'days', 'stop2', 'cancel', 'next', 'month', 'get', 'upto', '50', 'calls', '4', 'ur', 'standard', 'network', 'charge', '2', 'activate', 'call', '9061100010', 'c', '1st4terms', 'pobox84', 'm26', '3uz', 'cost', 'min', 'mobcudb', 'urgent', 'trying', 'contact', 'u', 'todays', 'draw', 'shows', 'prize', 'guaranteed', 'call', '09050000460', 'land', 'line', 'claim', 'j89', 'po', 'box245c2150pm', 'text', 'banneduk', '89555', 'see', 'cost', '150p', 'textoperator', 'g696ga', 'xxx', 'auction', 'round', 'highest', 'bid', 'next', 'maximum', 'bid', 'bid', 'send', 'bids', '10', 'bid', 'good', 'luck', 'collect', 'valentine', 'weekend', 'paris', 'inc', 'flight', 'hotel', 'prize', 'guaranteed', 'text', 'paris', 'customer', 'loyalty', 'offer', 'new', 'nokia6650', 'mobile', 'txtauction', 'txt', 'word', 'start', '81151', 'get', '4t', 'ctxt', 'tc', 'wo', 'believe', 'true', 'incredible', 'txts', 'reply', 'g', 'learn', 'truly', 'amazing', 'things', 'blow', 'mind', 'o2fwd', 'hot', 'n', 'horny', 'willing', 'live', 'local', 'text', 'reply', 'hear', 'strt', 'back', '150p', 'per', 'msg', 'netcollex', 'ltdhelpdesk', '02085076972', 'reply', 'stop', 'end', 'want', 'new', 'nokia', '3510i', 'colour', 'phone', 'delivered', 'tomorrow', '200', 'free', 'minutes', 'mobile', '100', 'free', 'text', 'free', 'camcorder', 'reply', 'call', '08000930705', 'congratulations', 'winner', 'august', 'prize', 'draw', 'call', '09066660100', 'prize', 'code', '2309', '8007', '25p', '4', 'alfie', 'moon', 'children', 'need', 'song', 'ur', 'mob', 'tell', 'ur', 'm8s', 'txt', 'tone', 'charity', '8007', 'nokias', 'poly', 'charity', 'polys', 'zed', '08701417012', 'profit', '2', 'charity', 'get', 'official', 'england', 'poly', 'ringtone', 'colour', 'flag', 'yer', 'mobile', 'tonights', 'game', 'text', 'tone', 'flag', 'optout', 'txt', 'eng', 'stop', 'box39822', 'w111wx', 'customer', 'service', 'announcement', 'recently', 'tried', 'make', 'delivery', 'unable', 'please', 'call', '07090298926', 'stop', 'club', 'tones', 'replying', 'see', 'html', 'terms', 'club', 'tones', 'cost', 'mfl', 'wamma', 'get', 'laid', 'want', 'real', 'doggin', 'locations', 'sent', 'direct', 'mobile', 'join', 'uks', 'largest', 'dogging', 'network', 'txt', 'dogs', '69696', 'nyt', 'ec2a', '3lp', 'promotion', 'number', '8714714', 'ur', 'awarded', 'city', 'break', 'could', 'win', 'summer', 'shopping', 'spree', 'every', 'wk', 'txt', 'store', '88039', 'skilgme', 'tscs087147403231winawk', 'age16', 'winner', 'specially', 'selected', 'receive', 'cash', 'award', 'speak', 'live', 'operator', 'claim', 'call', 'cost', '10p', 'thanks', 'ringtone', 'order', 'reference', 'number', 'x49', 'mobile', 'charged', 'tone', 'arrive', 'please', 'call', 'customer', 'services', 'text', 'txtstar', 'hi', '2nights', 'ur', 'lucky', 'night', 'uve', 'invited', '2', 'xchat', 'uks', 'wildest', 'chat', 'txt', 'chat', '86688', 'ldn', '18yrs', '146tf150p', 'dear', 'voucher', 'holder', '2', 'claim', '1st', 'class', 'airport', 'lounge', 'passes', 'using', 'holiday', 'voucher', 'call', 'booking', 'quote', '1st', 'class', 'x', '2', 'someone', 'u', 'know', 'asked', 'dating', 'service', '2', 'contact', 'cant', 'guess', 'call', '09058095107', 'revealed', 'pobox', '7', 's3xy', '150p', 'mila', 'age23', 'blonde', 'new', 'uk', 'look', 'sex', 'uk', 'guys', 'u', 'like', 'fun', 'text', 'mtalk', '1st', '5free', 'increments', 'help08718728876', 'claim', '200', 'shopping', 'spree', 'call', '08717895698', 'mobstorequiz10ppm', 'want', 'funk', 'ur', 'fone', 'weekly', 'new', 'tone', 'reply', 'tones2u', '2', 'text', 'original', 'n', 'best', 'tones', '3gbp', 'network', 'operator', 'rates', 'apply', 'twinks', 'bears', 'scallies', 'skins', 'jocks', 'calling', 'miss', 'weekend', 'fun', 'call', '08712466669', '2', 'stop', 'texts', 'call', '08712460324', 'nat', 'rate', 'tried', 'contact', 'reply', 'offer', 'video', 'handset', '750', 'anytime', 'networks', 'mins', 'unlimited', 'text', 'camcorder', 'reply', 'call', '08000930705', 'urgent', 'trying', 'contact', 'last', 'weekends', 'draw', 'shows', 'prize', 'guaranteed', 'call', 'claim', 'code', 'k61', 'valid', '12hours', '74355', 'xmas', 'iscoming', 'ur', 'awarded', 'either', 'cd', 'gift', 'vouchers', 'free', 'entry', '2', 'r', 'weekly', 'draw', 'txt', 'music', '87066', 'tnc', 'congratulations', 'u', 'claim', '2', 'vip', 'row', 'tickets', '2', 'c', 'blu', 'concert', 'november', 'blu', 'gift', 'guaranteed', 'call', '09061104276', 'claim', 'ts', 'cs', 'free', 'msg', 'single', 'find', 'partner', 'area', '1000s', 'real', 'people', 'waiting', 'chat', 'send', 'chat', '62220cncl', 'send', 'stopcs', 'per', 'msg', 'win', 'newest', 'åòharry', 'potter', 'order', 'phoenix', 'book', '5', 'reply', 'harry', 'answer', '5', 'questions', 'chance', 'first', 'among', 'readers', 'free', 'msg', 'ringtone', 'http', 'wml', '37819', 'oh', 'god', 'found', 'number', 'glad', 'text', 'back', 'xafter', 'msgs', 'cst', 'std', 'ntwk', 'chg', 'link', 'picture', 'sent', 'also', 'use', 'http', 'double', 'mins', '1000', 'txts', 'orange', 'tariffs', 'latest', 'motorola', 'sonyericsson', 'nokia', 'bluetooth', 'free', 'call', 'mobileupd8', '08000839402', 'urgent', '2nd', 'attempt', 'contact', 'prize', 'yesterday', 'still', 'awaiting', 'collection', 'claim', 'call', 'acl03530150pm', 'dear', 'dave', 'final', 'notice', 'collect', '4', 'tenerife', 'holiday', '5000', 'cash', 'award', 'call', '09061743806', 'landline', 'tcs', 'sae', 'box326', 'cw25wx', '150ppm', 'tells', 'u', '2', 'call', '09066358152', 'claim', 'prize', 'u', '2', 'enter', 'ur', 'mobile', 'personal', 'details', 'prompts', 'careful', '2004', 'account', '07xxxxxxxxx', 'shows', '786', 'unredeemed', 'points', 'claim', 'call', '08719181259', 'identifier', 'code', 'xxxxx', 'expires', 'want', 'new', 'video', 'handset', '750', 'anytime', 'network', 'mins', 'half', 'price', 'line', 'rental', 'camcorder', 'reply', 'call', '08000930705', 'delivery', 'tomorrow', 'free', 'ringtone', 'reply', 'real', 'poly', 'eg', 'real1', 'pushbutton', 'dontcha', 'babygoodbye', 'golddigger', 'webeburnin', '1st', 'tone', 'free', '6', 'u', 'join', 'free', 'msg', 'get', 'gnarls', 'barkleys', 'ringtone', 'totally', 'free', 'reply', 'go', 'message', 'right', 'refused', 'loan', 'secured', 'unsecured', 'ca', 'get', 'credit', 'call', 'free', '0800', '195', '6669', 'text', 'back', 'specially', 'selected', 'receive', 'award', 'call', '08712402050', 'lines', 'close', 'cost', '10ppm', 'cs', 'apply', 'ag', 'promo', 'valued', 'vodafone', 'customer', 'computer', 'picked', 'win', 'prize', 'collect', 'easy', 'call', '09061743386', 'free', 'video', 'camera', 'phones', 'half', 'price', 'line', 'rental', '12', 'mths', '500', 'cross', 'ntwk', 'mins', '100', 'txts', 'call', 'mobileupd8', '08001950382', 'ringtoneking', '84484', 'ringtone', 'club', 'gr8', 'new', 'polys', 'direct', 'mobile', 'every', 'week', 'bank', 'granite', 'issues', 'explosive', 'pick', 'members', '300', 'nasdaq', 'symbol', 'cdgt', 'per', 'bored', 'housewives', 'chat', 'n', 'date', 'rate', 'landlines', 'tried', 'call', 'reply', 'sms', 'video', 'mobile', '750', 'mins', 'unlimited', 'text', 'free', 'camcorder', 'reply', 'call', '08000930705', 'del', 'thurs', '2nd', 'time', 'tried', 'contact', 'u', 'prize', '2', 'claim', 'easy', 'call', '087104711148', '10p', 'per', 'minute', 'receiving', 'week', 'triple', 'echo', 'ringtone', 'shortly', 'enjoy', 'u', 'selected', 'stay', '1', '250', 'top', 'british', 'hotels', 'nothing', 'holiday', 'valued', 'dial', '08712300220', 'claim', 'national', 'rate', 'call', 'bx526', 'sw73ss', 'chosen', 'receive', 'award', 'pls', 'call', 'claim', 'number', '09066364311', 'collect', 'award', 'selected', 'receive', 'valued', 'mobile', 'customer', 'win', 'cash', 'prize', 'prize', 'worth', 'thanks', 'ringtone', 'order', 'reference', 'number', 'mobile', 'charged', 'tone', 'arrive', 'please', 'call', 'customer', 'services', '09065989182', 'moby', 'pub', 'high', 'street', 'prize', 'u', 'know', 'new', 'duchess', 'cornwall', 'txt', 'first', 'name', 'stop', '008704050406', 'sp', 'weeks', 'savamob', 'member', 'offers', 'accessible', 'call', '08709501522', 'details', 'savamob', 'pobox', '139', 'la3', '2wu', 'savamob', 'offers', 'mobile', 'contacted', 'dating', 'service', 'someone', 'know', 'find', 'call', 'mobile', 'landline', '09064017305', 'pobox75ldns7', 'chasing', 'us', 'since', 'sept', 'definitely', 'paying', 'thanks', 'information', 'ignore', 'kath', 'manchester', 'loans', 'purpose', 'even', 'bad', 'credit', 'tenants', 'welcome', 'call', '08717111821', '87077', 'kick', 'new', 'season', '2wks', 'free', 'goals', 'news', 'ur', 'mobile', 'txt', 'ur', 'club', 'name', '87077', 'eg', 'villa', '87077', 'orange', 'brings', 'ringtones', 'time', 'chart', 'heroes', 'free', 'hit', 'week', 'go', 'ringtones', 'pics', 'wap', 'stop', 'receiving', 'tips', 'reply', 'stop', 'private', '2003', 'account', 'statement', '07973788240', 'shows', '800', 'points', 'call', '08715203649', 'identifier', 'code', '40533', 'expires', 'tried', 'call', 'reply', 'sms', 'video', 'mobile', '750', 'mins', 'unlimited', 'text', 'free', 'camcorder', 'reply', 'call', '08000930705', 'gsoh', 'good', 'spam', 'ladies', 'u', 'could', 'b', 'male', 'gigolo', '2', 'join', 'uk', 'fastest', 'growing', 'mens', 'club', 'reply', 'oncall', 'mjzgroup', 'reply', 'stop', 'msg', 'hot', 'live', 'fantasies', 'call', '08707500020', '20p', 'per', 'min', 'ntt', 'ltd', 'po', 'box', '1327', 'croydon', 'cr9', '5wb', '0870', 'national', 'rate', 'call', 'urgent', 'mobile', 'number', 'awarded', 'ukp', '2000', 'prize', 'guaranteed', 'call', '09061790125', 'landline', 'claim', 'valid', '12hrs', '150ppm', 'spjanuary', 'male', 'sale', 'hot', 'gay', 'chat', 'cheaper', 'call', 'national', 'rate', 'cheap', 'peak', 'stop', 'texts', 'call', '08712460324', 'freemsg', 'today', 'day', 'ready', 'horny', 'live', 'town', 'love', 'sex', 'fun', 'games', 'netcollex', 'ltd', '08700621170150p', 'per', 'msg', 'reply', 'stop', 'end', 'simpsons', 'movie', 'released', 'july', '2007', 'name', 'band', 'died', 'start', 'film', 'day', 'day', 'day', 'send', 'b', 'c', 'please', 'call', 'amanda', 'regard', 'renewing', 'upgrading', 'current', 'handset', 'free', 'charge', 'offer', 'ends', 'today', 'tel', '0845', '021', '3680', 'subject', 'c', 'want', 'new', 'video', 'phone', '750', 'anytime', 'network', 'mins', 'half', 'price', 'line', 'rental', 'free', 'text', '3', 'months', 'reply', 'call', '08000930705', 'free', 'delivery', 'dear', 'voucher', 'holder', 'claim', 'weeks', 'offer', 'pc', 'please', 'go', 'http', 'ts', 'cs', 'apply', 'urgent', 'please', 'call', 'abta', 'complimentary', '4', 'spanish', 'holiday', 'cash', 'await', 'collection', 'sae', 'cs', 'box', '47', 'po19', '2ez', '150ppm', 'cmon', 'babe', 'make', 'horny', 'turn', 'txt', 'fantasy', 'babe', 'im', 'hot', 'sticky', 'need', 'replies', 'cost', '2', 'cancel', 'send', 'stop', 'important', 'information', '4', 'orange', 'user', '0796xxxxxx', 'today', 'ur', 'lucky', 'day', '2', 'find', 'log', 'onto', 'http', 'fantastic', 'prizeawaiting', 'missed', 'call', 'alert', 'numbers', 'called', 'left', 'message', '07008009200', 'freemsg', 'records', 'indicate', 'may', 'entitled', '3750', 'pounds', 'accident', 'claim', 'free', 'reply', 'yes', 'msg', 'opt', 'text', 'stop', 'show', 'ur', 'colours', 'euro', '2004', 'offer', 'get', 'england', 'flag', '3lions', 'tone', 'ur', 'phone', 'click', 'following', 'service', 'message', 'info', 'text', 'pass', '69669', 'collect', 'polyphonic', 'ringtones', 'normal', 'gprs', 'charges', 'apply', 'enjoy', 'tones', 'accordingly', 'repeat', 'text', 'word', 'ok', 'mobile', 'phone', 'send', 'block', 'breaker', 'comes', 'deluxe', 'format', 'new', 'features', 'great', 'graphics', 'buy', 'replying', 'get', 'bbdeluxe', 'take', 'challenge', 'important', 'information', '4', 'orange', 'user', 'today', 'lucky', 'day', '2find', 'log', 'onto', 'http', 'fantastic', 'surprise', 'awaiting', 'natalja', 'inviting', 'friend', 'reply', 'see', 'stop', 'send', 'stop', 'frnd', '62468', 'urgent', 'important', 'information', '02', 'user', 'today', 'lucky', 'day', '2', 'find', 'log', 'onto', 'http', 'fantastic', 'surprise', 'awaiting', 'kit', 'strip', 'billed', '150p', 'netcollex', 'po', 'box', '1013', 'ig11', 'oja', 'please', 'call', '08712402578', 'immediately', 'urgent', 'message', 'waiting', 'lets', 'send', 'free', 'anonymous', 'masked', 'messages', 'im', 'sending', 'message', 'see', 'potential', 'abuse', 'congrats', '2', 'mobile', '3g', 'videophones', 'r', 'call', '09061744553', 'videochat', 'wid', 'ur', 'mates', 'play', 'java', 'games', 'dload', 'polyh', 'music', 'noline', 'rentl', 'bx420', 'ip4', '5we', '150pm', 'important', 'information', '4', 'orange', 'user', '0789xxxxxxx', 'today', 'lucky', 'day', '2find', 'log', 'onto', 'http', 'fantastic', 'surprise', 'awaiting', 'dating', 'service', 'asked', '2', 'contact', 'u', 'someone', 'shy', 'call', '09058091870', 'revealed', 'pobox84', 'm26', '3uz', '150p', 'want', 'new', 'video', 'handset', '750', 'time', 'network', 'mins', 'unlimited', 'text', 'camcorder', 'reply', 'call', '08000930705', 'del', 'sat', 'ur', 'balance', 'next', 'question', 'complete', 'landmark', 'big', 'bob', 'barry', 'ben', 'text', 'b', 'c', 'good', 'luck', 'ur', 'tonexs', 'subscription', 'renewed', 'charged', 'choose', '10', 'polys', 'month', 'billing', 'msg', 'prize', 'go', 'another', 'customer', 'c', 'polo', 'ltd', 'suite', '373', 'london', 'w1j', '6hl', 'please', 'call', 'back', 'busy', 'want', 'new', 'nokia', '3510i', 'colour', 'phone', 'delivered', 'tomorrow', '200', 'free', 'minutes', 'mobile', '100', 'free', 'text', 'free', 'camcorder', 'reply', 'call', '8000930705', 'recpt', 'ordered', 'ringtone', 'order', 'processed', 'one', 'registered', 'subscribers', 'u', 'enter', 'draw', '4', '100', 'gift', 'voucher', 'replying', 'enter', 'unsubscribe', 'text', 'stop', 'chance', 'win', 'free', 'bluetooth', 'headset', 'simply', 'reply', 'back', 'b', 'floppy', 'b', 'snappy', 'happy', 'gay', 'chat', 'service', 'photo', 'upload', 'call', '08718730666', '2', 'stop', 'texts', 'call', '08712460324', 'welcome', 'msg', 'free', 'giving', 'free', 'calling', 'future', 'mgs', 'billed', '150p', 'daily', 'cancel', 'send', '89123', 'received', 'mobile', 'content', 'enjoy', 'want', 'explicit', 'sex', '30', 'secs', 'ring', '02073162414', 'costs', 'latest', 'nokia', 'mobile', 'ipod', 'mp3', 'player', 'proze', 'guaranteed', 'reply', 'win', '83355', 'norcorp', 'sms', 'services', 'inclusive', 'text', 'credits', 'pls', 'goto', '3qxj9', 'unsubscribe', 'stop', 'extra', 'charge', 'help', '9ae', 'mobile', 'club', 'choose', 'top', 'quality', 'items', 'mobile', '7cfca1a', 'money', 'wining', 'number', '946', 'wot', 'next', 'want', 'cock', 'hubby', 'away', 'need', 'real', 'man', '2', 'satisfy', 'txt', 'wife', '89938', 'strings', 'action', 'txt', 'stop', '2', 'end', 'txt', 'rec', 'otbox', '731', 'la1', '7ws', 'gr8', 'new', 'service', 'live', 'sex', 'video', 'chat', 'mob', 'see', 'sexiest', 'dirtiest', 'girls', 'live', 'ur', 'phone', '4', 'details', 'text', 'horny', '89070', 'cancel', 'send', 'stop', '89070', 'freemsg', 'hi', 'baby', 'wow', 'got', 'new', 'cam', 'moby', 'wan', 'na', 'c', 'hot', 'pic', 'fancy', 'chat', 'im', 'w8in', '4utxt', 'rply', 'chat', '82242', 'hlp', '08712317606', 'msg150p', '2rcv', 'wan', 'na', 'laugh', 'try', 'mobile', 'logon', 'txting', 'word', 'chat', 'send', '8883', 'cm', 'po', 'box', '4217', 'london', 'w1a', '6zf', 'rcvd', '2nd', 'attempt', 'contact', 'u', 'u', '09071512432', 'b4', '300603t', 'congratulations', 'ur', 'awarded', '500', 'cd', 'vouchers', '125gift', 'guaranteed', 'free', 'entry', '2', '100', 'wkly', 'draw', 'txt', 'music', '87066', 'contract', 'mobile', '11', 'mnths', 'latest', 'motorola', 'nokia', 'etc', 'free', 'double', 'mins', 'text', 'orange', 'tariffs', 'text', 'yes', 'callback', 'remove', 'records', 'urgent', 'call', '09066350750', 'landline', 'complimentary', '4', 'ibiza', 'holiday', 'cash', 'await', 'collection', 'sae', 'cs', 'po', 'box', '434', 'sk3', '8wp', '150', 'ppm', 'u', 'secret', 'admirer', 'looking', '2', 'make', 'contact', 'r', 'reveal', 'thinks', 'ur', 'freemsg', 'txt', 'call', '86888', 'claim', 'reward', '3', 'hours', 'talk', 'time', 'use', 'phone', 'inc', '3hrs', '16', 'stop', 'txtstop', 'sunshine', 'quiz', 'win', 'super', 'sony', 'dvd', 'recorder', 'canname', 'capital', 'australia', 'text', 'mquiz', 'b', 'todays', 'voda', 'numbers', 'ending', '7634', 'selected', 'receive', 'reward', 'match', 'please', 'call', '08712300220', 'quoting', 'claim', 'code', '7684', 'standard', 'rates', 'apply', 'ripped', 'get', 'mobile', 'content', 'call', '08717509990', 'six', 'downloads', '3', 'tried', 'contact', 'reply', 'offer', 'video', 'phone', '750', 'anytime', 'network', 'mins', 'half', 'price', 'line', 'rental', 'camcorder', 'reply', 'call', '08000930705', 'xmas', 'reward', 'waiting', 'computer', 'randomly', 'picked', 'loyal', 'mobile', 'customers', 'receive', 'reward', 'call', '09066380611', 'private', '2003', 'account', 'statement', 'shows', '800', 'points', 'call', '08718738002', 'identifier', 'code', '48922', 'expires', 'customer', 'service', 'announcement', 'recently', 'tried', 'make', 'delivery', 'unable', 'please', 'call', '07099833605', 'hi', 'babe', 'chloe', 'r', 'u', 'smashed', 'saturday', 'night', 'great', 'weekend', 'u', 'missing', 'sp', 'text', 'stop', 'stop', 'urgent', 'mobile', '07808726822', 'awarded', 'bonus', 'caller', 'prize', '2nd', 'attempt', 'contact', 'call', 'box95qu', 'free', 'game', 'get', 'rayman', 'golf', '4', 'free', 'o2', 'games', 'arcade', '1st', 'get', 'ur', 'games', 'settings', 'reply', 'post', 'save', 'activ8', 'press', '0', 'key', 'arcade', 'termsapply', 'mobile', '10', 'mths', 'update', 'latest', 'phones', 'free', 'keep', 'ur', 'number', 'get', 'extra', 'free', 'text', 'yes', 'call', 'weekly', 'tones', 'ready', 'download', 'weeks', 'new', 'tones', 'include', '1', 'crazy', 'f', '2', '3', 'black', 'p', 'info', 'n', 'get', 'lots', 'cash', 'weekend', 'dear', 'welcome', 'weekend', 'got', 'biggest', 'best', 'ever', 'cash', 'give', 'away', 'thanks', '4', 'continued', 'support', 'question', 'week', 'enter', 'u', 'in2', 'draw', '4', 'cash', 'name', 'new', 'us', 'president', 'txt', 'ans', '80082', 'unique', 'user', 'id', 'removal', 'send', 'stop', '87239', 'customer', 'services', '08708034412', 'urgent', '09066649731from', 'landline', 'complimentary', '4', 'ibiza', 'holiday', 'cash', 'await', 'collection', 'sae', 'cs', 'po', 'box', '434', 'sk3', '8wp', '150ppm', 'urgent', '2nd', 'attempt', 'contact', 'prize', 'yesterday', 'still', 'awaiting', 'collection', 'claim', 'call', '09061702893', 'santa', 'calling', 'would', 'little', 'ones', 'like', 'call', 'santa', 'xmas', 'eve', 'call', '09077818151', 'book', 'time', 'last', '3mins', '30s', 'c', 'private', '2004', 'account', 'statement', '078498', '7', 'shows', '786', 'unredeemed', 'bonus', 'points', 'claim', 'call', '08719180219', 'identifier', 'code', '45239', 'expires', 'check', 'choose', 'babe', 'videos', 'fgkslpopw', 'fgkslpo', 'u', 'r', 'winner', 'u', 'ave', 'specially', 'selected', '2', 'receive', 'cash', '4', 'holiday', 'flights', 'inc', 'speak', 'live', 'operator', '2', 'claim', '18', 'new', 'mobiles', '2004', 'must', 'go', 'txt', 'nokia', '89545', 'collect', 'today', '2optout', 'txtauction', 'private', '2003', 'account', 'statement', 'shows', '800', 'points', 'call', '08715203652', 'identifier', 'code', '42810', 'expires', 'valued', 'vodafone', 'customer', 'computer', 'picked', 'win', 'prize', 'collect', 'easy', 'call', '09061743386', 'free', 'message', 'thanks', 'using', 'auction', 'subscription', 'service', '18', '2', 'skip', 'auction', 'txt', '2', 'unsubscribe', 'txt', 'stop', 'customercare', '08718726270', 'lyricalladie', 'inviting', 'friend', 'reply', 'see', 'stop', 'send', 'stop', 'frnd', '62468', 'want', 'latest', 'video', 'handset', '750', 'anytime', 'network', 'mins', 'half', 'price', 'line', 'rental', 'reply', 'call', '08000930705', 'delivery', 'tomorrow', 'ou', 'guaranteed', 'latest', 'nokia', 'phone', '40gb', 'ipod', 'mp3', 'player', 'prize', 'txt', 'word', 'collect', '83355', 'ibhltd', 'ldnw15h', 'free', 'polyphonic', 'ringtone', 'text', 'super', '87131', 'get', 'free', 'poly', 'tone', 'week', '16', 'sn', 'pobox202', 'nr31', '7zs', 'subscription', '450pw', 'warner', 'village', '83118', 'c', 'colin', 'farrell', 'swat', 'wkend', 'warner', 'village', 'get', '1', 'free', 'med', 'popcorn', 'show', 'c', 'c', 'kiosk', 'reply', 'sony', '4', 'mre', 'film', 'offers', 'goal', 'arsenal', '4', 'henry', '7', 'v', 'liverpool', '2', 'henry', 'scores', 'simple', 'shot', '6', 'yards', 'pass', 'bergkamp', 'give', 'arsenal', '2', 'goal', 'margin', '78', 'mins', 'hi', 'sexychat', 'girls', 'waiting', 'text', 'text', 'great', 'night', 'chatting', 'send', 'stop', 'stop', 'service', 'hi', 'amy', 'sending', 'free', 'phone', 'number', 'couple', 'days', 'give', 'access', 'adult', 'parties', 'welcome', 'select', 'o2', 'service', 'added', 'benefits', 'call', 'specially', 'trained', 'advisors', 'free', 'mobile', 'dialling', '402', 'dear', 'voucher', 'holder', 'next', 'meal', 'us', 'use', 'following', 'link', 'pc', '2', 'enjoy', '2', '4', '1', 'dining', 'experiencehttp', 'urgent', 'trying', 'contact', 'todays', 'draw', 'shows', 'prize', 'guaranteed', 'call', '09058094507', 'land', 'line', 'claim', 'valid', '12hrs', 'donate', 'unicef', 'asian', 'tsunami', 'disaster', 'support', 'fund', 'texting', 'donate', 'added', 'next', 'bill', 'goldviking', 'inviting', 'friend', 'reply', 'see', 'stop', 'send', 'stop', 'frnd', '62468', 'phony', 'award', 'todays', 'voda', 'numbers', 'ending', 'xxxx', 'selected', 'receive', 'award', 'match', 'please', 'call', '08712300220', 'quoting', 'claim', 'code', '3100', 'standard', 'rates', 'app', 'cds', '4u', 'congratulations', 'ur', 'awarded', 'cd', 'gift', 'vouchers', 'gift', 'guaranteed', 'freeentry', '2', 'wkly', 'draw', 'xt', 'music', '87066', 'tncs', 'guaranteed', 'cash', 'prize', 'claim', 'yr', 'prize', 'call', 'customer', 'service', 'representative', '08714712412', 'cost', '10p', 'dear', '0776xxxxxxx', 'u', 'invited', 'xchat', 'final', 'attempt', 'contact', 'u', 'txt', 'chat', '86688', 'ldn', '18yrs', 'ur', 'currently', '500', 'pounds', 'maximize', 'ur', 'send', 'go', '86688', 'cc', '08718720201', 'private', '2003', 'account', 'statement', 'shows', '800', 'points', 'call', '08715203685', 'identifier', 'expires', 'like', 'tell', 'deepest', 'darkest', 'fantasies', 'call', '09094646631', 'stop', 'texts', 'call', '08712460324', 'nat', 'rate', 'natalie', 'inviting', 'friend', 'reply', 'see', 'stop', 'send', 'stop', 'frnd', '62468', 'jamster', 'get', 'free', 'wallpaper', 'text', 'heart', '88888', 'c', 'apply', '16', 'need', 'help', 'call', '08701213186', 'free', 'video', 'camera', 'phones', 'half', 'price', 'line', 'rental', '12', 'mths', '500', 'cross', 'ntwk', 'mins', '100', 'txts', 'call', 'mobileupd8', '08001950382', '83039', 'uk', 'break', 'accommodationvouchers', 'terms', 'conditions', 'apply', '2', 'claim', 'mustprovide', 'claim', 'number', '15541', '5p', '4', 'alfie', 'moon', 'children', 'need', 'song', 'ur', 'mob', 'tell', 'ur', 'm8s', 'txt', 'tone', 'charity', '8007', 'nokias', 'poly', 'charity', 'polys', 'zed', '08701417012', 'profit', '2', 'charity', 'win', 'shopping', 'spree', 'every', 'week', 'starting', '2', 'play', 'text', 'store', 'skilgme', 'tscs08714740323', '1winawk', 'age16', '2nd', 'attempt', 'contract', 'u', 'weeks', 'top', 'prize', 'either', 'cash', 'prize', 'call', '09066361921', 'want', 'new', 'nokia', '3510i', 'colour', 'phone', 'deliveredtomorrow', '300', 'free', 'minutes', 'mobile', '100', 'free', 'texts', 'free', 'camcorder', 'reply', 'call', '08000930705', 'themob', 'hit', 'link', 'get', 'premium', 'pink', 'panther', 'game', 'new', '1', 'sugababes', 'crazy', 'zebra', 'animation', 'badass', 'hoody', '4', 'free', 'msg', 'mobile', 'content', 'order', 'resent', 'previous', 'attempt', 'failed', 'due', 'network', 'error', 'queries', 'customersqueries', '1', 'new', 'message', 'please', 'call', '08715205273', 'december', 'mobile', 'entitled', 'update', 'latest', 'colour', 'camera', 'mobile', 'free', 'call', 'mobile', 'update', 'vco', 'free', '08002986906', 'get', '3', 'lions', 'england', 'tone', 'reply', 'lionm', '4', 'mono', 'lionp', '4', 'poly', '4', 'go', '2', 'original', 'n', 'best', 'tones', '3gbp', 'network', 'operator', 'rates', 'apply', 'private', '2003', 'account', 'statement', '078', '4', 'costa', 'del', 'sol', 'holiday', 'await', 'collection', 'call', '09050090044', 'toclaim', 'sae', 'tc', 'pobox334', 'stockport', 'sk38xh', 'max10mins', 'get', 'garden', 'ready', 'summer', 'free', 'selection', 'summer', 'bulbs', 'seeds', 'worth', 'scotsman', 'saturday', 'stop', 'go2', 'sms', 'auction', 'brand', 'new', 'nokia', '7250', '4', 'auction', 'today', 'auction', 'free', '2', 'join', 'take', 'part', 'txt', 'nokia', '86021', 'ree', 'entry', '2', 'weekly', 'comp', 'chance', 'win', 'ipod', 'txt', 'pod', '80182', 'get', 'entry', 'std', 'txt', 'rate', 'c', 'apply', '08452810073', 'details', 'records', 'indicate', 'u', 'maybe', 'entitled', '5000', 'pounds', 'compensation', 'accident', 'claim', '4', 'free', 'reply', 'claim', 'msg', '2', 'stop', 'txt', 'stop', 'spook', 'mob', 'halloween', 'collection', 'logo', 'pic', 'message', 'plus', 'free', 'eerie', 'tone', 'txt', 'card', 'spook', '8007', 'zed', '08701417012150p', 'per', 'call', 'germany', '1', 'pence', 'per', 'minute', 'call', 'fixed', 'line', 'via', 'access', 'number', '0844', '861', '85', 'prepayment', 'direct', 'access', 'mobile', '11mths', 'update', 'free', 'oranges', 'latest', 'colour', 'camera', 'mobiles', 'unlimited', 'weekend', 'calls', 'call', 'mobile', 'upd8', 'freefone', '08000839402', '2stoptxt', 'private', '2003', 'account', 'statement', 'fone', 'shows', '800', 'points', 'call', '08715203656', 'identifier', 'code', '42049', 'expires', 'someonone', 'know', 'trying', 'contact', 'via', 'dating', 'service', 'find', 'could', 'call', 'mobile', 'landline', '09064015307', 'box334sk38ch', 'urgent', 'please', 'call', '09061213237', 'landline', 'cash', '4', 'holiday', 'await', 'collection', 'cs', 'sae', 'po', 'box', '177', 'm227xy', 'prize', 'go', 'another', 'customer', 'c', 'polo', 'ltd', 'suite', '373', 'london', 'w1j', '6hl', 'please', 'call', 'back', 'busy', 'urgent', 'mobile', 'number', 'awarded', 'prize', 'guaranteed', 'call', '09061790126', 'land', 'line', 'claim', 'valid', '12hrs', '150ppm', 'urgent', 'please', 'call', '09061213237', 'landline', 'cash', 'luxury', '4', 'canary', 'islands', 'holiday', 'await', 'collection', 'cs', 'sae', 'po', 'box', 'm227xy', '150ppm', 'xmas', 'iscoming', 'ur', 'awarded', 'either', 'cd', 'gift', 'vouchers', 'free', 'entry', '2', 'r', 'weekly', 'draw', 'txt', 'music', '87066', 'tnc', 'u', 'r', 'subscribed', '2', 'textcomp', '250', 'wkly', 'comp', '1st', 'wk', 'free', 'question', 'follows', 'subsequent', 'wks', 'charged', 'unsubscribe', 'txt', 'stop', '2', '84128', 'custcare', '08712405020', 'call', '09095350301', 'send', 'girls', 'erotic', 'ecstacy', 'stop', 'texts', 'call', '08712460324', 'nat', 'rate', 'xmas', 'reward', 'waiting', 'computer', 'randomly', 'picked', 'loyal', 'mobile', 'customers', 'receive', 'reward', 'call', '09066380611', 'important', 'message', 'final', 'contact', 'attempt', 'important', 'messages', 'waiting', 'customer', 'claims', 'dept', 'expires', 'call', '08717507382', 'dating', 'two', 'started', 'sent', 'text', 'talk', 'sport', 'radio', 'last', 'week', 'connection', 'think', 'coincidence', 'current', 'leading', 'bid', 'pause', 'auction', 'send', 'customer', 'care', '08718726270', 'free', 'entry', 'gr8prizes', 'wkly', 'comp', '4', 'chance', 'win', 'latest', 'nokia', '8800', 'psp', 'cash', 'every', 'great', '80878', '08715705022', '1', 'new', 'message', 'call', 'santa', 'calling', 'would', 'little', 'ones', 'like', 'call', 'santa', 'xmas', 'eve', 'call', '09058094583', 'book', 'time', 'guaranteed', '32000', 'award', 'maybe', 'even', 'cash', 'claim', 'ur', 'award', 'call', 'free', '0800', 'legitimat', 'efreefone', 'number', 'wat', 'u', 'think', 'latest', 'news', 'police', 'station', 'toilet', 'stolen', 'cops', 'nothing', 'go', 'sparkling', 'shopping', 'breaks', '45', 'per', 'person', 'call', '0121', '2025050', 'visit', 'txt', 'call', '86888', 'claim', 'reward', '3', 'hours', 'talk', 'time', 'use', 'phone', 'inc', '3hrs', '16', 'stop', 'txtstop', 'wml', 'c', 'ringtoneåá', 'urgent', 'last', 'weekend', 'draw', 'shows', 'cash', 'spanish', 'holiday', 'call', '09050000332', 'claim', 'c', 'rstm', 'sw7', '3ss', '150ppm', 'urgent', 'trying', 'contact', 'last', 'weekends', 'draw', 'shows', 'u', 'prize', 'guaranteed', 'call', '09064017295', 'claim', 'code', 'k52', 'valid', '12hrs', '150p', 'pm', '2p', 'per', 'min', 'call', 'germany', '08448350055', 'bt', 'line', '2p', 'per', 'min', 'check', 'info', 'c', 'text', 'stop', 'opt', 'marvel', 'mobile', 'play', 'official', 'ultimate', 'game', 'ur', 'mobile', 'right', 'text', 'spider', '83338', 'game', 'send', 'u', 'free', '8ball', 'wallpaper', 'private', '2003', 'account', 'statement', '07808247860', 'shows', '800', 'points', 'call', '08719899229', 'identifier', 'code', '40411', 'expires', 'private', '2003', 'account', 'statement', 'shows', '800', 'points', 'call', '08718738001', 'identifier', 'code', '49557', 'expires', 'want', 'explicit', 'sex', '30', 'secs', 'ring', '02073162414', 'costs', 'gsex', 'pobox', '2667', 'wc1n', '3xx', 'asked', '3mobile', '0870', 'chatlines', 'inclu', 'free', 'mins', 'india', 'cust', 'servs', 'sed', 'yes', 'l8er', 'got', 'mega', 'bill', '3', 'dont', 'giv', 'shit', 'bailiff', 'due', 'days', '3', 'want', 'contract', 'mobile', '11', 'mnths', 'latest', 'motorola', 'nokia', 'etc', 'free', 'double', 'mins', 'text', 'orange', 'tariffs', 'text', 'yes', 'callback', 'remove', 'records', 'reminder', 'o2', 'get', 'pounds', 'free', 'call', 'credit', 'details', 'great', 'offers', 'pls', 'reply', '2', 'text', 'valid', 'name', 'house', 'postcode', '2nd', 'time', 'tried', '2', 'contact', 'u', 'pound', 'prize', '2', 'claim', 'easy', 'call', '087187272008', 'now1', '10p', 'per', 'minute']\n"
     ]
    }
   ],
   "source": [
    "print(spam_corpus)"
   ]
  },
  {
   "cell_type": "code",
   "execution_count": 48,
   "metadata": {
    "colab": {
     "base_uri": "https://localhost:8080/"
    },
    "id": "t4Kg2_xYahcz",
    "outputId": "a0992c41-ee58-4905-f6bc-60e31330d52f"
   },
   "outputs": [
    {
     "data": {
      "text/plain": [
       "9939"
      ]
     },
     "execution_count": 48,
     "metadata": {},
     "output_type": "execute_result"
    }
   ],
   "source": [
    "len(spam_corpus)"
   ]
  },
  {
   "cell_type": "code",
   "execution_count": 49,
   "metadata": {
    "colab": {
     "base_uri": "https://localhost:8080/",
     "height": 383
    },
    "id": "hDgdjzjCaqez",
    "outputId": "401b3386-194d-4be0-d2e7-b121a68dae6a"
   },
   "outputs": [
    {
     "name": "stderr",
     "output_type": "stream",
     "text": [
      "A:\\Anaconda3\\lib\\site-packages\\seaborn\\_decorators.py:36: FutureWarning: Pass the following variables as keyword args: x, y. From version 0.12, the only valid positional argument will be `data`, and passing other arguments without an explicit keyword will result in an error or misinterpretation.\n",
      "  warnings.warn(\n"
     ]
    },
    {
     "data": {
      "image/png": "[encoded data removed]",
      "text/plain": [
       "<Figure size 432x288 with 1 Axes>"
      ]
     },
     "metadata": {
      "needs_background": "light"
     },
     "output_type": "display_data"
    }
   ],
   "source": [
    "from collections import Counter\n",
    "sns.barplot(pd.DataFrame(Counter(spam_corpus).most_common(30))[0],pd.DataFrame(Counter(spam_corpus).most_common(30))[1])\n",
    "plt.xticks(rotation='vertical')\n",
    "plt.show()"
   ]
  },
  {
   "cell_type": "code",
   "execution_count": 50,
   "metadata": {
    "id": "zYOxfGhia-hK"
   },
   "outputs": [],
   "source": [
    "ham_corpus = []\n",
    "for msg in dataset[dataset['target'] == 0]['transform_text'].tolist():\n",
    "    for word in msg.split():\n",
    "        ham_corpus.append(word)"
   ]
  },
  {
   "cell_type": "code",
   "execution_count": 51,
   "metadata": {
    "colab": {
     "base_uri": "https://localhost:8080/"
    },
    "id": "nhSBe4rMbLBz",
    "outputId": "f8cf66e1-58e6-402c-cf31-f44a237adf12"
   },
   "outputs": [
    {
     "data": {
      "text/plain": [
       "35402"
      ]
     },
     "execution_count": 51,
     "metadata": {},
     "output_type": "execute_result"
    }
   ],
   "source": [
    "len(ham_corpus)"
   ]
  },
  {
   "cell_type": "code",
   "execution_count": 52,
   "metadata": {
    "colab": {
     "base_uri": "https://localhost:8080/",
     "height": 354
    },
    "id": "1CGOwhn4bOQ6",
    "outputId": "09d7b315-22a4-4ada-c16e-b13ea3713680"
   },
   "outputs": [
    {
     "name": "stderr",
     "output_type": "stream",
     "text": [
      "A:\\Anaconda3\\lib\\site-packages\\seaborn\\_decorators.py:36: FutureWarning: Pass the following variables as keyword args: x, y. From version 0.12, the only valid positional argument will be `data`, and passing other arguments without an explicit keyword will result in an error or misinterpretation.\n",
      "  warnings.warn(\n"
     ]
    },
    {
     "data": {
      "image/png": "[encoded data removed]",
      "text/plain": [
       "<Figure size 432x288 with 1 Axes>"
      ]
     },
     "metadata": {
      "needs_background": "light"
     },
     "output_type": "display_data"
    }
   ],
   "source": [
    "from collections import Counter\n",
    "sns.barplot(pd.DataFrame(Counter(ham_corpus).most_common(30))[0],pd.DataFrame(Counter(ham_corpus).most_common(30))[1])\n",
    "plt.xticks(rotation='vertical')\n",
    "plt.show()"
   ]
  },
  {
   "cell_type": "markdown",
   "metadata": {
    "id": "5fMUlY61bjfG"
   },
   "source": [
    "# 4 Model Building\n"
   ]
  },
  {
   "cell_type": "markdown",
   "metadata": {
    "id": "r2CUWmJ2bnuW"
   },
   "source": [
    "Test Vectorization Using Of Bags"
   ]
  },
  {
   "cell_type": "code",
   "execution_count": 53,
   "metadata": {
    "colab": {
     "base_uri": "https://localhost:8080/",
     "height": 424
    },
    "id": "ikaDVYSDbmNi",
    "outputId": "cf43f312-4b04-4178-ec8c-d0b24583ed55"
   },
   "outputs": [
    {
     "data": {
      "text/html": [
       "<div>\n",
       "<style scoped>\n",
       "    .dataframe tbody tr th:only-of-type {\n",
       "        vertical-align: middle;\n",
       "    }\n",
       "\n",
       "    .dataframe tbody tr th {\n",
       "        vertical-align: top;\n",
       "    }\n",
       "\n",
       "    .dataframe thead th {\n",
       "        text-align: right;\n",
       "    }\n",
       "</style>\n",
       "<table border=\"1\" class=\"dataframe\">\n",
       "  <thead>\n",
       "    <tr style=\"text-align: right;\">\n",
       "      <th></th>\n",
       "      <th>target</th>\n",
       "      <th>text</th>\n",
       "      <th>num_characters</th>\n",
       "      <th>num_words</th>\n",
       "      <th>num_sentences</th>\n",
       "      <th>transform_text</th>\n",
       "    </tr>\n",
       "  </thead>\n",
       "  <tbody>\n",
       "    <tr>\n",
       "      <th>0</th>\n",
       "      <td>0</td>\n",
       "      <td>Go until jurong point, crazy.. Available only ...</td>\n",
       "      <td>111</td>\n",
       "      <td>24</td>\n",
       "      <td>2</td>\n",
       "      <td>go jurong point crazy available bugis n great ...</td>\n",
       "    </tr>\n",
       "    <tr>\n",
       "      <th>1</th>\n",
       "      <td>0</td>\n",
       "      <td>Ok lar... Joking wif u oni...</td>\n",
       "      <td>29</td>\n",
       "      <td>8</td>\n",
       "      <td>2</td>\n",
       "      <td>ok lar joking wif u oni</td>\n",
       "    </tr>\n",
       "    <tr>\n",
       "      <th>2</th>\n",
       "      <td>1</td>\n",
       "      <td>Free entry in 2 a wkly comp to win FA Cup fina...</td>\n",
       "      <td>155</td>\n",
       "      <td>37</td>\n",
       "      <td>2</td>\n",
       "      <td>free entry 2 wkly comp win fa cup final tkts 2...</td>\n",
       "    </tr>\n",
       "    <tr>\n",
       "      <th>3</th>\n",
       "      <td>0</td>\n",
       "      <td>U dun say so early hor... U c already then say...</td>\n",
       "      <td>49</td>\n",
       "      <td>13</td>\n",
       "      <td>1</td>\n",
       "      <td>u dun say early hor u c already say</td>\n",
       "    </tr>\n",
       "    <tr>\n",
       "      <th>4</th>\n",
       "      <td>0</td>\n",
       "      <td>Nah I don't think he goes to usf, he lives aro...</td>\n",
       "      <td>61</td>\n",
       "      <td>15</td>\n",
       "      <td>1</td>\n",
       "      <td>nah think goes usf lives around though</td>\n",
       "    </tr>\n",
       "  </tbody>\n",
       "</table>\n",
       "</div>"
      ],
      "text/plain": [
       "   target                                               text  num_characters  \\\n",
       "0       0  Go until jurong point, crazy.. Available only ...             111   \n",
       "1       0                      Ok lar... Joking wif u oni...              29   \n",
       "2       1  Free entry in 2 a wkly comp to win FA Cup fina...             155   \n",
       "3       0  U dun say so early hor... U c already then say...              49   \n",
       "4       0  Nah I don't think he goes to usf, he lives aro...              61   \n",
       "\n",
       "   num_words  num_sentences                                     transform_text  \n",
       "0         24              2  go jurong point crazy available bugis n great ...  \n",
       "1          8              2                            ok lar joking wif u oni  \n",
       "2         37              2  free entry 2 wkly comp win fa cup final tkts 2...  \n",
       "3         13              1                u dun say early hor u c already say  \n",
       "4         15              1             nah think goes usf lives around though  "
      ]
     },
     "execution_count": 53,
     "metadata": {},
     "output_type": "execute_result"
    }
   ],
   "source": [
    "dataset.head()"
   ]
  },
  {
   "cell_type": "code",
   "execution_count": 54,
   "metadata": {
    "id": "QORyy9YzbsTC"
   },
   "outputs": [],
   "source": [
    "from sklearn.feature_extraction.text import CountVectorizer,TfidfVectorizer \n",
    "cv = CountVectorizer()\n",
    "tfidf= TfidfVectorizer(max_features=3000)"
   ]
  },
  {
   "cell_type": "code",
   "execution_count": 55,
   "metadata": {
    "id": "YEBh07w8b5ZK"
   },
   "outputs": [],
   "source": [
    "X = tfidf.fit_transform(dataset['transform_text']).toarray()"
   ]
  },
  {
   "cell_type": "code",
   "execution_count": 56,
   "metadata": {
    "colab": {
     "base_uri": "https://localhost:8080/"
    },
    "id": "yQIZUoI-cGPr",
    "outputId": "aa4ee224-e6b7-4497-a066-5a8b1b2d0e6b"
   },
   "outputs": [
    {
     "data": {
      "text/plain": [
       "array([[0., 0., 0., ..., 0., 0., 0.],\n",
       "       [0., 0., 0., ..., 0., 0., 0.],\n",
       "       [0., 0., 0., ..., 0., 0., 0.],\n",
       "       ...,\n",
       "       [0., 0., 0., ..., 0., 0., 0.],\n",
       "       [0., 0., 0., ..., 0., 0., 0.],\n",
       "       [0., 0., 0., ..., 0., 0., 0.]])"
      ]
     },
     "execution_count": 56,
     "metadata": {},
     "output_type": "execute_result"
    }
   ],
   "source": [
    "X"
   ]
  },
  {
   "cell_type": "code",
   "execution_count": 57,
   "metadata": {},
   "outputs": [],
   "source": [
    "#from sklearn.preprocessing import MinMaxScaler\n",
    "#scaler = MinMaxScaler()\n",
    "#X = scaler.fit_transform(X)\n"
   ]
  },
  {
   "cell_type": "code",
   "execution_count": 58,
   "metadata": {},
   "outputs": [],
   "source": [
    "# appending the num_character col to X\n",
    "#X = np.hstack((X,df['num_characters'].values.reshape(-1,1)))"
   ]
  },
  {
   "cell_type": "code",
   "execution_count": 59,
   "metadata": {
    "colab": {
     "base_uri": "https://localhost:8080/"
    },
    "id": "u0ZcyunwcWC6",
    "outputId": "1f1df678-48b1-4cad-b411-0824700c13df"
   },
   "outputs": [
    {
     "data": {
      "text/plain": [
       "(5169, 3000)"
      ]
     },
     "execution_count": 59,
     "metadata": {},
     "output_type": "execute_result"
    }
   ],
   "source": [
    "X.shape"
   ]
  },
  {
   "cell_type": "code",
   "execution_count": 60,
   "metadata": {
    "id": "FjBYEem_dGu9"
   },
   "outputs": [],
   "source": [
    "y = dataset['target'].values"
   ]
  },
  {
   "cell_type": "code",
   "execution_count": 61,
   "metadata": {
    "id": "fGMKgoOKcYBh"
   },
   "outputs": [],
   "source": [
    "from sklearn.model_selection import train_test_split\n",
    "X_train , X_test,y_train, y_test = train_test_split(X,y,test_size =0.2,random_state= 2)"
   ]
  },
  {
   "cell_type": "code",
   "execution_count": 62,
   "metadata": {
    "id": "nxCkRkR6dGFM"
   },
   "outputs": [],
   "source": [
    "from sklearn.naive_bayes import GaussianNB,MultinomialNB,BernoulliNB\n",
    "from sklearn.metrics import accuracy_score,confusion_matrix,precision_score"
   ]
  },
  {
   "cell_type": "code",
   "execution_count": 63,
   "metadata": {
    "id": "GvHdMBLKdbpp"
   },
   "outputs": [],
   "source": [
    "gnb = GaussianNB()\n",
    "mnb = MultinomialNB()\n",
    "bnb = BernoulliNB()"
   ]
  },
  {
   "cell_type": "code",
   "execution_count": 62,
   "metadata": {
    "colab": {
     "base_uri": "https://localhost:8080/"
    },
    "id": "2td9DKBUdq0o",
    "outputId": "979d1880-7e2c-4406-8be1-1dd1aac6984c"
   },
   "outputs": [
    {
     "name": "stdout",
     "output_type": "stream",
     "text": [
      "0.8829787234042553\n",
      "[[800  96]\n",
      " [ 25 113]]\n",
      "0.5406698564593302\n"
     ]
    }
   ],
   "source": [
    "gnb.fit(X_train,y_train)\n",
    "y_pred1 = gnb.predict(X_test)\n",
    "print(accuracy_score(y_test,y_pred1))\n",
    "print(confusion_matrix(y_test,y_pred1))\n",
    "print(precision_score(y_test,y_pred1))"
   ]
  },
  {
   "cell_type": "code",
   "execution_count": 64,
   "metadata": {
    "colab": {
     "base_uri": "https://localhost:8080/"
    },
    "id": "mps-Pf5idu3I",
    "outputId": "74ec0b9d-2e4e-4486-fdca-b54effa8625c"
   },
   "outputs": [
    {
     "name": "stdout",
     "output_type": "stream",
     "text": [
      "0.9738878143133463\n",
      "[[896   0]\n",
      " [ 27 111]]\n",
      "1.0\n"
     ]
    }
   ],
   "source": [
    "mnb.fit(X_train,y_train)\n",
    "y_pred2 = mnb.predict(X_test)\n",
    "print(accuracy_score(y_test,y_pred2))\n",
    "print(confusion_matrix(y_test,y_pred2))\n",
    "print(precision_score(y_test,y_pred2))"
   ]
  },
  {
   "cell_type": "code",
   "execution_count": 64,
   "metadata": {
    "colab": {
     "base_uri": "https://localhost:8080/"
    },
    "id": "08LBaQe1dvTA",
    "outputId": "ba72a90e-8ca1-48b6-fc51-229326ff7ced"
   },
   "outputs": [
    {
     "name": "stdout",
     "output_type": "stream",
     "text": [
      "0.9816247582205029\n",
      "[[895   1]\n",
      " [ 18 120]]\n",
      "0.9917355371900827\n"
     ]
    }
   ],
   "source": [
    "bnb.fit(X_train,y_train)\n",
    "y_pred3 = bnb.predict(X_test)\n",
    "print(accuracy_score(y_test,y_pred3))\n",
    "print(confusion_matrix(y_test,y_pred3))\n",
    "print(precision_score(y_test,y_pred3))"
   ]
  },
  {
   "cell_type": "markdown",
   "metadata": {
    "id": "Go5TAyDnep0z"
   },
   "source": [
    "Tfibf --> MNB"
   ]
  },
  {
   "cell_type": "code",
   "execution_count": 65,
   "metadata": {
    "id": "T1nekzwmdxeA"
   },
   "outputs": [],
   "source": [
    "from sklearn.linear_model import LogisticRegression\n",
    "from sklearn.svm import SVC\n",
    "from sklearn.naive_bayes import MultinomialNB\n",
    "from sklearn.tree import DecisionTreeClassifier\n",
    "from sklearn.neighbors import KNeighborsClassifier\n",
    "from sklearn.ensemble import RandomForestClassifier\n",
    "from sklearn.ensemble import AdaBoostClassifier\n",
    "from sklearn.ensemble import BaggingClassifier\n",
    "from sklearn.ensemble import ExtraTreesClassifier\n",
    "from sklearn.ensemble import GradientBoostingClassifier\n",
    "from xgboost import XGBClassifier"
   ]
  },
  {
   "cell_type": "code",
   "execution_count": 66,
   "metadata": {
    "id": "5HTGidJTeweN"
   },
   "outputs": [],
   "source": [
    "svc = SVC(kernel='sigmoid', gamma=1.0)\n",
    "knc = KNeighborsClassifier()\n",
    "mnb = MultinomialNB()\n",
    "dtc = DecisionTreeClassifier(max_depth=5)\n",
    "lrc = LogisticRegression(solver='liblinear', penalty='l1')\n",
    "rfc = RandomForestClassifier(n_estimators=50, random_state=2)\n",
    "abc = AdaBoostClassifier(n_estimators=50, random_state=2)\n",
    "bc = BaggingClassifier(n_estimators=50, random_state=2)\n",
    "etc = ExtraTreesClassifier(n_estimators=50, random_state=2)\n",
    "gbdt = GradientBoostingClassifier(n_estimators=50,random_state=2)\n",
    "xgb = XGBClassifier(n_estimators=50,random_state=2)"
   ]
  },
  {
   "cell_type": "code",
   "execution_count": 67,
   "metadata": {
    "id": "A5dzNzise7wv"
   },
   "outputs": [],
   "source": [
    "clfs = {\n",
    "    'SVC' : svc,\n",
    "    'KN' : knc, \n",
    "    'NB': mnb, \n",
    "    'DT': dtc, \n",
    "    'LR': lrc, \n",
    "    'RF': rfc, \n",
    "    'AdaBoost': abc, \n",
    "    'BgC': bc, \n",
    "    'ETC': etc,\n",
    "    'GBDT':gbdt,\n",
    "    'xgb':xgb\n",
    "}"
   ]
  },
  {
   "cell_type": "code",
   "execution_count": 68,
   "metadata": {
    "id": "MC521YWDfG0H"
   },
   "outputs": [],
   "source": [
    "def train_classifier(clf,X_train,y_train,X_test,y_test):\n",
    "    clf.fit(X_train,y_train)\n",
    "    y_pred = clf.predict(X_test)\n",
    "    accuracy = accuracy_score(y_test,y_pred)\n",
    "    precision = precision_score(y_test,y_pred)\n",
    "    \n",
    "    return accuracy,precision"
   ]
  },
  {
   "cell_type": "code",
   "execution_count": 69,
   "metadata": {
    "colab": {
     "base_uri": "https://localhost:8080/"
    },
    "id": "ZEhTWK4Rfk8n",
    "outputId": "2ffbca24-ad17-497e-fa6a-ddea32d34e9e"
   },
   "outputs": [
    {
     "data": {
      "text/plain": [
       "(0.9758220502901354, 0.9747899159663865)"
      ]
     },
     "execution_count": 69,
     "metadata": {},
     "output_type": "execute_result"
    }
   ],
   "source": [
    "train_classifier(svc,X_train,y_train,X_test,y_test)"
   ]
  },
  {
   "cell_type": "code",
   "execution_count": 70,
   "metadata": {
    "colab": {
     "base_uri": "https://localhost:8080/"
    },
    "id": "eJBz8oCRfnx2",
    "outputId": "91f1afe9-fb0f-4c7a-ccd4-676ee4740594"
   },
   "outputs": [
    {
     "name": "stdout",
     "output_type": "stream",
     "text": [
      "For  SVC\n",
      "Accuracy -  0.9758220502901354\n",
      "Precision -  0.9747899159663865\n",
      "For  KN\n",
      "Accuracy -  0.9081237911025145\n",
      "Precision -  1.0\n",
      "For  NB\n",
      "Accuracy -  0.9738878143133463\n",
      "Precision -  1.0\n",
      "For  DT\n",
      "Accuracy -  0.9352030947775629\n",
      "Precision -  0.8585858585858586\n",
      "For  LR\n",
      "Accuracy -  0.9506769825918762\n",
      "Precision -  0.9484536082474226\n",
      "For  RF\n",
      "Accuracy -  0.9748549323017408\n",
      "Precision -  0.9827586206896551\n",
      "For  AdaBoost\n",
      "Accuracy -  0.960348162475822\n",
      "Precision -  0.9369369369369369\n",
      "For  BgC\n",
      "Accuracy -  0.9642166344294004\n",
      "Precision -  0.8914728682170543\n",
      "For  ETC\n",
      "Accuracy -  0.9758220502901354\n",
      "Precision -  0.9747899159663865\n",
      "For  GBDT\n",
      "Accuracy -  0.9477756286266924\n",
      "Precision -  0.8962264150943396\n",
      "For  xgb\n",
      "Accuracy -  0.9680851063829787\n",
      "Precision -  0.9338842975206612\n"
     ]
    }
   ],
   "source": [
    "accuracy_scores = []\n",
    "precision_scores = []\n",
    "\n",
    "for name,clf in clfs.items():\n",
    "    \n",
    "    current_accuracy,current_precision = train_classifier(clf, X_train,y_train,X_test,y_test)\n",
    "    \n",
    "    print(\"For \",name)\n",
    "    print(\"Accuracy - \",current_accuracy)\n",
    "    print(\"Precision - \",current_precision)\n",
    "    \n",
    "    accuracy_scores.append(current_accuracy)\n",
    "    precision_scores.append(current_precision)"
   ]
  },
  {
   "cell_type": "code",
   "execution_count": 71,
   "metadata": {
    "id": "6rJWifA9fqeP"
   },
   "outputs": [],
   "source": [
    "performance_df = pd.DataFrame({'Algorithm':clfs.keys(),'Accuracy':accuracy_scores,'Precision':precision_scores}).sort_values('Precision',ascending=False)\n"
   ]
  },
  {
   "cell_type": "code",
   "execution_count": 72,
   "metadata": {
    "colab": {
     "base_uri": "https://localhost:8080/",
     "height": 394
    },
    "id": "xIHYdsI4f3OG",
    "outputId": "b91f0e90-9a0d-4355-abd6-985172f6bcbf"
   },
   "outputs": [
    {
     "data": {
      "text/html": [
       "<div>\n",
       "<style scoped>\n",
       "    .dataframe tbody tr th:only-of-type {\n",
       "        vertical-align: middle;\n",
       "    }\n",
       "\n",
       "    .dataframe tbody tr th {\n",
       "        vertical-align: top;\n",
       "    }\n",
       "\n",
       "    .dataframe thead th {\n",
       "        text-align: right;\n",
       "    }\n",
       "</style>\n",
       "<table border=\"1\" class=\"dataframe\">\n",
       "  <thead>\n",
       "    <tr style=\"text-align: right;\">\n",
       "      <th></th>\n",
       "      <th>Algorithm</th>\n",
       "      <th>Accuracy</th>\n",
       "      <th>Precision</th>\n",
       "    </tr>\n",
       "  </thead>\n",
       "  <tbody>\n",
       "    <tr>\n",
       "      <th>1</th>\n",
       "      <td>KN</td>\n",
       "      <td>0.908124</td>\n",
       "      <td>1.000000</td>\n",
       "    </tr>\n",
       "    <tr>\n",
       "      <th>2</th>\n",
       "      <td>NB</td>\n",
       "      <td>0.973888</td>\n",
       "      <td>1.000000</td>\n",
       "    </tr>\n",
       "    <tr>\n",
       "      <th>5</th>\n",
       "      <td>RF</td>\n",
       "      <td>0.974855</td>\n",
       "      <td>0.982759</td>\n",
       "    </tr>\n",
       "    <tr>\n",
       "      <th>0</th>\n",
       "      <td>SVC</td>\n",
       "      <td>0.975822</td>\n",
       "      <td>0.974790</td>\n",
       "    </tr>\n",
       "    <tr>\n",
       "      <th>8</th>\n",
       "      <td>ETC</td>\n",
       "      <td>0.975822</td>\n",
       "      <td>0.974790</td>\n",
       "    </tr>\n",
       "    <tr>\n",
       "      <th>4</th>\n",
       "      <td>LR</td>\n",
       "      <td>0.950677</td>\n",
       "      <td>0.948454</td>\n",
       "    </tr>\n",
       "    <tr>\n",
       "      <th>6</th>\n",
       "      <td>AdaBoost</td>\n",
       "      <td>0.960348</td>\n",
       "      <td>0.936937</td>\n",
       "    </tr>\n",
       "    <tr>\n",
       "      <th>10</th>\n",
       "      <td>xgb</td>\n",
       "      <td>0.968085</td>\n",
       "      <td>0.933884</td>\n",
       "    </tr>\n",
       "    <tr>\n",
       "      <th>9</th>\n",
       "      <td>GBDT</td>\n",
       "      <td>0.947776</td>\n",
       "      <td>0.896226</td>\n",
       "    </tr>\n",
       "    <tr>\n",
       "      <th>7</th>\n",
       "      <td>BgC</td>\n",
       "      <td>0.964217</td>\n",
       "      <td>0.891473</td>\n",
       "    </tr>\n",
       "    <tr>\n",
       "      <th>3</th>\n",
       "      <td>DT</td>\n",
       "      <td>0.935203</td>\n",
       "      <td>0.858586</td>\n",
       "    </tr>\n",
       "  </tbody>\n",
       "</table>\n",
       "</div>"
      ],
      "text/plain": [
       "   Algorithm  Accuracy  Precision\n",
       "1         KN  0.908124   1.000000\n",
       "2         NB  0.973888   1.000000\n",
       "5         RF  0.974855   0.982759\n",
       "0        SVC  0.975822   0.974790\n",
       "8        ETC  0.975822   0.974790\n",
       "4         LR  0.950677   0.948454\n",
       "6   AdaBoost  0.960348   0.936937\n",
       "10       xgb  0.968085   0.933884\n",
       "9       GBDT  0.947776   0.896226\n",
       "7        BgC  0.964217   0.891473\n",
       "3         DT  0.935203   0.858586"
      ]
     },
     "execution_count": 72,
     "metadata": {},
     "output_type": "execute_result"
    }
   ],
   "source": [
    "performance_df"
   ]
  },
  {
   "cell_type": "code",
   "execution_count": 73,
   "metadata": {
    "id": "wnHKkfDUihTM"
   },
   "outputs": [],
   "source": [
    "performance_df1 = pd.melt(performance_df, id_vars = \"Algorithm\")"
   ]
  },
  {
   "cell_type": "code",
   "execution_count": 74,
   "metadata": {
    "colab": {
     "base_uri": "https://localhost:8080/",
     "height": 739
    },
    "id": "RczTe1h4ikZ8",
    "outputId": "54281420-4ad9-4033-8b1f-cb5e8823ab15"
   },
   "outputs": [
    {
     "data": {
      "text/html": [
       "<div>\n",
       "<style scoped>\n",
       "    .dataframe tbody tr th:only-of-type {\n",
       "        vertical-align: middle;\n",
       "    }\n",
       "\n",
       "    .dataframe tbody tr th {\n",
       "        vertical-align: top;\n",
       "    }\n",
       "\n",
       "    .dataframe thead th {\n",
       "        text-align: right;\n",
       "    }\n",
       "</style>\n",
       "<table border=\"1\" class=\"dataframe\">\n",
       "  <thead>\n",
       "    <tr style=\"text-align: right;\">\n",
       "      <th></th>\n",
       "      <th>Algorithm</th>\n",
       "      <th>variable</th>\n",
       "      <th>value</th>\n",
       "    </tr>\n",
       "  </thead>\n",
       "  <tbody>\n",
       "    <tr>\n",
       "      <th>0</th>\n",
       "      <td>KN</td>\n",
       "      <td>Accuracy</td>\n",
       "      <td>0.908124</td>\n",
       "    </tr>\n",
       "    <tr>\n",
       "      <th>1</th>\n",
       "      <td>NB</td>\n",
       "      <td>Accuracy</td>\n",
       "      <td>0.973888</td>\n",
       "    </tr>\n",
       "    <tr>\n",
       "      <th>2</th>\n",
       "      <td>RF</td>\n",
       "      <td>Accuracy</td>\n",
       "      <td>0.974855</td>\n",
       "    </tr>\n",
       "    <tr>\n",
       "      <th>3</th>\n",
       "      <td>SVC</td>\n",
       "      <td>Accuracy</td>\n",
       "      <td>0.975822</td>\n",
       "    </tr>\n",
       "    <tr>\n",
       "      <th>4</th>\n",
       "      <td>ETC</td>\n",
       "      <td>Accuracy</td>\n",
       "      <td>0.975822</td>\n",
       "    </tr>\n",
       "    <tr>\n",
       "      <th>5</th>\n",
       "      <td>LR</td>\n",
       "      <td>Accuracy</td>\n",
       "      <td>0.950677</td>\n",
       "    </tr>\n",
       "    <tr>\n",
       "      <th>6</th>\n",
       "      <td>AdaBoost</td>\n",
       "      <td>Accuracy</td>\n",
       "      <td>0.960348</td>\n",
       "    </tr>\n",
       "    <tr>\n",
       "      <th>7</th>\n",
       "      <td>xgb</td>\n",
       "      <td>Accuracy</td>\n",
       "      <td>0.968085</td>\n",
       "    </tr>\n",
       "    <tr>\n",
       "      <th>8</th>\n",
       "      <td>GBDT</td>\n",
       "      <td>Accuracy</td>\n",
       "      <td>0.947776</td>\n",
       "    </tr>\n",
       "    <tr>\n",
       "      <th>9</th>\n",
       "      <td>BgC</td>\n",
       "      <td>Accuracy</td>\n",
       "      <td>0.964217</td>\n",
       "    </tr>\n",
       "    <tr>\n",
       "      <th>10</th>\n",
       "      <td>DT</td>\n",
       "      <td>Accuracy</td>\n",
       "      <td>0.935203</td>\n",
       "    </tr>\n",
       "    <tr>\n",
       "      <th>11</th>\n",
       "      <td>KN</td>\n",
       "      <td>Precision</td>\n",
       "      <td>1.000000</td>\n",
       "    </tr>\n",
       "    <tr>\n",
       "      <th>12</th>\n",
       "      <td>NB</td>\n",
       "      <td>Precision</td>\n",
       "      <td>1.000000</td>\n",
       "    </tr>\n",
       "    <tr>\n",
       "      <th>13</th>\n",
       "      <td>RF</td>\n",
       "      <td>Precision</td>\n",
       "      <td>0.982759</td>\n",
       "    </tr>\n",
       "    <tr>\n",
       "      <th>14</th>\n",
       "      <td>SVC</td>\n",
       "      <td>Precision</td>\n",
       "      <td>0.974790</td>\n",
       "    </tr>\n",
       "    <tr>\n",
       "      <th>15</th>\n",
       "      <td>ETC</td>\n",
       "      <td>Precision</td>\n",
       "      <td>0.974790</td>\n",
       "    </tr>\n",
       "    <tr>\n",
       "      <th>16</th>\n",
       "      <td>LR</td>\n",
       "      <td>Precision</td>\n",
       "      <td>0.948454</td>\n",
       "    </tr>\n",
       "    <tr>\n",
       "      <th>17</th>\n",
       "      <td>AdaBoost</td>\n",
       "      <td>Precision</td>\n",
       "      <td>0.936937</td>\n",
       "    </tr>\n",
       "    <tr>\n",
       "      <th>18</th>\n",
       "      <td>xgb</td>\n",
       "      <td>Precision</td>\n",
       "      <td>0.933884</td>\n",
       "    </tr>\n",
       "    <tr>\n",
       "      <th>19</th>\n",
       "      <td>GBDT</td>\n",
       "      <td>Precision</td>\n",
       "      <td>0.896226</td>\n",
       "    </tr>\n",
       "    <tr>\n",
       "      <th>20</th>\n",
       "      <td>BgC</td>\n",
       "      <td>Precision</td>\n",
       "      <td>0.891473</td>\n",
       "    </tr>\n",
       "    <tr>\n",
       "      <th>21</th>\n",
       "      <td>DT</td>\n",
       "      <td>Precision</td>\n",
       "      <td>0.858586</td>\n",
       "    </tr>\n",
       "  </tbody>\n",
       "</table>\n",
       "</div>"
      ],
      "text/plain": [
       "   Algorithm   variable     value\n",
       "0         KN   Accuracy  0.908124\n",
       "1         NB   Accuracy  0.973888\n",
       "2         RF   Accuracy  0.974855\n",
       "3        SVC   Accuracy  0.975822\n",
       "4        ETC   Accuracy  0.975822\n",
       "5         LR   Accuracy  0.950677\n",
       "6   AdaBoost   Accuracy  0.960348\n",
       "7        xgb   Accuracy  0.968085\n",
       "8       GBDT   Accuracy  0.947776\n",
       "9        BgC   Accuracy  0.964217\n",
       "10        DT   Accuracy  0.935203\n",
       "11        KN  Precision  1.000000\n",
       "12        NB  Precision  1.000000\n",
       "13        RF  Precision  0.982759\n",
       "14       SVC  Precision  0.974790\n",
       "15       ETC  Precision  0.974790\n",
       "16        LR  Precision  0.948454\n",
       "17  AdaBoost  Precision  0.936937\n",
       "18       xgb  Precision  0.933884\n",
       "19      GBDT  Precision  0.896226\n",
       "20       BgC  Precision  0.891473\n",
       "21        DT  Precision  0.858586"
      ]
     },
     "execution_count": 74,
     "metadata": {},
     "output_type": "execute_result"
    }
   ],
   "source": [
    "performance_df1"
   ]
  },
  {
   "cell_type": "code",
   "execution_count": 75,
   "metadata": {
    "colab": {
     "base_uri": "https://localhost:8080/",
     "height": 411
    },
    "id": "zBUYHASTimZ8",
    "outputId": "35c8f7e1-2b82-442b-f6c2-7f80831037bc"
   },
   "outputs": [
    {
     "data": {
      "image/png": "[encoded data removed]",
      "text/plain": [
       "<Figure size 441.75x360 with 1 Axes>"
      ]
     },
     "metadata": {
      "needs_background": "light"
     },
     "output_type": "display_data"
    }
   ],
   "source": [
    "sns.catplot(x = 'Algorithm', y='value', \n",
    "               hue = 'variable',data=performance_df1, kind='bar',height=5)\n",
    "plt.ylim(0.5,1.0)\n",
    "plt.xticks(rotation='vertical')\n",
    "plt.show()"
   ]
  },
  {
   "cell_type": "code",
   "execution_count": 76,
   "metadata": {
    "id": "vLpavO_HitTb"
   },
   "outputs": [],
   "source": [
    "# model improve\n",
    "# 1. Change the max_features parameter of TfIdf"
   ]
  },
  {
   "cell_type": "code",
   "execution_count": 77,
   "metadata": {
    "id": "EjRqR6pjjMME"
   },
   "outputs": [],
   "source": [
    "temp_df = pd.DataFrame({'Algorithm':clfs.keys(),'Accuracy_max_ft_3000':accuracy_scores,'Precision_max_ft_3000':precision_scores}).sort_values('Precision_max_ft_3000')"
   ]
  },
  {
   "cell_type": "code",
   "execution_count": 78,
   "metadata": {
    "id": "hKszbkYKjUwT"
   },
   "outputs": [],
   "source": [
    "temp_df = pd.DataFrame({'Algorithm':clfs.keys(),'Accuracy_scaling':accuracy_scores,'Precision_scaling':precision_scores}).sort_values('Precision_scaling',ascending=False)\n"
   ]
  },
  {
   "cell_type": "code",
   "execution_count": 79,
   "metadata": {
    "id": "XvXA_4d4jsUL"
   },
   "outputs": [],
   "source": [
    "new_df = performance_df.merge(temp_df,on='Algorithm')\n"
   ]
  },
  {
   "cell_type": "code",
   "execution_count": 80,
   "metadata": {
    "id": "sY4fq5UOjs1S"
   },
   "outputs": [],
   "source": [
    "new_df_scaled = new_df.merge(temp_df,on='Algorithm')\n"
   ]
  },
  {
   "cell_type": "code",
   "execution_count": 81,
   "metadata": {
    "id": "-dMulvuOjuUD"
   },
   "outputs": [],
   "source": [
    "temp_df = pd.DataFrame({'Algorithm':clfs.keys(),'Accuracy_num_chars':accuracy_scores,'Precision_num_chars':precision_scores}).sort_values('Precision_num_chars',ascending=False)\n"
   ]
  },
  {
   "cell_type": "code",
   "execution_count": 82,
   "metadata": {
    "colab": {
     "base_uri": "https://localhost:8080/",
     "height": 458
    },
    "id": "op12QIOcjv5C",
    "outputId": "60cd1221-05d8-46bc-cacb-ad7d844f73a6"
   },
   "outputs": [
    {
     "data": {
      "text/html": [
       "<div>\n",
       "<style scoped>\n",
       "    .dataframe tbody tr th:only-of-type {\n",
       "        vertical-align: middle;\n",
       "    }\n",
       "\n",
       "    .dataframe tbody tr th {\n",
       "        vertical-align: top;\n",
       "    }\n",
       "\n",
       "    .dataframe thead th {\n",
       "        text-align: right;\n",
       "    }\n",
       "</style>\n",
       "<table border=\"1\" class=\"dataframe\">\n",
       "  <thead>\n",
       "    <tr style=\"text-align: right;\">\n",
       "      <th></th>\n",
       "      <th>Algorithm</th>\n",
       "      <th>Accuracy</th>\n",
       "      <th>Precision</th>\n",
       "      <th>Accuracy_scaling_x</th>\n",
       "      <th>Precision_scaling_x</th>\n",
       "      <th>Accuracy_scaling_y</th>\n",
       "      <th>Precision_scaling_y</th>\n",
       "      <th>Accuracy_num_chars</th>\n",
       "      <th>Precision_num_chars</th>\n",
       "    </tr>\n",
       "  </thead>\n",
       "  <tbody>\n",
       "    <tr>\n",
       "      <th>0</th>\n",
       "      <td>KN</td>\n",
       "      <td>0.908124</td>\n",
       "      <td>1.000000</td>\n",
       "      <td>0.908124</td>\n",
       "      <td>1.000000</td>\n",
       "      <td>0.908124</td>\n",
       "      <td>1.000000</td>\n",
       "      <td>0.908124</td>\n",
       "      <td>1.000000</td>\n",
       "    </tr>\n",
       "    <tr>\n",
       "      <th>1</th>\n",
       "      <td>NB</td>\n",
       "      <td>0.973888</td>\n",
       "      <td>1.000000</td>\n",
       "      <td>0.973888</td>\n",
       "      <td>1.000000</td>\n",
       "      <td>0.973888</td>\n",
       "      <td>1.000000</td>\n",
       "      <td>0.973888</td>\n",
       "      <td>1.000000</td>\n",
       "    </tr>\n",
       "    <tr>\n",
       "      <th>2</th>\n",
       "      <td>RF</td>\n",
       "      <td>0.974855</td>\n",
       "      <td>0.982759</td>\n",
       "      <td>0.974855</td>\n",
       "      <td>0.982759</td>\n",
       "      <td>0.974855</td>\n",
       "      <td>0.982759</td>\n",
       "      <td>0.974855</td>\n",
       "      <td>0.982759</td>\n",
       "    </tr>\n",
       "    <tr>\n",
       "      <th>3</th>\n",
       "      <td>SVC</td>\n",
       "      <td>0.975822</td>\n",
       "      <td>0.974790</td>\n",
       "      <td>0.975822</td>\n",
       "      <td>0.974790</td>\n",
       "      <td>0.975822</td>\n",
       "      <td>0.974790</td>\n",
       "      <td>0.975822</td>\n",
       "      <td>0.974790</td>\n",
       "    </tr>\n",
       "    <tr>\n",
       "      <th>4</th>\n",
       "      <td>ETC</td>\n",
       "      <td>0.975822</td>\n",
       "      <td>0.974790</td>\n",
       "      <td>0.975822</td>\n",
       "      <td>0.974790</td>\n",
       "      <td>0.975822</td>\n",
       "      <td>0.974790</td>\n",
       "      <td>0.975822</td>\n",
       "      <td>0.974790</td>\n",
       "    </tr>\n",
       "    <tr>\n",
       "      <th>5</th>\n",
       "      <td>LR</td>\n",
       "      <td>0.950677</td>\n",
       "      <td>0.948454</td>\n",
       "      <td>0.950677</td>\n",
       "      <td>0.948454</td>\n",
       "      <td>0.950677</td>\n",
       "      <td>0.948454</td>\n",
       "      <td>0.950677</td>\n",
       "      <td>0.948454</td>\n",
       "    </tr>\n",
       "    <tr>\n",
       "      <th>6</th>\n",
       "      <td>AdaBoost</td>\n",
       "      <td>0.960348</td>\n",
       "      <td>0.936937</td>\n",
       "      <td>0.960348</td>\n",
       "      <td>0.936937</td>\n",
       "      <td>0.960348</td>\n",
       "      <td>0.936937</td>\n",
       "      <td>0.960348</td>\n",
       "      <td>0.936937</td>\n",
       "    </tr>\n",
       "    <tr>\n",
       "      <th>7</th>\n",
       "      <td>xgb</td>\n",
       "      <td>0.968085</td>\n",
       "      <td>0.933884</td>\n",
       "      <td>0.968085</td>\n",
       "      <td>0.933884</td>\n",
       "      <td>0.968085</td>\n",
       "      <td>0.933884</td>\n",
       "      <td>0.968085</td>\n",
       "      <td>0.933884</td>\n",
       "    </tr>\n",
       "    <tr>\n",
       "      <th>8</th>\n",
       "      <td>GBDT</td>\n",
       "      <td>0.947776</td>\n",
       "      <td>0.896226</td>\n",
       "      <td>0.947776</td>\n",
       "      <td>0.896226</td>\n",
       "      <td>0.947776</td>\n",
       "      <td>0.896226</td>\n",
       "      <td>0.947776</td>\n",
       "      <td>0.896226</td>\n",
       "    </tr>\n",
       "    <tr>\n",
       "      <th>9</th>\n",
       "      <td>BgC</td>\n",
       "      <td>0.964217</td>\n",
       "      <td>0.891473</td>\n",
       "      <td>0.964217</td>\n",
       "      <td>0.891473</td>\n",
       "      <td>0.964217</td>\n",
       "      <td>0.891473</td>\n",
       "      <td>0.964217</td>\n",
       "      <td>0.891473</td>\n",
       "    </tr>\n",
       "    <tr>\n",
       "      <th>10</th>\n",
       "      <td>DT</td>\n",
       "      <td>0.935203</td>\n",
       "      <td>0.858586</td>\n",
       "      <td>0.935203</td>\n",
       "      <td>0.858586</td>\n",
       "      <td>0.935203</td>\n",
       "      <td>0.858586</td>\n",
       "      <td>0.935203</td>\n",
       "      <td>0.858586</td>\n",
       "    </tr>\n",
       "  </tbody>\n",
       "</table>\n",
       "</div>"
      ],
      "text/plain": [
       "   Algorithm  Accuracy  Precision  Accuracy_scaling_x  Precision_scaling_x  \\\n",
       "0         KN  0.908124   1.000000            0.908124             1.000000   \n",
       "1         NB  0.973888   1.000000            0.973888             1.000000   \n",
       "2         RF  0.974855   0.982759            0.974855             0.982759   \n",
       "3        SVC  0.975822   0.974790            0.975822             0.974790   \n",
       "4        ETC  0.975822   0.974790            0.975822             0.974790   \n",
       "5         LR  0.950677   0.948454            0.950677             0.948454   \n",
       "6   AdaBoost  0.960348   0.936937            0.960348             0.936937   \n",
       "7        xgb  0.968085   0.933884            0.968085             0.933884   \n",
       "8       GBDT  0.947776   0.896226            0.947776             0.896226   \n",
       "9        BgC  0.964217   0.891473            0.964217             0.891473   \n",
       "10        DT  0.935203   0.858586            0.935203             0.858586   \n",
       "\n",
       "    Accuracy_scaling_y  Precision_scaling_y  Accuracy_num_chars  \\\n",
       "0             0.908124             1.000000            0.908124   \n",
       "1             0.973888             1.000000            0.973888   \n",
       "2             0.974855             0.982759            0.974855   \n",
       "3             0.975822             0.974790            0.975822   \n",
       "4             0.975822             0.974790            0.975822   \n",
       "5             0.950677             0.948454            0.950677   \n",
       "6             0.960348             0.936937            0.960348   \n",
       "7             0.968085             0.933884            0.968085   \n",
       "8             0.947776             0.896226            0.947776   \n",
       "9             0.964217             0.891473            0.964217   \n",
       "10            0.935203             0.858586            0.935203   \n",
       "\n",
       "    Precision_num_chars  \n",
       "0              1.000000  \n",
       "1              1.000000  \n",
       "2              0.982759  \n",
       "3              0.974790  \n",
       "4              0.974790  \n",
       "5              0.948454  \n",
       "6              0.936937  \n",
       "7              0.933884  \n",
       "8              0.896226  \n",
       "9              0.891473  \n",
       "10             0.858586  "
      ]
     },
     "execution_count": 82,
     "metadata": {},
     "output_type": "execute_result"
    }
   ],
   "source": [
    "new_df_scaled.merge(temp_df,on='Algorithm')\n"
   ]
  },
  {
   "cell_type": "code",
   "execution_count": 83,
   "metadata": {
    "id": "3wAK4UcVjxwb"
   },
   "outputs": [],
   "source": [
    "# Voting Classifier\n",
    "svc = SVC(kernel='sigmoid', gamma=1.0,probability=True)\n",
    "mnb = MultinomialNB()\n",
    "etc = ExtraTreesClassifier(n_estimators=50, random_state=2)\n",
    "\n",
    "from sklearn.ensemble import VotingClassifier"
   ]
  },
  {
   "cell_type": "code",
   "execution_count": 84,
   "metadata": {
    "id": "6jkqJMTdj03y"
   },
   "outputs": [],
   "source": [
    "voting = VotingClassifier(estimators=[('svm', svc), ('nb', mnb), ('et', etc)],voting='soft')\n"
   ]
  },
  {
   "cell_type": "code",
   "execution_count": 85,
   "metadata": {
    "id": "ARO1Pc9xj2Yq"
   },
   "outputs": [
    {
     "data": {
      "text/plain": [
       "VotingClassifier(estimators=[('svm',\n",
       "                              SVC(gamma=1.0, kernel='sigmoid',\n",
       "                                  probability=True)),\n",
       "                             ('nb', MultinomialNB()),\n",
       "                             ('et',\n",
       "                              ExtraTreesClassifier(n_estimators=50,\n",
       "                                                   random_state=2))],\n",
       "                 voting='soft')"
      ]
     },
     "execution_count": 85,
     "metadata": {},
     "output_type": "execute_result"
    }
   ],
   "source": [
    "voting.fit(X_train,y_train)\n"
   ]
  },
  {
   "cell_type": "code",
   "execution_count": 86,
   "metadata": {
    "id": "01fh6Mgvj4aC"
   },
   "outputs": [
    {
     "data": {
      "text/plain": [
       "VotingClassifier(estimators=[('svm',\n",
       "                              SVC(gamma=1.0, kernel='sigmoid',\n",
       "                                  probability=True)),\n",
       "                             ('nb', MultinomialNB()),\n",
       "                             ('et',\n",
       "                              ExtraTreesClassifier(n_estimators=50,\n",
       "                                                   random_state=2))],\n",
       "                 voting='soft')"
      ]
     },
     "execution_count": 86,
     "metadata": {},
     "output_type": "execute_result"
    }
   ],
   "source": [
    "VotingClassifier(estimators=[('svm',\n",
    "                              SVC(gamma=1.0, kernel='sigmoid',\n",
    "                                  probability=True)),\n",
    "                             ('nb', MultinomialNB()),\n",
    "                             ('et',\n",
    "                              ExtraTreesClassifier(n_estimators=50,\n",
    "                                                   random_state=2))],\n",
    "                 voting='soft')"
   ]
  },
  {
   "cell_type": "code",
   "execution_count": 87,
   "metadata": {
    "id": "N34GI2-Lj9qO"
   },
   "outputs": [
    {
     "name": "stdout",
     "output_type": "stream",
     "text": [
      "Accuracy 0.9835589941972921\n",
      "Precision 0.991869918699187\n"
     ]
    }
   ],
   "source": [
    "y_pred = voting.predict(X_test)\n",
    "print(\"Accuracy\",accuracy_score(y_test,y_pred))\n",
    "print(\"Precision\",precision_score(y_test,y_pred))"
   ]
  },
  {
   "cell_type": "code",
   "execution_count": 88,
   "metadata": {
    "id": "1uzsxXjckAFG"
   },
   "outputs": [],
   "source": [
    "# Applying stacking\n",
    "estimators=[('svm', svc), ('nb', mnb), ('et', etc)]\n",
    "final_estimator=RandomForestClassifier()"
   ]
  },
  {
   "cell_type": "code",
   "execution_count": 89,
   "metadata": {
    "id": "HpDEdk7AkB_m"
   },
   "outputs": [
    {
     "name": "stdout",
     "output_type": "stream",
     "text": [
      "Accuracy 0.9758220502901354\n",
      "Precision 0.924812030075188\n"
     ]
    }
   ],
   "source": [
    "from sklearn.ensemble import StackingClassifier\n",
    "clf = StackingClassifier(estimators=estimators, final_estimator=final_estimator)\n",
    "clf.fit(X_train,y_train)\n",
    "y_pred = clf.predict(X_test)\n",
    "print(\"Accuracy\",accuracy_score(y_test,y_pred))\n",
    "print(\"Precision\",precision_score(y_test,y_pred))"
   ]
  },
  {
   "cell_type": "markdown",
   "metadata": {
    "id": "kZK0tdVWkGLY"
   },
   "source": [
    "# Pickle\n"
   ]
  },
  {
   "cell_type": "code",
   "execution_count": 66,
   "metadata": {
    "id": "R1FoSRQxkIw6"
   },
   "outputs": [],
   "source": [
    "import pickle\n",
    "pickle.dump(tfidf,open('vectorizer.pkl','wb'))\n",
    "pickle.dump(mnb,open('model.pkl','wb'))"
   ]
  },
  {
   "cell_type": "code",
   "execution_count": null,
   "metadata": {},
   "outputs": [],
   "source": []
  }
 ],
 "metadata": {
  "colab": {
   "collapsed_sections": [],
   "name": "sms spam classifier.ipynb",
   "provenance": []
  },
  "kernelspec": {
   "display_name": "Python 3 (ipykernel)",
   "language": "python",
   "name": "python3"
  },
  "language_info": {
   "codemirror_mode": {
    "name": "ipython",
    "version": 3
   },
   "file_extension": ".py",
   "mimetype": "text/x-python",
   "name": "python",
   "nbconvert_exporter": "python",
   "pygments_lexer": "ipython3",
   "version": "3.9.7"
  }
 },
 "nbformat": 4,
 "nbformat_minor": 1
}
